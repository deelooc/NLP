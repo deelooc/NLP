{
 "cells": [
  {
   "cell_type": "code",
   "execution_count": 20,
   "metadata": {},
   "outputs": [],
   "source": [
    "import pandas as pd\n",
    "import numpy as np \n",
    "from numpy import linspace,hstack\n",
    "\n",
    "\n",
    "import warnings\n",
    "warnings.filterwarnings('ignore')\n",
    "\n",
    "\n",
    "import matplotlib.pyplot as plt\n",
    "from pylab import plot,show,hist, rcParams\n",
    "rcParams['figure.figsize'] = 10, 6\n",
    "\n",
    "\n",
    "from scipy.stats.kde import gaussian_kde"
   ]
  },
  {
   "cell_type": "markdown",
   "metadata": {},
   "source": [
    "#  Домашнее задание по NLP # 1 [100 баллов]\n",
    "## Классификация по тональности \n",
    "\n",
    "В этом домашнем задании вам предстоит классифицировать по тональности отзывы на банки с сайта banki.ru.\n",
    "\n",
    "Данные содержат непосредственно тексты отзывов, некоторую дополнительную информацию, а также оценку по шкале от 1 до 5. \n",
    "\n",
    "Тексты хранятся в json-ах в массиве responses."
   ]
  },
  {
   "cell_type": "markdown",
   "metadata": {},
   "source": [
    "# Реализация"
   ]
  },
  {
   "cell_type": "markdown",
   "metadata": {},
   "source": [
    "### Загрузка данных"
   ]
  },
  {
   "cell_type": "code",
   "execution_count": 2,
   "metadata": {},
   "outputs": [],
   "source": [
    "df = pd.read_json('banki_responses.json', lines=True)"
   ]
  },
  {
   "cell_type": "code",
   "execution_count": 3,
   "metadata": {},
   "outputs": [
    {
     "data": {
      "text/plain": [
       "(201030, 10)"
      ]
     },
     "execution_count": 3,
     "metadata": {},
     "output_type": "execute_result"
    }
   ],
   "source": [
    "df.shape"
   ]
  },
  {
   "cell_type": "code",
   "execution_count": 4,
   "metadata": {},
   "outputs": [
    {
     "data": {
      "text/html": [
       "<div>\n",
       "<style scoped>\n",
       "    .dataframe tbody tr th:only-of-type {\n",
       "        vertical-align: middle;\n",
       "    }\n",
       "\n",
       "    .dataframe tbody tr th {\n",
       "        vertical-align: top;\n",
       "    }\n",
       "\n",
       "    .dataframe thead th {\n",
       "        text-align: right;\n",
       "    }\n",
       "</style>\n",
       "<table border=\"1\" class=\"dataframe\">\n",
       "  <thead>\n",
       "    <tr style=\"text-align: right;\">\n",
       "      <th></th>\n",
       "      <th>author</th>\n",
       "      <th>bank_license</th>\n",
       "      <th>bank_name</th>\n",
       "      <th>city</th>\n",
       "      <th>datetime</th>\n",
       "      <th>num_comments</th>\n",
       "      <th>rating_grade</th>\n",
       "      <th>rating_not_checked</th>\n",
       "      <th>text</th>\n",
       "      <th>title</th>\n",
       "    </tr>\n",
       "  </thead>\n",
       "  <tbody>\n",
       "    <tr>\n",
       "      <th>0</th>\n",
       "      <td>e.novikova</td>\n",
       "      <td>лицензия № 1623</td>\n",
       "      <td>ВТБ 24</td>\n",
       "      <td>г. Воронеж</td>\n",
       "      <td>2015-06-08 11:06:56</td>\n",
       "      <td>0</td>\n",
       "      <td>5.0</td>\n",
       "      <td>True</td>\n",
       "      <td>Здравствуйте!  Хотелось бы выразить благодарно...</td>\n",
       "      <td>Ипотека на 5+</td>\n",
       "    </tr>\n",
       "    <tr>\n",
       "      <th>1</th>\n",
       "      <td>KZN\\Vorontsova_NA</td>\n",
       "      <td>лицензия № 2289</td>\n",
       "      <td>Русский Стандарт</td>\n",
       "      <td>г. Казань</td>\n",
       "      <td>2015-06-06 18:17:52</td>\n",
       "      <td>0</td>\n",
       "      <td>2.0</td>\n",
       "      <td>True</td>\n",
       "      <td>Уважаемые представители департамента по работе...</td>\n",
       "      <td>ЗВОНКИ СОСЕДЯМ</td>\n",
       "    </tr>\n",
       "    <tr>\n",
       "      <th>2</th>\n",
       "      <td>Evgenia15</td>\n",
       "      <td>лицензия № 2307</td>\n",
       "      <td>Союз</td>\n",
       "      <td>г. Санкт-Петербург</td>\n",
       "      <td>2015-06-07 19:08:33</td>\n",
       "      <td>0</td>\n",
       "      <td>2.0</td>\n",
       "      <td>True</td>\n",
       "      <td>Здравствуйте. Столкнулась с такой ситуацией. в...</td>\n",
       "      <td>Ложная информация!!!!</td>\n",
       "    </tr>\n",
       "  </tbody>\n",
       "</table>\n",
       "</div>"
      ],
      "text/plain": [
       "              author     bank_license         bank_name                city  \\\n",
       "0         e.novikova  лицензия № 1623            ВТБ 24          г. Воронеж   \n",
       "1  KZN\\Vorontsova_NA  лицензия № 2289  Русский Стандарт           г. Казань   \n",
       "2          Evgenia15  лицензия № 2307              Союз  г. Санкт-Петербург   \n",
       "\n",
       "             datetime  num_comments  rating_grade  rating_not_checked  \\\n",
       "0 2015-06-08 11:06:56             0           5.0                True   \n",
       "1 2015-06-06 18:17:52             0           2.0                True   \n",
       "2 2015-06-07 19:08:33             0           2.0                True   \n",
       "\n",
       "                                                text                  title  \n",
       "0  Здравствуйте!  Хотелось бы выразить благодарно...          Ипотека на 5+  \n",
       "1  Уважаемые представители департамента по работе...         ЗВОНКИ СОСЕДЯМ  \n",
       "2  Здравствуйте. Столкнулась с такой ситуацией. в...  Ложная информация!!!!  "
      ]
     },
     "execution_count": 4,
     "metadata": {},
     "output_type": "execute_result"
    }
   ],
   "source": [
    "df.head(3)"
   ]
  },
  {
   "cell_type": "code",
   "execution_count": 5,
   "metadata": {},
   "outputs": [
    {
     "name": "stdout",
     "output_type": "stream",
     "text": [
      "<class 'pandas.core.frame.DataFrame'>\n",
      "Int64Index: 201030 entries, 0 to 201029\n",
      "Data columns (total 10 columns):\n",
      "author                201009 non-null object\n",
      "bank_license          201026 non-null object\n",
      "bank_name             201030 non-null object\n",
      "city                  185492 non-null object\n",
      "datetime              201030 non-null datetime64[ns]\n",
      "num_comments          201030 non-null int64\n",
      "rating_grade          136189 non-null float64\n",
      "rating_not_checked    201030 non-null bool\n",
      "text                  201030 non-null object\n",
      "title                 201030 non-null object\n",
      "dtypes: bool(1), datetime64[ns](1), float64(1), int64(1), object(6)\n",
      "memory usage: 15.5+ MB\n"
     ]
    }
   ],
   "source": [
    "df.info()"
   ]
  },
  {
   "cell_type": "markdown",
   "metadata": {},
   "source": [
    "### Небольшой preprocessing (сделаем дата сет легче)\n",
    "- удалим лишние признаки\n",
    "- обработаем пропуски (тоже удалим все сэмплы с пропусками)"
   ]
  },
  {
   "cell_type": "code",
   "execution_count": 6,
   "metadata": {},
   "outputs": [
    {
     "name": "stdout",
     "output_type": "stream",
     "text": [
      "(201030, 6)\n"
     ]
    }
   ],
   "source": [
    "#удалим лишние столбцы\n",
    "df_r = df.drop(['bank_license', 'datetime', 'rating_not_checked', 'num_comments', ], axis=1)\n",
    "print(df_r.shape)"
   ]
  },
  {
   "cell_type": "code",
   "execution_count": 7,
   "metadata": {},
   "outputs": [
    {
     "name": "stdout",
     "output_type": "stream",
     "text": [
      "<class 'pandas.core.frame.DataFrame'>\n",
      "Int64Index: 201030 entries, 0 to 201029\n",
      "Data columns (total 6 columns):\n",
      "author          201009 non-null object\n",
      "bank_name       201030 non-null object\n",
      "city            185492 non-null object\n",
      "rating_grade    136189 non-null float64\n",
      "text            201030 non-null object\n",
      "title           201030 non-null object\n",
      "dtypes: float64(1), object(5)\n",
      "memory usage: 10.7+ MB\n"
     ]
    }
   ],
   "source": [
    "#посмотрим на наличие/отсутствие пропусков\n",
    "df_r.info()"
   ]
  },
  {
   "cell_type": "code",
   "execution_count": 8,
   "metadata": {},
   "outputs": [
    {
     "name": "stdout",
     "output_type": "stream",
     "text": [
      "(121876, 6)\n"
     ]
    }
   ],
   "source": [
    "#удалим прпуски\n",
    "df_r = df_r.dropna()\n",
    "print(df_r.shape)"
   ]
  },
  {
   "cell_type": "code",
   "execution_count": 8,
   "metadata": {},
   "outputs": [
    {
     "name": "stdout",
     "output_type": "stream",
     "text": [
      "<class 'pandas.core.frame.DataFrame'>\n",
      "Int64Index: 201030 entries, 0 to 201029\n",
      "Data columns (total 6 columns):\n",
      "author          201009 non-null object\n",
      "bank_name       201030 non-null object\n",
      "city            185492 non-null object\n",
      "rating_grade    136189 non-null float64\n",
      "text            201030 non-null object\n",
      "title           201030 non-null object\n",
      "dtypes: float64(1), object(5)\n",
      "memory usage: 10.7+ MB\n"
     ]
    }
   ],
   "source": [
    "df_r.info()"
   ]
  },
  {
   "cell_type": "markdown",
   "metadata": {},
   "source": [
    "## Часть 1. Анализ текстов [40/100]\n",
    "\n",
    "1. Посчитайте количество отзывов в разных городах и на разные банки\n",
    "2. Постройте гистограмы длин слов в символах и в словах\n",
    "3. Найдите 10 самых частых:\n",
    "    * слов\n",
    "    * слов без стоп-слов\n",
    "    * лемм \n",
    "    * существительных\n",
    "4. Постройте кривые Ципфа и Хипса\n",
    "5. Ответьте на следующие вопросы:\n",
    "    * какое слово встречается чаще, \"сотрудник\" или \"клиент\"?\n",
    "    * сколько раз встречается слова \"мошенничество\" и \"доверие\"?\n",
    "6. В поле \"rating_grade\" записана оценка отзыва по шкале от 1 до 5. Используйте меру $tf-idf$, для того, чтобы найти ключевые слова и биграмы для положительных отзывов (с оценкой 5) и отрицательных отзывов (с оценкой 1)"
   ]
  },
  {
   "cell_type": "markdown",
   "metadata": {},
   "source": [
    "### 1. Посчитайте количество отзывов в разных городах и на разные банки\n",
    "\n"
   ]
  },
  {
   "cell_type": "code",
   "execution_count": 9,
   "metadata": {},
   "outputs": [
    {
     "data": {
      "text/plain": [
       "г. Москва             73715\n",
       "г. Санкт-Петербург    18614\n",
       "г. Екатеринбург        3211\n",
       "г. Новосибирск         3081\n",
       "г. Нижний Новгород     2596\n",
       "г. Ростов-на-Дону      2539\n",
       "г. Самара              2346\n",
       "г. Челябинск           2046\n",
       "г. Казань              2026\n",
       "г. москва              1827\n",
       "г. Краснодар           1790\n",
       "г. Уфа                 1695\n",
       "г. Красноярск          1638\n",
       "г. Воронеж             1610\n",
       "г. Пермь               1569\n",
       "Name: city, dtype: int64"
      ]
     },
     "execution_count": 9,
     "metadata": {},
     "output_type": "execute_result"
    }
   ],
   "source": [
    "#посмотрим на кол-во уникальных городов\n",
    "df_r['city'].value_counts().head(15)"
   ]
  },
  {
   "cell_type": "code",
   "execution_count": 10,
   "metadata": {},
   "outputs": [],
   "source": [
    "#немного причешем названия городов\n",
    "mystopwords = ['г.', '( )', '***', '....', '...', '..', '----', ',', ',д.',]\n",
    "def  rem_SW(text, mystopwords = mystopwords):\n",
    "    try:\n",
    "        return \" \".join([w for w in text.split() if not w in mystopwords])\n",
    "    except:\n",
    "        return \"\""
   ]
  },
  {
   "cell_type": "code",
   "execution_count": 11,
   "metadata": {},
   "outputs": [],
   "source": [
    "#удалим стоп слова\n",
    "df_r['city_n']= df_r.city.apply(rem_SW) "
   ]
  },
  {
   "cell_type": "code",
   "execution_count": 12,
   "metadata": {},
   "outputs": [],
   "source": [
    "#посмотрим на распределения отзовов по городам к банку и по банкам к городу\n",
    "by_bank = df_r.groupby(['bank_name', 'city_n'])['author'].count()\n",
    "by_city = df_r.groupby(['city_n', 'bank_name'])['author'].count()"
   ]
  },
  {
   "cell_type": "markdown",
   "metadata": {},
   "source": [
    "- распределение кол-ва отзовов в разных городах о банках"
   ]
  },
  {
   "cell_type": "code",
   "execution_count": 14,
   "metadata": {},
   "outputs": [
    {
     "data": {
      "text/plain": [
       "city_n                         bank_name                                           \n",
       "… или другой населенный пункт  Лето Банк                                               1\n",
       "ярцево                         Сбербанк России                                         1\n",
       "                               Национальный Банк «Траст»                               1\n",
       "                               Восточный Экспресс Банк                                 1\n",
       "ярославль                      Хоум Кредит Банк                                        1\n",
       "                               Ханты-Мансийский банк Открытие                          1\n",
       "                               Современный Коммерческий Банк (бывш. ДжиИ Мани Банк)    1\n",
       "                               Связной Банк                                            1\n",
       "                               Сбербанк России                                         2\n",
       "                               Русфинанс Банк                                          1\n",
       "                               Русский Стандарт                                        4\n",
       "                               Ренессанс Кредит                                        2\n",
       "                               Пушкино                                                 1\n",
       "                               ОТП Банк                                                1\n",
       "                               МТС Банк                                                1\n",
       "                               Киви Банк                                               1\n",
       "                               Газпромбанк                                             1\n",
       "                               ВТБ 24                                                  1\n",
       "                               Альфа-Банк                                              1\n",
       "                               Авангард                                                1\n",
       "Name: author, dtype: int64"
      ]
     },
     "execution_count": 14,
     "metadata": {},
     "output_type": "execute_result"
    }
   ],
   "source": [
    "by_city.sort_index(ascending=False).head(20)"
   ]
  },
  {
   "cell_type": "markdown",
   "metadata": {},
   "source": [
    "- распределение кол-ва отзовов по банкам в разных городах"
   ]
  },
  {
   "cell_type": "code",
   "execution_count": 15,
   "metadata": {},
   "outputs": [
    {
     "data": {
      "text/plain": [
       "bank_name      city_n                            \n",
       "Ярсоцбанк                                            13\n",
       "Ярославич      Ярославль                              2\n",
       "               Рыбинск                                1\n",
       "               Москва                                 3\n",
       "Яринтербанк                                           1\n",
       "Яндекс.Деньги  пгт. Нарышкино (Орловская область)     1\n",
       "               кунгур (Ставропольский край)           1\n",
       "               Ярославль (Москва)                     1\n",
       "               Ярославль                              3\n",
       "               Энгельс (Калужская область)            1\n",
       "               Энгельс                                1\n",
       "               Череповец                              1\n",
       "               Челябинск                              6\n",
       "               Чебоксары                              1\n",
       "               Хельсинки, Финляндия (Москва)          1\n",
       "               Ханты-Мансийск                         1\n",
       "               Хабаровск                              2\n",
       "               Уфа (Самара)                           1\n",
       "               Уфа                                    1\n",
       "               Уссурийск                              1\n",
       "Name: author, dtype: int64"
      ]
     },
     "execution_count": 15,
     "metadata": {},
     "output_type": "execute_result"
    }
   ],
   "source": [
    "by_bank.sort_index(ascending=False).head(20)"
   ]
  },
  {
   "cell_type": "markdown",
   "metadata": {},
   "source": [
    "### 2. Постройте гистограмы длин слов в символах и в словах"
   ]
  },
  {
   "cell_type": "code",
   "execution_count": 16,
   "metadata": {},
   "outputs": [],
   "source": [
    "import re\n",
    "regex = re.compile(\"[А-Яа-я]+\")\n",
    "\n",
    "def words_re(text, regex=regex):\n",
    "    try:\n",
    "        return \" \".join(regex.findall(text))\n",
    "    except:\n",
    "        return \"\"\n",
    "\n",
    "\n",
    "df_r.text = df_r.text.str.lower()\n",
    "df_r.text = df_r.text.apply(words_re)\n"
   ]
  },
  {
   "cell_type": "code",
   "execution_count": 17,
   "metadata": {},
   "outputs": [
    {
     "data": {
      "text/plain": [
       "1079"
      ]
     },
     "execution_count": 17,
     "metadata": {},
     "output_type": "execute_result"
    }
   ],
   "source": [
    "len(df_r.text.iloc[0])"
   ]
  },
  {
   "cell_type": "code",
   "execution_count": 18,
   "metadata": {},
   "outputs": [
    {
     "data": {
      "text/plain": [
       "count    201030.000000\n",
       "mean       1361.964289\n",
       "std        1171.779094\n",
       "min           0.000000\n",
       "25%         634.000000\n",
       "50%        1038.000000\n",
       "75%        1689.000000\n",
       "max       31053.000000\n",
       "Name: text, dtype: float64"
      ]
     },
     "execution_count": 18,
     "metadata": {},
     "output_type": "execute_result"
    }
   ],
   "source": [
    "#посмотрим на описательные статистики\n",
    "len_data = df_r.text.apply(len)\n",
    "len_data.describe()"
   ]
  },
  {
   "cell_type": "markdown",
   "metadata": {},
   "source": [
    "#### 2.1 Гистограма кол-ва символов в текстах"
   ]
  },
  {
   "cell_type": "code",
   "execution_count": 21,
   "metadata": {},
   "outputs": [
    {
     "data": {
      "image/png": "[encoded data removed]",
      "text/plain": [
       "<matplotlib.figure.Figure at 0x1ac677bf60>"
      ]
     },
     "metadata": {},
     "output_type": "display_data"
    }
   ],
   "source": [
    "fig, ax = plt.subplots()\n",
    "\n",
    "length = len_data[len_data < 10000].tolist()\n",
    "\n",
    "n, bins, patches = ax.hist(length, color='r', alpha=.3)\n",
    "\n",
    "fig.show()"
   ]
  },
  {
   "cell_type": "code",
   "execution_count": 22,
   "metadata": {},
   "outputs": [
    {
     "data": {
      "text/plain": [
       "[<matplotlib.lines.Line2D at 0x1ac685cb38>]"
      ]
     },
     "execution_count": 22,
     "metadata": {},
     "output_type": "execute_result"
    },
    {
     "data": {
      "image/png": "[encoded data removed]",
      "text/plain": [
       "<matplotlib.figure.Figure at 0x1ac6819ba8>"
      ]
     },
     "metadata": {},
     "output_type": "display_data"
    }
   ],
   "source": [
    "#выполним ядерную оценку плотности распределения длины символов с текстах\n",
    "#df_r['text_len'] = df_r.text.apply(len)\n",
    "my_density = gaussian_kde(length, bw_method = 0.1)\n",
    "\n",
    "x = linspace(min(length), max(length))\n",
    "plot(x, my_density(x),'r', alpha=.3)"
   ]
  },
  {
   "cell_type": "markdown",
   "metadata": {},
   "source": [
    "Распределение кол-ва символов в тексте явно смещено в лево, интересно посмотреть какой вид будет иметь распределения если отбросить вылеты"
   ]
  },
  {
   "cell_type": "code",
   "execution_count": 23,
   "metadata": {},
   "outputs": [
    {
     "data": {
      "image/png": "[encoded data removed]",
      "text/plain": [
       "<matplotlib.figure.Figure at 0x1ac686ceb8>"
      ]
     },
     "metadata": {},
     "output_type": "display_data"
    }
   ],
   "source": [
    "fig, ax = plt.subplots()\n",
    "\n",
    "length_lt = len_data[len_data < 3000].tolist()\n",
    "\n",
    "n, bins, patches = ax.hist(length_lt, color='g', bins=30, alpha=.3)\n",
    "\n",
    "fig.show()"
   ]
  },
  {
   "cell_type": "code",
   "execution_count": 24,
   "metadata": {},
   "outputs": [
    {
     "data": {
      "text/plain": [
       "[<matplotlib.lines.Line2D at 0x1ac692ba20>]"
      ]
     },
     "execution_count": 24,
     "metadata": {},
     "output_type": "execute_result"
    },
    {
     "data": {
      "image/png": "[encoded data removed]",
      "text/plain": [
       "<matplotlib.figure.Figure at 0x1ac67e82b0>"
      ]
     },
     "metadata": {},
     "output_type": "display_data"
    }
   ],
   "source": [
    "my_density = gaussian_kde(length_lt, bw_method = 0.1)\n",
    "\n",
    "x = linspace(min(length_lt), max(length_lt))\n",
    "plot(x, my_density(x),'g', alpha=.3)"
   ]
  },
  {
   "cell_type": "markdown",
   "metadata": {},
   "source": [
    "#### 2.2 Гистограма кол-ва слов в текстах"
   ]
  },
  {
   "cell_type": "code",
   "execution_count": 25,
   "metadata": {},
   "outputs": [],
   "source": [
    "words_l = []\n",
    "\n",
    "for i in range(len(df_r['text'])):\n",
    "    text = df.text.iloc[i].split()\n",
    "    words_l.append(len(text))\n",
    "\n",
    "df_r['words_l'] = words_l \n",
    "len_word = df_r['words_l']"
   ]
  },
  {
   "cell_type": "code",
   "execution_count": 26,
   "metadata": {},
   "outputs": [
    {
     "data": {
      "text/plain": [
       "count    201030.000000\n",
       "mean        221.923360\n",
       "std         191.083093\n",
       "min           1.000000\n",
       "10%          67.000000\n",
       "25%         103.000000\n",
       "50%         169.000000\n",
       "75%         276.000000\n",
       "99%         953.000000\n",
       "max        5000.000000\n",
       "Name: words_l, dtype: float64"
      ]
     },
     "execution_count": 26,
     "metadata": {},
     "output_type": "execute_result"
    }
   ],
   "source": [
    "df_r['words_l'].describe(percentiles=(0.1, 0.25, 0.75, 0.99))"
   ]
  },
  {
   "cell_type": "code",
   "execution_count": 25,
   "metadata": {},
   "outputs": [],
   "source": [
    "#df_r[df_r['words_l'] == 5000].head()"
   ]
  },
  {
   "cell_type": "code",
   "execution_count": 27,
   "metadata": {},
   "outputs": [
    {
     "data": {
      "image/png": "[encoded data removed]",
      "text/plain": [
       "<matplotlib.figure.Figure at 0x1ac69319b0>"
      ]
     },
     "metadata": {},
     "output_type": "display_data"
    }
   ],
   "source": [
    "#посмотрим на картину вцелом, в нашей выборке есть очень серьезные выбросы (кто-то написал коментарий в 5000 слов)\n",
    "fig, ax = plt.subplots()\n",
    "n, bins, patches = ax.hist(len_word, color='y', bins=60, alpha=.3)\n",
    "fig.show()"
   ]
  },
  {
   "cell_type": "code",
   "execution_count": 28,
   "metadata": {},
   "outputs": [],
   "source": [
    "#отбросим все что больше 1000 слов\n",
    "len_word_II = [x for x in df_r['words_l'] if x < 1000]"
   ]
  },
  {
   "cell_type": "code",
   "execution_count": 29,
   "metadata": {},
   "outputs": [
    {
     "data": {
      "image/png": "[encoded data removed]",
      "text/plain": [
       "<matplotlib.figure.Figure at 0x1ac694a048>"
      ]
     },
     "metadata": {},
     "output_type": "display_data"
    }
   ],
   "source": [
    "#посмотрим на распределение 99% наших данных\n",
    "fig, ax = plt.subplots()\n",
    "n, bins, patches = ax.hist(len_word_II, color='y', bins=60, alpha=.3)\n",
    "fig.show()"
   ]
  },
  {
   "cell_type": "markdown",
   "metadata": {},
   "source": [
    "### Вывод\n",
    "Распределения частоты слов в текстах и символов в текстах смещены в лево, это вполне себе логично, обусловленно это структурой языка и словообразования"
   ]
  },
  {
   "cell_type": "markdown",
   "metadata": {},
   "source": [
    "### 3. Найдите 10 самых частых:\n",
    "    * слов\n",
    "    * слов без стоп-слов\n",
    "    * лемм \n",
    "    * существительных"
   ]
  },
  {
   "cell_type": "markdown",
   "metadata": {},
   "source": [
    "#### 3.1  10 самых частых слов "
   ]
  },
  {
   "cell_type": "code",
   "execution_count": 31,
   "metadata": {},
   "outputs": [
    {
     "data": {
      "application/vnd.jupyter.widget-view+json": {
       "model_id": "920b4bb5bfc94cfcb35b557cd5585ad9",
       "version_major": 2,
       "version_minor": 0
      },
      "text/html": [
       "<p>Failed to display Jupyter Widget of type <code>HBox</code>.</p>\n",
       "<p>\n",
       "  If you're reading this message in the Jupyter Notebook or JupyterLab Notebook, it may mean\n",
       "  that the widgets JavaScript is still loading. If this message persists, it\n",
       "  likely means that the widgets JavaScript library is either not installed or\n",
       "  not enabled. See the <a href=\"https://ipywidgets.readthedocs.io/en/stable/user_install.html\">Jupyter\n",
       "  Widgets Documentation</a> for setup instructions.\n",
       "</p>\n",
       "<p>\n",
       "  If you're reading this message in another frontend (for example, a static\n",
       "  rendering on GitHub or <a href=\"https://nbviewer.jupyter.org/\">NBViewer</a>),\n",
       "  it may mean that your frontend doesn't currently support widgets.\n",
       "</p>\n"
      ],
      "text/plain": [
       "HBox(children=(IntProgress(value=0, max=201030), HTML(value='')))"
      ]
     },
     "metadata": {},
     "output_type": "display_data"
    },
    {
     "name": "stdout",
     "output_type": "stream",
     "text": [
      "\n",
      "('в', 1623232)\n",
      "('и', 1310026)\n",
      "('не', 1044293)\n",
      "('на', 861861)\n",
      "('что', 774918)\n",
      "('я', 701535)\n",
      "('с', 571080)\n",
      "('по', 456137)\n",
      "('мне', 388914)\n",
      "('банка', 344613)\n"
     ]
    }
   ],
   "source": [
    "from collections import Counter\n",
    "from tqdm import tqdm_notebook as tqdm\n",
    "cnt = Counter()\n",
    "n_types_s = []\n",
    "n_tokens_s = []\n",
    "tokens_s = []\n",
    "for index, row in tqdm(df_r.iterrows(), total = len(df_r)):\n",
    "    tokens_s = row['text'].split()\n",
    "    cnt.update(tokens_s)\n",
    "    n_types_s.append(len(cnt))\n",
    "    n_tokens_s.append(sum(cnt.values()))\n",
    "for i in cnt.most_common(10):\n",
    "    print(i)"
   ]
  },
  {
   "cell_type": "markdown",
   "metadata": {},
   "source": [
    "#### 3.2  10 самых частых слов (без стоп-слов)"
   ]
  },
  {
   "cell_type": "code",
   "execution_count": 32,
   "metadata": {},
   "outputs": [],
   "source": [
    "from nltk.corpus import stopwords"
   ]
  },
  {
   "cell_type": "code",
   "execution_count": 33,
   "metadata": {},
   "outputs": [],
   "source": [
    "mystopwords = stopwords.words('russian')\n",
    "def  remove_stopwords(text, mystopwords = mystopwords):\n",
    "    try:\n",
    "        return \" \".join([token for token in text.split() if not token in mystopwords])\n",
    "    except:\n",
    "        return \"\""
   ]
  },
  {
   "cell_type": "code",
   "execution_count": 34,
   "metadata": {},
   "outputs": [],
   "source": [
    "df_r['text_SW'] = df_r['text'].apply(remove_stopwords)"
   ]
  },
  {
   "cell_type": "code",
   "execution_count": 35,
   "metadata": {},
   "outputs": [
    {
     "data": {
      "application/vnd.jupyter.widget-view+json": {
       "model_id": "d35b5fe5037349679acac409cf6e98f8",
       "version_major": 2,
       "version_minor": 0
      },
      "text/html": [
       "<p>Failed to display Jupyter Widget of type <code>HBox</code>.</p>\n",
       "<p>\n",
       "  If you're reading this message in the Jupyter Notebook or JupyterLab Notebook, it may mean\n",
       "  that the widgets JavaScript is still loading. If this message persists, it\n",
       "  likely means that the widgets JavaScript library is either not installed or\n",
       "  not enabled. See the <a href=\"https://ipywidgets.readthedocs.io/en/stable/user_install.html\">Jupyter\n",
       "  Widgets Documentation</a> for setup instructions.\n",
       "</p>\n",
       "<p>\n",
       "  If you're reading this message in another frontend (for example, a static\n",
       "  rendering on GitHub or <a href=\"https://nbviewer.jupyter.org/\">NBViewer</a>),\n",
       "  it may mean that your frontend doesn't currently support widgets.\n",
       "</p>\n"
      ],
      "text/plain": [
       "HBox(children=(IntProgress(value=0, max=201030), HTML(value='')))"
      ]
     },
     "metadata": {},
     "output_type": "display_data"
    },
    {
     "name": "stdout",
     "output_type": "stream",
     "text": [
      "\n",
      "('банка', 344613)\n",
      "('банк', 276836)\n",
      "('это', 225916)\n",
      "('деньги', 159460)\n",
      "('карту', 128306)\n",
      "('карты', 121705)\n",
      "('т', 111924)\n",
      "('кредит', 109081)\n",
      "('день', 93177)\n",
      "('банке', 92801)\n"
     ]
    }
   ],
   "source": [
    "cnt = Counter()\n",
    "n_types_SW = []\n",
    "n_tokens_SW = []\n",
    "tokens_SW = []\n",
    "for index, row in tqdm(df_r.iterrows(), total = len(df_r)):\n",
    "    tokens_SW = row['text_SW'].split()\n",
    "    cnt.update(tokens_SW)\n",
    "    n_types_SW.append(len(cnt))\n",
    "    n_tokens_SW.append(sum(cnt.values()))\n",
    "for y in cnt.most_common(10):\n",
    "    print(y)"
   ]
  },
  {
   "cell_type": "markdown",
   "metadata": {},
   "source": [
    "#### 3.3  10 самых частых лемм"
   ]
  },
  {
   "cell_type": "code",
   "execution_count": 36,
   "metadata": {},
   "outputs": [],
   "source": [
    "from pymystem3 import Mystem\n",
    "\n",
    "m = Mystem()\n",
    "def lemmatize(text, mystem=m):\n",
    "    try:\n",
    "        return \"\".join(m.lemmatize(text)).strip()  \n",
    "    except:\n",
    "        return \" \""
   ]
  },
  {
   "cell_type": "code",
   "execution_count": 37,
   "metadata": {},
   "outputs": [],
   "source": [
    "df_r['lemma'] = df_r['text_SW'].apply(lemmatize)"
   ]
  },
  {
   "cell_type": "code",
   "execution_count": 39,
   "metadata": {},
   "outputs": [
    {
     "name": "stdout",
     "output_type": "stream",
     "text": [
      "('банк', 792690)\n",
      "('карта', 404447)\n",
      "('деньги', 218536)\n",
      "('это', 209666)\n",
      "('день', 208434)\n",
      "('кредит', 207381)\n",
      "('мой', 196307)\n",
      "('который', 183077)\n",
      "('клиент', 172908)\n",
      "('отделение', 168773)\n"
     ]
    }
   ],
   "source": [
    "lemmata = []\n",
    "for index, row in df_r.iterrows():\n",
    "    lemmata += row['lemma'].split()\n",
    "cnt_l = Counter(lemmata)\n",
    "for i in cnt_l.most_common(10):\n",
    "    print(i)"
   ]
  },
  {
   "cell_type": "markdown",
   "metadata": {},
   "source": [
    "#### 3.4  10 самых частых существительных"
   ]
  },
  {
   "cell_type": "code",
   "execution_count": 38,
   "metadata": {},
   "outputs": [],
   "source": [
    "import nltk\n",
    "from nltk import word_tokenize, sent_tokenize\n",
    "from pymorphy2 import MorphAnalyzer"
   ]
  },
  {
   "cell_type": "code",
   "execution_count": null,
   "metadata": {},
   "outputs": [],
   "source": [
    "pm2 = MorphAnalyzer()"
   ]
  },
  {
   "cell_type": "code",
   "execution_count": null,
   "metadata": {},
   "outputs": [],
   "source": [
    "words_ = []\n",
    "for i in df_r['lemma']:\n",
    "    words_.append(i)"
   ]
  },
  {
   "cell_type": "code",
   "execution_count": null,
   "metadata": {},
   "outputs": [],
   "source": [
    "#O(n2) — квадратичная сложность \n",
    "nouns = []\n",
    "\n",
    "for i in words_:\n",
    "    w = nltk.word_tokenize(i) \n",
    "    for i in w:      \n",
    "        if 'NOUN' in pm2.parse(i)[0].tag:\n",
    "            nouns.append(i)"
   ]
  },
  {
   "cell_type": "code",
   "execution_count": 79,
   "metadata": {},
   "outputs": [
    {
     "name": "stdout",
     "output_type": "stream",
     "text": [
      "('банк', 507084)\n",
      "('карта', 259241)\n",
      "('деньги', 138387)\n",
      "('день', 134225)\n",
      "('кредит', 128268)\n",
      "('отделение', 117356)\n",
      "('клиент', 112234)\n",
      "('сотрудник', 112031)\n",
      "('счет', 98256)\n",
      "('сумма', 85239)\n"
     ]
    }
   ],
   "source": [
    "cnt_n = Counter(nouns)\n",
    "for i in cnt_n.most_common(10):\n",
    "    print(i)"
   ]
  },
  {
   "cell_type": "markdown",
   "metadata": {},
   "source": [
    "### Вывод\n",
    "Немного капитанский вывод: распределение частоты слов без стоп-слов и существительных очень близкие, в принципе это логично"
   ]
  },
  {
   "cell_type": "markdown",
   "metadata": {},
   "source": [
    "### 4. Постройте кривые Ципфа и Хипса"
   ]
  },
  {
   "cell_type": "markdown",
   "metadata": {},
   "source": [
    "#### 4.1 Закон Ципфа\n",
    "\n",
    "будем работать с текстами без стоп-слов"
   ]
  },
  {
   "cell_type": "code",
   "execution_count": 42,
   "metadata": {},
   "outputs": [
    {
     "data": {
      "image/png": "[encoded data removed]",
      "text/plain": [
       "<matplotlib.figure.Figure at 0x1ac73a2828>"
      ]
     },
     "metadata": {},
     "output_type": "display_data"
    }
   ],
   "source": [
    "freqs = list(cnt.values())\n",
    "freqs = sorted(freqs, reverse = True)\n",
    "\n",
    "fig, ax = plt.subplots()\n",
    "ax.plot(freqs[:500], range(500))\n",
    "plt.show()"
   ]
  },
  {
   "cell_type": "markdown",
   "metadata": {},
   "source": [
    "#### 4.2 Закон Хипса\n",
    "\n",
    "будем работать с текстами без стоп-слов"
   ]
  },
  {
   "cell_type": "code",
   "execution_count": 43,
   "metadata": {},
   "outputs": [
    {
     "data": {
      "image/png": "[encoded data removed]",
      "text/plain": [
       "<matplotlib.figure.Figure at 0x1ac7345898>"
      ]
     },
     "metadata": {},
     "output_type": "display_data"
    }
   ],
   "source": [
    "fig, ax = plt.subplots()\n",
    "ax.plot(n_tokens_SW, n_types_SW)\n",
    "plt.show()"
   ]
  },
  {
   "cell_type": "markdown",
   "metadata": {},
   "source": [
    "### 5. Ответьте на следующие вопросы:\n",
    "    * какое слово встречается чаще, \"сотрудник\" или \"клиент\"?\n",
    "    * сколько раз встречается слова \"мошенничество\" и \"доверие\"?"
   ]
  },
  {
   "cell_type": "markdown",
   "metadata": {},
   "source": [
    "* какое слово встречается чаще, \"сотрудник\" или \"клиент\"?"
   ]
  },
  {
   "cell_type": "code",
   "execution_count": 175,
   "metadata": {},
   "outputs": [
    {
     "name": "stdout",
     "output_type": "stream",
     "text": [
      "Слово \"КЛИЕН\" встречается 112031 раза, это чаще чем слово \"СОТРУДНИК\" 112234 раза\n"
     ]
    }
   ],
   "source": [
    "for i in cnt_l.most_common():\n",
    "    if 'сотрудник' in i:\n",
    "        staff = i\n",
    "    elif 'клиент' in i:\n",
    "        guest = i\n",
    "        \n",
    "if staff[1] > guest[1]:\n",
    "    #print(f'Слово \"СОТРУДНИК\" встречается чаще чем слово \"КЛИЕНТ\" ')\n",
    "    print('Слово \"СОТРУДНИК\" встречается {s} раза, это чаще чем слово \"КЛИЕНТ\" {c} раза'.format(s = staff[1], c = guest[1]))\n",
    "else:\n",
    "    #print(f'Слово \"КЛИЕН\" встречается чаще чем слово \"СОТРУДНИК\"')\n",
    "    print('Слово \"КЛИЕН\" встречается {c} раза, это чаще чем слово \"СОТРУДНИК\" {s} раза'.format(s = guest[1], c = staff[1]))\n",
    "        "
   ]
  },
  {
   "cell_type": "markdown",
   "metadata": {},
   "source": [
    " * сколько раз встречается слова \"мошенничество\" и \"доверие\"?"
   ]
  },
  {
   "cell_type": "code",
   "execution_count": 178,
   "metadata": {},
   "outputs": [
    {
     "name": "stdout",
     "output_type": "stream",
     "text": [
      "Слово \"МОШЕННИЧЕСТВО\" встречается 1842 раза, это чаще чем слово \"ДОВЕРИЕ\" 1725 раза\n"
     ]
    }
   ],
   "source": [
    "for i in cnt_l.most_common():\n",
    "    if 'мошенничество' in i:\n",
    "        cheat = i\n",
    "    elif 'доверие' in i:\n",
    "        trust = i\n",
    "        \n",
    "if cheat[1] > trust[1]:\n",
    "    #print(f'Слово \"СОТРУДНИК\" встречается чаще чем слово \"КЛИЕНТ\" ')\n",
    "    print('Слово \"МОШЕННИЧЕСТВО\" встречается {ch} раза, это чаще чем слово \"ДОВЕРИЕ\" {tr} раза'.format(ch = cheat[1], tr = trust[1]))\n",
    "else:\n",
    "    #print(f'Слово \"КЛИЕН\" встречается чаще чем слово \"СОТРУДНИК\"')\n",
    "    print('Слово \"ДОВЕРИЕ\" встречается {tr} раза, это чаще чем слово \"МОШЕННИЧЕСТВО\" {ch} раза'.format(tr = trust[1], ch = cheat[1]))"
   ]
  },
  {
   "cell_type": "markdown",
   "metadata": {},
   "source": [
    "### 6.  В поле \"rating_grade\" записана оценка отзыва по шкале от 1 до 5. Используйте меру $tf-idf$, для того, чтобы найти ключевые слова и биграмы для положительных отзывов (с оценкой 5) и отрицательных отзывов (с оценкой 1)"
   ]
  },
  {
   "cell_type": "markdown",
   "metadata": {},
   "source": [
    "- выберем данные с положительными оценками `df_pstv` и негативными `df_ngtv`"
   ]
  },
  {
   "cell_type": "code",
   "execution_count": 77,
   "metadata": {},
   "outputs": [
    {
     "data": {
      "text/html": [
       "<div>\n",
       "<style scoped>\n",
       "    .dataframe tbody tr th:only-of-type {\n",
       "        vertical-align: middle;\n",
       "    }\n",
       "\n",
       "    .dataframe tbody tr th {\n",
       "        vertical-align: top;\n",
       "    }\n",
       "\n",
       "    .dataframe thead th {\n",
       "        text-align: right;\n",
       "    }\n",
       "</style>\n",
       "<table border=\"1\" class=\"dataframe\">\n",
       "  <thead>\n",
       "    <tr style=\"text-align: right;\">\n",
       "      <th></th>\n",
       "      <th>author</th>\n",
       "      <th>bank_name</th>\n",
       "      <th>city</th>\n",
       "      <th>rating_grade</th>\n",
       "      <th>text</th>\n",
       "      <th>title</th>\n",
       "      <th>city_n</th>\n",
       "      <th>words_l</th>\n",
       "      <th>text_SW</th>\n",
       "      <th>lemma</th>\n",
       "    </tr>\n",
       "  </thead>\n",
       "  <tbody>\n",
       "    <tr>\n",
       "      <th>0</th>\n",
       "      <td>e.novikova</td>\n",
       "      <td>ВТБ 24</td>\n",
       "      <td>г. Воронеж</td>\n",
       "      <td>5.0</td>\n",
       "      <td>здравствуйте хотелось бы выразить благодарност...</td>\n",
       "      <td>Ипотека на 5+</td>\n",
       "      <td>Воронеж</td>\n",
       "      <td>156</td>\n",
       "      <td>здравствуйте хотелось выразить благодарность б...</td>\n",
       "      <td>здравствовать хотеться выражать благодарность ...</td>\n",
       "    </tr>\n",
       "    <tr>\n",
       "      <th>9</th>\n",
       "      <td>кристина1987</td>\n",
       "      <td>ВТБ 24</td>\n",
       "      <td>г. Москва</td>\n",
       "      <td>5.0</td>\n",
       "      <td>хочу поблагодарить надежду из отдела по ипотеч...</td>\n",
       "      <td>Большая блаодарность!</td>\n",
       "      <td>Москва</td>\n",
       "      <td>83</td>\n",
       "      <td>хочу поблагодарить надежду отдела ипотечному к...</td>\n",
       "      <td>хотеть поблагодарить надежда отдел ипотечный к...</td>\n",
       "    </tr>\n",
       "    <tr>\n",
       "      <th>31</th>\n",
       "      <td>Мёрфи</td>\n",
       "      <td>ВТБ 24</td>\n",
       "      <td>г. Екатеринбург</td>\n",
       "      <td>5.0</td>\n",
       "      <td>выплату из асв по транспортному банку пошел по...</td>\n",
       "      <td>Знакомство с банком</td>\n",
       "      <td>Екатеринбург</td>\n",
       "      <td>76</td>\n",
       "      <td>выплату асв транспортному банку пошел получать...</td>\n",
       "      <td>выплата асв транспортный банк пойти получать в...</td>\n",
       "    </tr>\n",
       "    <tr>\n",
       "      <th>40</th>\n",
       "      <td>vs1l</td>\n",
       "      <td>Ланта-Банк</td>\n",
       "      <td>г. Куйбышев</td>\n",
       "      <td>5.0</td>\n",
       "      <td>в куйбышевском филиале в головном офисе просто...</td>\n",
       "      <td>Просто превосходно!</td>\n",
       "      <td>Куйбышев</td>\n",
       "      <td>95</td>\n",
       "      <td>куйбышевском филиале головном офисе просто пре...</td>\n",
       "      <td>куйбышевский филиал головной офис просто прекр...</td>\n",
       "    </tr>\n",
       "    <tr>\n",
       "      <th>84</th>\n",
       "      <td>sergei.sadomskov</td>\n",
       "      <td>Сбербанк России</td>\n",
       "      <td>г. Заокский</td>\n",
       "      <td>5.0</td>\n",
       "      <td>хочу выразить огромную благодарность сотрудник...</td>\n",
       "      <td>Благодарность сотруднику</td>\n",
       "      <td>Заокский</td>\n",
       "      <td>113</td>\n",
       "      <td>хочу выразить огромную благодарность сотрудник...</td>\n",
       "      <td>хотеть выражать огромный благодарность сотрудн...</td>\n",
       "    </tr>\n",
       "  </tbody>\n",
       "</table>\n",
       "</div>"
      ],
      "text/plain": [
       "              author        bank_name             city  rating_grade  \\\n",
       "0         e.novikova           ВТБ 24       г. Воронеж           5.0   \n",
       "9       кристина1987           ВТБ 24        г. Москва           5.0   \n",
       "31             Мёрфи           ВТБ 24  г. Екатеринбург           5.0   \n",
       "40              vs1l       Ланта-Банк      г. Куйбышев           5.0   \n",
       "84  sergei.sadomskov  Сбербанк России      г. Заокский           5.0   \n",
       "\n",
       "                                                 text  \\\n",
       "0   здравствуйте хотелось бы выразить благодарност...   \n",
       "9   хочу поблагодарить надежду из отдела по ипотеч...   \n",
       "31  выплату из асв по транспортному банку пошел по...   \n",
       "40  в куйбышевском филиале в головном офисе просто...   \n",
       "84  хочу выразить огромную благодарность сотрудник...   \n",
       "\n",
       "                       title        city_n  words_l  \\\n",
       "0              Ипотека на 5+       Воронеж      156   \n",
       "9      Большая блаодарность!        Москва       83   \n",
       "31       Знакомство с банком  Екатеринбург       76   \n",
       "40       Просто превосходно!      Куйбышев       95   \n",
       "84  Благодарность сотруднику      Заокский      113   \n",
       "\n",
       "                                              text_SW  \\\n",
       "0   здравствуйте хотелось выразить благодарность б...   \n",
       "9   хочу поблагодарить надежду отдела ипотечному к...   \n",
       "31  выплату асв транспортному банку пошел получать...   \n",
       "40  куйбышевском филиале головном офисе просто пре...   \n",
       "84  хочу выразить огромную благодарность сотрудник...   \n",
       "\n",
       "                                                lemma  \n",
       "0   здравствовать хотеться выражать благодарность ...  \n",
       "9   хотеть поблагодарить надежда отдел ипотечный к...  \n",
       "31  выплата асв транспортный банк пойти получать в...  \n",
       "40  куйбышевский филиал головной офис просто прекр...  \n",
       "84  хотеть выражать огромный благодарность сотрудн...  "
      ]
     },
     "execution_count": 77,
     "metadata": {},
     "output_type": "execute_result"
    }
   ],
   "source": [
    "df_pstv.head()"
   ]
  },
  {
   "cell_type": "code",
   "execution_count": 68,
   "metadata": {},
   "outputs": [],
   "source": [
    "df_pstv = df_r[df_r['rating_grade'] == 5]\n",
    "df_ngtv = df_r[df_r['rating_grade'] == 1]"
   ]
  },
  {
   "cell_type": "markdown",
   "metadata": {},
   "source": [
    "- посмотрим на их соотношения"
   ]
  },
  {
   "cell_type": "code",
   "execution_count": 75,
   "metadata": {},
   "outputs": [
    {
     "data": {
      "text/plain": [
       "(26715, 72307, 0.269788531841409, 0.7302114681585911)"
      ]
     },
     "execution_count": 75,
     "metadata": {},
     "output_type": "execute_result"
    }
   ],
   "source": [
    "df_pstv.shape[0], df_ngtv.shape[0] , df_pstv.shape[0]/(df_pstv.shape[0] + df_ngtv.shape[0]), \\\n",
    "                                                                df_ngtv.shape[0]/(df_pstv.shape[0] + df_ngtv.shape[0])"
   ]
  },
  {
   "cell_type": "markdown",
   "metadata": {},
   "source": [
    "вывод: негативных комментариев более чем в два раза больше, либо банки плохо работают, либо `homo` подсознательно тяготеет к негативным комментариям"
   ]
  },
  {
   "cell_type": "code",
   "execution_count": 83,
   "metadata": {},
   "outputs": [
    {
     "data": {
      "application/vnd.jupyter.widget-view+json": {
       "model_id": "e4147fba88034745a88e977b387d3f34",
       "version_major": 2,
       "version_minor": 0
      },
      "text/html": [
       "<p>Failed to display Jupyter Widget of type <code>HBox</code>.</p>\n",
       "<p>\n",
       "  If you're reading this message in the Jupyter Notebook or JupyterLab Notebook, it may mean\n",
       "  that the widgets JavaScript is still loading. If this message persists, it\n",
       "  likely means that the widgets JavaScript library is either not installed or\n",
       "  not enabled. See the <a href=\"https://ipywidgets.readthedocs.io/en/stable/user_install.html\">Jupyter\n",
       "  Widgets Documentation</a> for setup instructions.\n",
       "</p>\n",
       "<p>\n",
       "  If you're reading this message in another frontend (for example, a static\n",
       "  rendering on GitHub or <a href=\"https://nbviewer.jupyter.org/\">NBViewer</a>),\n",
       "  it may mean that your frontend doesn't currently support widgets.\n",
       "</p>\n"
      ],
      "text/plain": [
       "HBox(children=(IntProgress(value=0, max=26715), HTML(value='')))"
      ]
     },
     "metadata": {},
     "output_type": "display_data"
    },
    {
     "name": "stdout",
     "output_type": "stream",
     "text": [
      "\n",
      "('банк', 92283)\n",
      "('карта', 34356)\n",
      "('очень', 26055)\n",
      "('кредит', 22240)\n",
      "('клиент', 21275)\n",
      "('это', 20255)\n",
      "('сотрудник', 19911)\n",
      "('отделение', 18728)\n",
      "('день', 18701)\n",
      "('который', 17547)\n"
     ]
    }
   ],
   "source": [
    "cnt_p = Counter()\n",
    "n_types_p = []\n",
    "n_tokens_p = []\n",
    "tokens_p = []\n",
    "for index, row in tqdm(df_pstv.iterrows(), total = len(df_pstv)):\n",
    "    tokens_p = row['lemma'].split()\n",
    "    cnt_p.update(tokens_p)\n",
    "    n_types_p.append(len(cnt_p))\n",
    "    n_tokens_p.append(sum(cnt_p.values()))\n",
    "for i in cnt_p.most_common(10):\n",
    "    print(i)"
   ]
  },
  {
   "cell_type": "code",
   "execution_count": null,
   "metadata": {},
   "outputs": [],
   "source": []
  },
  {
   "cell_type": "code",
   "execution_count": null,
   "metadata": {},
   "outputs": [],
   "source": []
  },
  {
   "cell_type": "code",
   "execution_count": null,
   "metadata": {},
   "outputs": [],
   "source": []
  },
  {
   "cell_type": "code",
   "execution_count": null,
   "metadata": {},
   "outputs": [],
   "source": []
  },
  {
   "cell_type": "code",
   "execution_count": null,
   "metadata": {},
   "outputs": [],
   "source": []
  },
  {
   "cell_type": "code",
   "execution_count": null,
   "metadata": {},
   "outputs": [],
   "source": []
  },
  {
   "cell_type": "code",
   "execution_count": null,
   "metadata": {},
   "outputs": [],
   "source": [
    "from sklearn.feature_extraction.text import TfidfVectorizer\n",
    "import numpy as np\n",
    "\n",
    "\n",
    "tfidf = TfidfVectorizer(analyzer='word', ngram_range=(1,1), min_df = 0)\n",
    "tfidf_matrix =  tfidf.fit_transform([' '.join(tokens) for tokens in tokens_by_topic])\n",
    "feature_names = tfidf.get_feature_names() \n",
    "tfidf_ranking = []\n",
    "dense = tfidf_matrix.todense()\n",
    "\n",
    "text = dense[topic_id].tolist()[0]\n",
    "phrase_scores = [pair for pair in zip(range(0, len(text)), text) if pair[1] > 0]\n",
    "sorted_phrase_scores = sorted(phrase_scores, key=lambda t: t[1] * -1)\n",
    "phrases = []\n",
    "for phrase, score in [(feature_names[word_id], score) for (word_id, score) in sorted_phrase_scores][:40]:\n",
    "    tfidf_ranking.append(phrase)"
   ]
  },
  {
   "cell_type": "code",
   "execution_count": null,
   "metadata": {},
   "outputs": [],
   "source": []
  },
  {
   "cell_type": "markdown",
   "metadata": {},
   "source": [
    "## Часть 2. Тематическое моделирование [20/100]\n",
    "\n",
    "1. Постройте несколько тематических моделей коллекции документов с разным числом тем. Приведите примеры понятных (интерпретируемых) тем.\n",
    "2. Найдите темы, в которых упомянуты конкретные банки (Сбербанк, ВТБ, другой банк). Можете ли вы их прокомментировать / объяснить?\n",
    "\n",
    "Эта часть задания может быть сделана с использованием gensim. "
   ]
  },
  {
   "cell_type": "code",
   "execution_count": null,
   "metadata": {},
   "outputs": [],
   "source": []
  },
  {
   "cell_type": "code",
   "execution_count": null,
   "metadata": {},
   "outputs": [],
   "source": []
  },
  {
   "cell_type": "markdown",
   "metadata": {},
   "source": [
    "## Часть 3. Классификация текстов [40/100]\n",
    "\n",
    "Сформулируем для простоты задачу бинарной классификации: будем классифицировать на два класса, то есть, различать резко отрицательные отзывы (с оценкой 1) и положительные отзывы (с оценкой 5). \n",
    "\n",
    "1.  Составьте обучающее и тестовое множество: выберите из всего набора данных N1 отзывов с оценкой 1 и N2 отзывов с оценкой 5 (значение N1 и N2 – на ваше усмотрение). Используйте ```sklearn.model_selection.train_test_split``` для разделения множества отобранных документов на обучающее и тестовое. \n",
    "2. Используйте любой известный вам алгоритм классификации текстов для решения задачи и получите baseline. Сравните разные варианты векторизации текста: использование только униграм, пар или троек слов или с использованием символьных $n$-грам. \n",
    "3. Сравните, как изменяется качество решения задачи при использовании скрытых тем в качестве признаков:\n",
    "* 1-ый вариант: $tf-idf$ преобразование (```sklearn.feature_extraction.text.TfidfTransformer```) и сингулярное разложение (оно же – латентый семантический анализ) (```sklearn.decomposition.TruncatedSVD```), \n",
    "* 2-ой вариант: тематические модели LDA (```sklearn.decomposition.LatentDirichletAllocation```). \n",
    "\n",
    "Используйте accuracy и F-measure для оценки качества классификации. \n",
    "\n",
    "Ниже написан примерный Pipeline для классификации текстов. \n",
    "\n",
    "Эта часть задания может быть сделана с использованием sklearn. "
   ]
  },
  {
   "cell_type": "code",
   "execution_count": null,
   "metadata": {},
   "outputs": [],
   "source": [
    "from sklearn.pipeline import Pipeline\n",
    "from sklearn.ensemble import RandomForestClassifier\n",
    "\n",
    "# !!! На каждом этапе Pipeline нужно указать свои параметры\n",
    "# 1-ый вариант: tf-idf + LSI\n",
    "# 2-ой вариант: LDA\n",
    "\n",
    "# clf = Pipeline([\n",
    "#     ('vect', CountVectorizer(analyzer = 'char', ngram_range={4,6})),\n",
    "#     ('clf', RandomForestClassifier()),\n",
    "# ])\n",
    "\n",
    "\n",
    "\n",
    "clf = Pipeline([ \n",
    "    ('vect', CountVectorizer()), \n",
    "    ('tfidf', TfidfTransformer()), \n",
    "    ('tm', TruncatedSVD()), \n",
    "    ('clf', RandomForestClassifier())\n",
    "])\n",
    "\n"
   ]
  },
  {
   "cell_type": "code",
   "execution_count": null,
   "metadata": {},
   "outputs": [],
   "source": []
  },
  {
   "cell_type": "code",
   "execution_count": null,
   "metadata": {},
   "outputs": [],
   "source": []
  },
  {
   "cell_type": "code",
   "execution_count": null,
   "metadata": {},
   "outputs": [],
   "source": []
  },
  {
   "cell_type": "code",
   "execution_count": null,
   "metadata": {},
   "outputs": [],
   "source": []
  },
  {
   "cell_type": "code",
   "execution_count": null,
   "metadata": {},
   "outputs": [],
   "source": []
  },
  {
   "cell_type": "code",
   "execution_count": null,
   "metadata": {},
   "outputs": [],
   "source": []
  },
  {
   "cell_type": "code",
   "execution_count": null,
   "metadata": {},
   "outputs": [],
   "source": []
  },
  {
   "cell_type": "code",
   "execution_count": null,
   "metadata": {},
   "outputs": [],
   "source": []
  },
  {
   "cell_type": "code",
   "execution_count": null,
   "metadata": {},
   "outputs": [],
   "source": []
  },
  {
   "cell_type": "code",
   "execution_count": null,
   "metadata": {},
   "outputs": [],
   "source": []
  },
  {
   "cell_type": "code",
   "execution_count": null,
   "metadata": {},
   "outputs": [],
   "source": []
  },
  {
   "cell_type": "code",
   "execution_count": null,
   "metadata": {},
   "outputs": [],
   "source": []
  },
  {
   "cell_type": "code",
   "execution_count": null,
   "metadata": {},
   "outputs": [],
   "source": []
  },
  {
   "cell_type": "code",
   "execution_count": null,
   "metadata": {},
   "outputs": [],
   "source": []
  },
  {
   "cell_type": "code",
   "execution_count": null,
   "metadata": {},
   "outputs": [],
   "source": []
  },
  {
   "cell_type": "code",
   "execution_count": null,
   "metadata": {},
   "outputs": [],
   "source": []
  },
  {
   "cell_type": "code",
   "execution_count": null,
   "metadata": {},
   "outputs": [],
   "source": []
  },
  {
   "cell_type": "code",
   "execution_count": null,
   "metadata": {},
   "outputs": [],
   "source": []
  },
  {
   "cell_type": "code",
   "execution_count": null,
   "metadata": {},
   "outputs": [],
   "source": []
  },
  {
   "cell_type": "code",
   "execution_count": null,
   "metadata": {},
   "outputs": [],
   "source": []
  },
  {
   "cell_type": "code",
   "execution_count": null,
   "metadata": {},
   "outputs": [],
   "source": []
  },
  {
   "cell_type": "code",
   "execution_count": null,
   "metadata": {},
   "outputs": [],
   "source": []
  },
  {
   "cell_type": "code",
   "execution_count": null,
   "metadata": {},
   "outputs": [],
   "source": []
  },
  {
   "cell_type": "code",
   "execution_count": null,
   "metadata": {},
   "outputs": [],
   "source": []
  },
  {
   "cell_type": "code",
   "execution_count": null,
   "metadata": {},
   "outputs": [],
   "source": []
  },
  {
   "cell_type": "code",
   "execution_count": null,
   "metadata": {},
   "outputs": [],
   "source": []
  },
  {
   "cell_type": "code",
   "execution_count": null,
   "metadata": {},
   "outputs": [],
   "source": []
  },
  {
   "cell_type": "code",
   "execution_count": null,
   "metadata": {},
   "outputs": [],
   "source": []
  },
  {
   "cell_type": "markdown",
   "metadata": {},
   "source": [
    "## Версия II (работать будем c json)"
   ]
  },
  {
   "cell_type": "code",
   "execution_count": 1,
   "metadata": {},
   "outputs": [],
   "source": [
    "import json\n",
    "\n",
    "import bz2\n",
    "import regex\n",
    "from tqdm import tqdm\n",
    "from scipy import sparse"
   ]
  },
  {
   "cell_type": "code",
   "execution_count": null,
   "metadata": {},
   "outputs": [],
   "source": [
    "import pandas as pd\n",
    "import numpy as np\n",
    "import nltk\n",
    "import matplotlib.pyplot as plt\n",
    "import seaborn as sns\n",
    "%matplotlib inline\n",
    "%pylab inline"
   ]
  },
  {
   "cell_type": "code",
   "execution_count": 2,
   "metadata": {},
   "outputs": [
    {
     "name": "stderr",
     "output_type": "stream",
     "text": [
      "201030it [02:14, 1498.43it/s]\n"
     ]
    }
   ],
   "source": [
    "responses = []\n",
    "with bz2.BZ2File('banki_responses.json.bz2', 'r') as thefile:\n",
    "    for row in tqdm(thefile):\n",
    "        resp = json.loads(row)\n",
    "        if not resp['rating_not_checked'] and (len(resp['text'].split()) > 0):\n",
    "            responses.append(resp)"
   ]
  },
  {
   "cell_type": "markdown",
   "metadata": {},
   "source": [
    "## Часть 1. Анализ текстов [40/100]\n",
    "\n",
    "1. Посчитайте количество отзывов в разных городах и на разные банки\n",
    "2. Постройте гистограмы длин слов в символах и в словах\n",
    "3. Найдите 10 самых частых:\n",
    "    * слов\n",
    "    * слов без стоп-слов\n",
    "    * лемм \n",
    "* существительных\n",
    "4. Постройте кривые Ципфа и Хипса\n",
    "5. Ответьте на следующие вопросы:\n",
    "    * какое слово встречается чаще, \"сотрудник\" или \"клиент\"?\n",
    "    * сколько раз встречается слова \"мошенничество\" и \"доверие\"?\n",
    "6. В поле \"rating_grade\" записана оценка отзыва по шкале от 1 до 5. Используйте меру $tf-idf$, для того, чтобы найти ключевые слова и биграмы для положительных отзывов (с оценкой 5) и отрицательных отзывов (с оценкой 1)"
   ]
  },
  {
   "cell_type": "code",
   "execution_count": 5,
   "metadata": {},
   "outputs": [
    {
     "data": {
      "text/plain": [
       "{'author': 'uhnov1',\n",
       " 'bank_license': 'лицензия № 2562',\n",
       " 'bank_name': 'Бинбанк',\n",
       " 'city': 'г. Москва',\n",
       " 'datetime': '2015-06-08 12:50:54',\n",
       " 'num_comments': 0,\n",
       " 'rating_grade': None,\n",
       " 'rating_not_checked': False,\n",
       " 'text': 'Добрый день! Я не являюсь клиентом банка и поручителем по кредитному договору, а также не являюсь каким-либо другим лицом, письменно  оформившим отношения с банком по поводу урегулирования чьей-либо  задолженности.  Начиная с марта 2015 года начали приходить бесконечные письма из ООО \"Примо коллект\"на мой адрес: город Москва, Уваровский переулок, дом 10, квартира 111, с угрозами о возбуждении уголовного дела в отношении гражданина Филиппова Эдуарда Владимировича, который уклоняется от уплаты взятых им кредитов: договор № 81014 от 20.10.2013 года и договор № 2464946 от 09.10.2014 года. Со всей ответственностью\\xa0 хочу Вас заверить, что вышеуказанный гражданин, которого Вы разыскиваете, мне не знаком и никогда в моем адресе не был зарегистрирован. Каким образом Вы не удостоверившись в подлинности его документов оформили на его имя кредитный договор, мне по меньшей мере не понятно,\\xa0 и почему по Вашей милости я должна переживать и бояться за себе и свое имущество. Письма доставляют мне серьезные неудобства, нарушают мои гражданские права, а также нарушают закон о защите персональных данных. Убедительно прошу прекратить посылать на мой адрес письма с угрозами по вопросам, к которым я не имею отношения. В случае отклонения моей претензии буду вынуждена обратиться с жалобами в  другие органы: Росспотребнадзор, Центральный банк, Службу Финансового  омбудсмена. Кроме этого будет подано заявление в полицию и заявление в  суд возмещение причиненного мне морального вреда. Надеюсь на скорое решение моего вопроса.',\n",
       " 'title': 'Жалоба'}"
      ]
     },
     "execution_count": 5,
     "metadata": {},
     "output_type": "execute_result"
    }
   ],
   "source": [
    "responses[0]"
   ]
  },
  {
   "cell_type": "code",
   "execution_count": 42,
   "metadata": {},
   "outputs": [
    {
     "data": {
      "text/plain": [
       "138325"
      ]
     },
     "execution_count": 42,
     "metadata": {},
     "output_type": "execute_result"
    }
   ],
   "source": [
    "count_C = [k['city'] for k in responses if k.get('city') ]\n",
    "len(count_C)"
   ]
  },
  {
   "cell_type": "code",
   "execution_count": 24,
   "metadata": {},
   "outputs": [
    {
     "data": {
      "text/plain": [
       "153499"
      ]
     },
     "execution_count": 24,
     "metadata": {},
     "output_type": "execute_result"
    }
   ],
   "source": [
    "count_R = [r['bank_name'] for r in responses if r.get('bank_name') ]\n",
    "len(count_R)"
   ]
  },
  {
   "cell_type": "code",
   "execution_count": 34,
   "metadata": {},
   "outputs": [
    {
     "name": "stdout",
     "output_type": "stream",
     "text": [
      "Counter({'Сбербанк России': 26327, 'Альфа-Банк': 10224, 'ВТБ 24': 8185, 'Русский Стандарт': 7943, 'Хоум Кредит Банк': 7549, 'Тинькофф Банк': 5387, 'Национальный Банк «Траст»': 4607, 'Ренессанс Кредит': 3849, 'Связной Банк': 3775, 'ОТП Банк': 3237, 'Восточный Экспресс Банк': 3138, 'Райффайзенбанк': 3057, 'Московский Кредитный Банк': 2944, 'Ситибанк': 2848, 'Авангард': 2733, 'Промсвязьбанк': 2586, 'ЮниКредит Банк': 2488, 'Банк Москвы': 2456, 'Ханты-Мансийский банк Открытие': 2158, 'МТС Банк': 1870, 'Киви Банк': 1741, 'Кредит Европа Банк': 1683, 'Росбанк': 1658, 'Бинбанк': 1646, 'БИНБАНК кредитные карты': 1464, 'Сетелем Банк': 1351, 'Московский Областной Банк': 1277, 'Юниаструм Банк': 1111, 'Современный Коммерческий Банк (бывш. ДжиИ Мани Банк)': 993, 'Уралсиб': 989, 'АйМаниБанк': 925, 'Совкомбанк': 919, 'Абсолют Банк': 782, 'МДМ Банк': 776, 'Русфинанс Банк': 723, 'Русславбанк': 715, '2Т Банк': 655, 'СБ Банк (Судостроительный банк)': 555, 'ФК Открытие (бывш. НОМОС-Банк)': 549, 'Россельхозбанк': 532, 'Уральский Банк Реконструкции и Развития': 532, 'Пробизнесбанк': 521, 'Газпромбанк': 505, 'Лето Банк': 501, 'ДельтаКредит': 501, 'Росгосстрах Банк': 498, 'БНП Париба Банк': 475, 'РосинтерБанк': 472, 'СМП Банк': 463, 'Югра': 451, 'Мастер-Банк': 365, 'Собинбанк': 352, 'Океан Банк': 345, 'Банк «Санкт-Петербург»': 343, 'Петрокоммерц': 339, 'СКБ-Банк': 323, 'Росавтобанк': 319, 'Смартбанк': 314, 'Возрождение': 307, 'Балтийский Банк': 299, 'Банк Проектного Финансирования': 295, 'Интеркоммерц Банк': 292, 'Банк24.ру': 276, 'Московский Индустриальный Банк': 271, 'Транспортный': 269, 'Экспобанк': 266, 'Банк ИТБ': 265, 'Европлан Банк': 261, 'РосЕвроБанк': 243, 'Инвестторгбанк': 240, 'Балтика': 236, 'Советский': 228, 'Яндекс.Деньги': 226, 'Первый Республиканский Банк': 222, 'Союз': 219, 'Нордеа Банк': 216, 'Фининвест': 216, 'ИМПЭКСБанк': 213, 'Банк Сосьете Женераль Восток': 212, 'МАСТ-Банк': 208, 'Российский Капитал': 206, 'Локо-Банк': 200, 'Транскредитбанк': 191, 'Кредит-Москва': 186, 'Банк Финсервис': 185, 'Ак Барс': 184, 'Азиатско-Тихоокеанский Банк': 182, 'Связь-Банк': 175, 'Инвестбанк': 174, 'Западный': 166, 'Софрино': 164, 'Огни Москвы': 160, 'Татфондбанк': 159, 'С банк': 156, 'Военно-Промышленный Банк': 149, 'Банк Интеза': 148, 'Мой Банк': 147, 'АМТ Банк': 142, 'Глобэкс': 135, 'МДМ-Банк': 130, 'Москоммерцбанк': 129, 'Финансовый Стандарт': 125, 'Пушкино': 124, 'Российский Кредит': 122, 'Экспресс-Волга': 121, 'Пойдем!': 119, 'Бенифит-Банк': 115, 'Рублев': 112, 'ВТБ': 111, 'Зенит': 109, 'Росэнергобанк': 104, 'Петровский': 98, 'Балтинвестбанк': 97, 'Мосстройэкономбанк (М Банк)': 97, 'Банк Жилищного Финансирования': 96, 'КИТ Финанс Инвестиционный Банк': 95, 'Фора-Банк': 93, 'Инвестиционный Республиканский Банк': 92, 'СИАБ': 90, 'Смоленский Банк': 86, 'Арксбанк': 85, 'Стройкредит': 85, 'НС Банк': 83, 'Юнистрим': 81, 'Гута-Банк': 80, 'Монолит': 80, 'Северная Казна': 80, 'АктивКапитал Банк': 75, 'Финам Банк': 74, 'Рост Банк': 74, 'СДМ-Банк': 73, 'Транскапиталбанк': 73, 'Плюс Банк': 68, 'Таврический': 66, 'Капитал Кредит': 66, 'Волга-Кредит': 65, 'ОПМ-Банк': 64, 'Холдинг-Кредит': 63, 'Метробанк': 62, 'Сибэс': 61, 'Тусар': 61, 'ВУЗ-Банк': 61, 'Первый Чешско-Российский Банк': 59, 'Компания Розничного Кредитования': 59, 'Русстройбанк': 57, 'Народный Кредит': 57, 'Еврокоммерц': 55, 'ВТБ Северо-Запад': 52, 'Навигатор': 51, 'Примсоцбанк': 50, 'Объединенный Кредитный Банк': 49, 'Центр-инвест': 49, 'Интерпрогрессбанк': 49, 'Славянский Кредит': 49, 'Русский Ипотечный Банк': 48, 'Россия': 47, 'Русский Земельный Банк': 47, 'Дил-Банк': 46, 'Меткомбанк (Череповец)': 46, 'Левобережный': 46, 'Витас Банк': 46, 'Соверен Банк': 45, 'Транснациональный Банк': 45, 'Петербургский Социальный Коммерческий Банк': 44, 'Банкирский Дом': 43, 'Клиентский': 43, 'Европейский Трастовый Банк': 43, 'БКС — Инвестиционный Банк': 41, 'Легион': 41, 'Агропромкредит': 41, 'БыстроБанк': 40, 'Инвесткапиталбанк': 39, 'Внешпромбанк': 37, 'Инвестиционный Союз': 37, 'Миръ': 37, 'Крайинвестбанк': 36, 'Форус Банк': 36, 'Московский Капитал': 36, 'Межрегиональный Почтовый Банк': 35, 'Городской Ипотечный Банк': 35, 'Энергомашбанк': 34, 'Кедр': 34, 'СтарБанк': 33, 'Запсибкомбанк': 32, 'Мультибанк': 32, 'Интерактивный Банк': 31, 'Трансинвестбанк': 31, 'Русский Торговый Банк': 30, 'Леноблбанк': 30, 'Межтопэнергобанк': 29, 'Евромет': 29, 'Эйч-Эс-Би-Си Банк (HSBC)': 28, 'Ланта-Банк': 26, 'Кубань Кредит': 26, 'Газэнергобанк': 26, 'Банк БКФ': 26, 'Тимер Банк': 25, 'Охотный Ряд': 25, 'Первобанк': 24, 'Генбанк': 24, 'Церих': 24, 'Темпбанк': 23, 'БФГ-Кредит': 23, 'Промтрансбанк': 23, 'Александровский': 23, 'АБ Финанс': 23, 'Соцгорбанк': 23, 'Агросоюз': 22, 'Кольцо Урала': 22, 'Пересвет': 22, 'Адмиралтейский': 21, 'Верхневолжский': 21, 'Эллипс Банк': 21, 'Национальный Банк Развития Бизнеса': 21, 'Экспресс-Кредит': 20, 'Челябинвестбанк': 20, 'Рост': 20, 'Гагаринский': 19, 'Банк Оранжевый (бывш. Промсервисбанк)': 19, 'Констанс-Банк': 19, 'Анталбанк': 19, 'Челиндбанк': 19, 'Эксперт Банк': 19, 'Уралтрансбанк': 19, 'Всероссийский Банк Развития Регионов': 19, 'АФ Банк': 19, 'Сведбанк': 19, 'Бест Эффортс Банк': 19, 'Образование': 18, 'Первомайский': 18, 'ФИА-Банк': 18, 'Таурус Банк': 18, 'Межтрастбанк': 18, 'Башкомснаббанк': 18, 'Банк Город': 18, 'Тойота Банк': 18, 'Европейский Индустриальный Банк': 18, 'Интехбанк': 17, 'Банк СГБ': 17, 'Саровбизнесбанк': 17, 'Московский Залоговый Банк': 17, 'Межпромбанк Плюс': 17, 'ББР Банк': 16, 'Воронеж': 16, 'Промышленно-Финансовое Сотрудничество': 16, 'Рускобанк': 16, 'Металлинвестбанк': 16, 'Империя': 16, 'Электроника': 16, 'Торговый Городской Банк': 15, 'ТЭМБР-Банк': 15, 'Нейва': 15, 'Мой Банк. Ипотека': 15, 'Эргобанк': 14, 'Банк «МБА-Москва»': 14, 'Банк АВБ': 14, 'Спецсетьстройбанк': 14, 'Платежный Центр': 13, 'Тройка-Д Банк': 13, 'Милбанк': 13, 'Айви Банк': 13, 'Фольксваген Банк Рус': 13, 'Платина': 13, 'Трастовый Республиканский Банк': 13, 'Акибанк': 13, 'Стратегия': 12, 'Унифин': 12, 'Национальный Залоговый Банк': 12, 'ЯР-Банк': 12, 'Эл Банк': 12, 'Джей энд Ти Банк': 12, 'Национальный Резервный Банк': 12, 'Петро-Аэро-Банк': 12, 'Нота-Банк': 11, 'Ренессанс': 11, 'Московское Ипотечное Агентство': 11, 'Финпромбанк (ФПБ Банк)': 11, 'Заубер Банк': 11, 'Банк ПСА Финанс Рус': 11, 'Фондсервисбанк': 11, 'Невский Банк': 11, 'Ваш Личный Банк': 11, 'Центркомбанк': 11, 'Акцепт': 11, 'Форштадт': 11, 'Свердловский Губернский Банк': 11, 'Русич Центр Банк': 11, 'Нижний Новгород': 11, 'Международный Промышленный Банк': 11, 'Алеф-Банк': 10, 'Национальный Корпоративный Банк': 10, 'Солид Банк': 10, 'Сургутнефтегазбанк': 10, 'Вятка-Банк': 10, 'Солидарность (Самара)': 10, 'Канский': 10, 'Морской Банк': 10, 'Банк Торгового Финансирования': 10, 'Уралпромбанк': 10, 'Липецккомбанк': 10, 'ОФК Банк': 10, 'Гринфилдбанк': 10, 'Миллениум Банк': 9, 'Социнвестбанк': 9, 'Донинвест': 9, 'Газбанк': 9, 'Королевский Банк Шотландии': 9, 'Башинвестбанк': 9, 'Российский Национальный Коммерческий Банк': 8, 'Профессионал Банк': 8, 'Кредит Урал Банк': 8, 'БМВ Банк': 8, 'Мосводоканалбанк': 8, 'Енисейский Объединенный Банк': 8, 'Капиталбанк': 8, 'Курскпромбанк': 8, 'Славянский Банк': 8, 'Ай-Си-Ай-Си-Ай Банк (ICICI)': 8, 'Лефко-Банк': 8, 'Эконацбанк': 8, 'Русский Банкирский Дом': 8, 'Бинбанк Мурманск': 7, 'Веста': 7, 'Аверс': 7, 'Мираф-Банк': 7, 'Промсбербанк': 7, 'ЮГ-Инвестбанк': 7, 'Международный Расчетный Банк': 7, 'Банк Казани': 7, 'Тихоокеанский Внешторгбанк': 7, 'Дальневосточный Банк': 7, 'ПК-Банк': 7, 'Далькомбанк': 7, 'Коммерческий Банк Развития': 7, 'Газэнергопромбанк': 7, 'Нижегородпромстройбанк': 7, 'Ярсоцбанк': 7, 'Инкасбанк': 7, 'Первое\\xa0О.\\xa0В. К.': 7, 'Спурт Банк': 6, 'Анкор Банк': 6, 'Финарс Банк': 6, 'МФБанк': 6, 'СКА-Банк': 6, 'Солидарность (Москва)': 6, 'Оргбанк': 6, 'Энергобанк': 6, 'БайкалБанк': 6, 'Интрастбанк': 6, 'Московский Нефтехимический Банк': 6, 'Юникорбанк': 6, 'ИпоТек Банк': 6, 'Замоскворецкий': 6, 'Витабанк': 6, 'Банк БЦК-Москва': 6, 'ПВ-Банк': 6, 'Трансстройбанк': 5, 'Кроссинвестбанк': 5, 'РН Банк': 5, 'Русский Трастовый Банк': 5, 'Анелик РУ': 5, 'Ярославич': 5, 'Тульский Промышленник': 5, 'И.Д.Е.А. Банк': 5, 'Альта-Банк': 5, 'Газстройбанк': 5, 'ЦентроКредит': 5, 'Вокбанк': 5, 'Резерв': 5, 'Кранбанк': 5, 'ТверьУниверсалБанк': 5, 'Промрегионбанк': 5, 'ЕвроситиБанк': 5, 'Новосибирский Муниципальный Банк': 5, 'Экопромбанк': 5, 'Диг-Банк': 5, 'Нефтяной Альянс': 5, 'Росдорбанк': 5, 'Волго-Камский Банк': 5, 'Инбанк': 5, 'Роспромбанк': 5, 'Международный Инвестиционный Банк': 5, 'Интерпромбанк': 5, 'Эталонбанк': 5, 'Газинвестбанк': 5, 'Уралсиб-Юг Банк': 5, 'Русский Международный Банк': 4, 'Региональный Кредит': 4, 'Камский Коммерческий Банк': 4, 'НБД-Банк': 4, 'Объединенный Национальный Банк': 4, 'Конфидэнс Банк': 4, 'Экономбанк': 4, 'Выборг-Банк': 4, 'Уралфинанс': 4, 'Меткомбанк (Каменск-Уральский)': 4, 'Новопокровский': 4, 'РУБанк': 4, 'Екатеринбург': 4, 'Форбанк': 4, 'ИстКом-Финанс': 4, 'Банк БФТ': 4, 'Почтобанк': 4, 'Роял Кредит Банк': 4, 'Совинком': 4, 'Стройлесбанк': 4, 'Банк Развития Региона': 4, 'Региональный Банк Развития': 4, 'Дом-Банк': 4, 'Росбизнесбанк': 4, 'Тетраполис': 4, 'Международный Банк Санкт-Петербурга (МБСП)': 4, 'Банк Высоких Технологий': 4, 'МБТС-Банк': 4, 'Поволжский Немецкий Банк': 4, 'Европроминвест': 4, 'Адамон Банк': 3, 'Владпромбанк': 3, 'Риабанк': 3, 'Гринкомбанк': 3, 'Метрополь': 3, 'Банк Экономический Союз': 3, 'Уссури': 3, 'Новикомбанк': 3, 'Муниципальный Камчатпрофитбанк': 3, 'Живаго-Банк': 3, 'Рапида': 3, 'Энерготрансбанк': 3, 'НоваховКапиталБанк': 3, 'Черноморский банк развития и реконструкции': 3, 'Ринвестбанк': 3, 'Славия': 3, 'Девон-Кредит': 3, 'Горбанк': 3, 'МАК-Банк': 3, 'Приморье': 3, 'Банк МБФИ': 3, 'Эсидбанк': 3, 'Ишбанк': 3, 'Бум-Банк': 3, 'Московский Коммерческий Банк': 3, 'Экси-Банк': 3, 'РТС-Банк': 3, 'Агророс': 3, 'Нарат': 3, 'Басманный': 3, 'Линк-Банк': 3, 'Столичный Кредит': 3, 'Невастройинвест': 3, 'НОМОС-Банк-Сибирь': 3, 'Инвест-Экобанк': 3, 'Тагилбанк': 3, 'Тревел Банк': 3, 'Лада-Кредит': 3, 'Оренбург': 3, 'Нижневолжский Коммерческий Банк': 3, 'Столичный Торговый Банк': 3, 'Соцкредитбанк': 3, 'Форпост': 3, 'СЭБ Банк': 3, 'Русь-Банк-Урал': 3, 'СПБРР': 3, 'Диамонд-Банк': 3, 'Городской Клиентский': 3, 'Русские Финансовые\\xa0Традиции': 3, 'ВИП-Банк': 3, 'Судкомбанк': 3, 'Донхлеббанк': 2, 'Ижкомбанк': 2, 'РФИ Банк': 2, 'Зенит Сочи': 2, 'Внешэкономбанк': 2, 'Плато-Банк': 2, 'Ставропольпромстройбанк': 2, 'Мико-Банк': 2, 'НСТ-Банк': 2, 'Аксонбанк': 2, 'Дагэнергобанк': 2, 'РИТ-Банк': 2, 'Уральский Финансовый Дом': 2, 'Международный Банк Развития': 2, 'Тюменьагропромбанк': 2, 'АББ': 2, 'Алданзолотобанк': 2, 'Московский Клиринговый Центр': 2, 'Региональный Коммерческий Банк': 2, 'Нацинвестпромбанк': 2, 'Таатта': 2, 'Богородский Муниципальный Банк': 2, 'Далена': 2, 'Первый Инвестиционный банк': 2, 'Москва': 2, 'ГПБ-Ипотека': 2, 'Банк БФА': 2, 'Дойче Банк': 2, 'Стелла-Банк': 2, 'Бузулукбанк': 2, 'Тальменка-Банк': 2, 'Интеркоопбанк': 2, 'Уралприватбанк': 2, 'Русь': 2, 'Автоторгбанк': 2, 'Евросиб Банк': 2, 'Национальный Банк Сбережений': 2, 'Волжский Социальный Банк': 2, 'РусЮгбанк': 2, 'Кузнецкий': 2, 'Новый Символ': 2, 'Автоградбанк': 2, 'Углеметбанк': 2, 'Сетевая Расчетная Палата': 2, 'Банк Инноваций и Развития': 2, 'Татагропромбанк': 2, 'Банк Расчетов и Сбережений': 2, 'КС Банк': 2, 'Викинг': 2, 'ВЕБРР': 2, 'Межрегиональный Клиринговый Банк': 2, 'Местный Кредит': 2, 'НОМОС-Региобанк': 2, 'Банк Раунд': 2, 'Интеркапитал-Банк': 2, 'Сталь Банк': 2, 'Тольяттихимбанк': 2, 'Объединенный Банк Промышленных Инвестиций': 2, 'Галабанк': 2, 'Новобанк': 2, 'Енисей': 2, 'Баренцбанк': 2, 'Борский Коммерческий Банк': 2, 'Хоум-Банк': 2, 'Тарханы': 2, 'Стромкомбанк': 2, 'Южный Региональный Банк': 2, 'Развитие-Столица': 2, 'ИРС': 2, 'Южный Торговый Банк': 2, 'Русский Банк Сбережений': 2, 'Национальный Стандарт': 2, 'Приполярком': 2, 'Евразия-Центр': 2, 'Уралвнешторгбанк': 2, 'Бризбанк': 2, 'Чайна Констракшн': 1, 'Регнум': 1, 'Союзный': 1, 'Бумеранг': 1, 'Кошелев-Банк': 1, 'Аспект': 1, 'Банк Премьер Кредит': 1, 'Развитие': 1, 'Иваново': 1, 'Финанс Бизнес Банк': 1, 'Татсоцбанк': 1, 'Акцент': 1, 'Йошкар-Ола': 1, 'Мегаполис': 1, 'Кредит Экспресс': 1, 'РСКБ': 1, 'Межрегионбанк': 1, 'Век': 1, 'Крыловский': 1, 'Булгар Банк': 1, 'Златкомбанк': 1, 'БайкалИнвестБанк': 1, 'Консервативный Коммерческий Банк': 1, 'Народный Банк': 1, 'Курган': 1, 'Вега-Банк': 1, 'Чувашкредитпромбанк': 1, 'Русский Национальный Банк': 1, 'Региональный Корпоративный Банк': 1, 'Снежинский': 1, 'Тульский Промышленник — Московский офис': 1, 'Кубаньторгбанк': 1, 'Вологжанин': 1, 'Московский Вексельный Банк': 1, 'Саммит Банк': 1, 'Байкалкредобанк': 1, 'Венец': 1, 'Берейт': 1, 'Взаимодействие': 1, 'Рублевский': 1, 'Кредитбанк': 1, 'Радиан': 1, 'Европейский Экспресс': 1, 'Единый Строительный Банк': 1, 'Ипозембанк': 1, 'Прио-Внешторгбанк': 1, 'Еврокредит': 1, 'Нико-Банк': 1, 'Сибнефтебанк': 1, 'Вкабанк': 1, 'Новокузнецкий Муниципальный Банк': 1, 'Прокоммерцбанк': 1, 'Кор': 1, 'Русский Финансовый Альянс': 1, 'Природа': 1, 'Мигом': 1, 'Металлург': 1, 'Еврофинанс Моснарбанк': 1, 'Межрегиональный промышленно-строительный банк': 1, 'Алтынбанк': 1, 'Тульский Расчетный Центр': 1, 'Хакасский Муниципальный Банк': 1, 'ИК Банк': 1, 'АМБ Банк': 1, 'Ермак': 1, 'Москва-Сити': 1, 'Земский Банк': 1, 'Донкомбанк': 1, 'Уралкапиталбанк': 1, 'УИК-Банк': 1, 'Мастер-Капитал': 1, 'Европейский': 1, 'Сельмашбанк': 1, 'ИНГ Банк': 1, 'Банк Развития Технологий': 1, 'БСТ-Банк': 1, 'Мой Банк. Новосибирск': 1, 'Белгородпромстройбанк': 1, 'Объединенный Резервный Банк': 1, 'Гранд Инвест Банк': 1, 'Хованский': 1, 'Сиббизнесбанк': 1, 'Донбанк': 1, 'Потенциал': 1, 'Ури Банк': 1, 'Ураллига': 1, 'Держава': 1, 'Традо-Банк': 1, 'Ростпромстройбанк': 1, 'Прайм Финанс': 1, 'Проминвестбанк': 1, 'Гарант-Инвест': 1, 'Донской Народный Банк': 1, 'Академический Русский Банк': 1, 'Экспресс': 1, 'Камабанк': 1, 'Град-Банк': 1, 'Национальный Торговый Банк': 1, 'Юго-Восток': 1, 'Современные Стандарты Бизнеса': 1, 'Фемили': 1, 'Одинбанк': 1, 'Лесбанк': 1, 'Агрохимбанк': 1, 'Верхне-Волжский Нефтебанк': 1, 'Сибконтакт': 1, 'Волгопромбанк': 1, 'Ноосфера': 1, 'М2М Прайвет Банк': 1, 'Южный Регион': 1, 'Движение': 1, 'Система': 1, 'Северный Народный Банк': 1, 'Жилстройбанк': 1, 'Нэклис-Банк': 1, 'Индустриальный': 1, 'Индустриальный Сберегательный Банк': 1, 'Красбанк': 1, 'Тайм Банк': 1, 'Банкхаус Эрбе': 1, 'Петербург-Инвест': 1, 'Максима': 1, 'Петровка': 1, 'Алмазэргиэнбанк': 1, 'Юникбанк': 1, 'Витязь': 1, 'Независимый Банк Развития': 1})\n"
     ]
    }
   ],
   "source": [
    "from collections import Counter\n",
    "counts = Counter(count_R)\n",
    "print(counts)"
   ]
  },
  {
   "cell_type": "code",
   "execution_count": 45,
   "metadata": {},
   "outputs": [
    {
     "name": "stdout",
     "output_type": "stream",
     "text": [
      "Counter({'г. Москва': 55354, 'г. Санкт-Петербург': 14342, 'г. Екатеринбург': 2337, 'г. Новосибирск': 2300, 'г. Нижний Новгород': 1976, 'г. Ростов-на-Дону': 1891, 'г. Самара': 1731, 'г. Челябинск': 1507, 'г. Казань': 1440, 'г. Краснодар': 1262, 'г. Уфа': 1246, 'г. Красноярск': 1236, 'г. москва': 1217, 'г. Воронеж': 1210, 'г. Пермь': 1163, 'г. Волгоград': 1014, 'г. Омск': 989, 'г. Саратов': 933, 'г. Иркутск': 749, 'г. Калининград': 746, 'г. Ставрополь': 696, 'г. Хабаровск': 681, 'г. Тюмень': 656, 'г. Владивосток': 637, 'г. Ярославль': 609, 'г. Барнаул': 609, 'г. Тула': 586, 'г. Томск': 569, 'г. Рязань': 548, 'г. Ульяновск': 500, 'г. Тольятти': 473, 'г. Липецк': 461, 'г. Иваново': 458, 'г. Ижевск': 454, 'г. Тверь': 447, 'г. Мурманск': 434, 'г. Пенза': 433, 'г. Оренбург': 431, 'г. Чебоксары': 392, 'г. Кемерово': 390, 'г. Белгород': 387, 'г. Магнитогорск': 379, 'г. Сочи': 367, 'г. Владимир': 363, 'г. Курск': 360, 'г. Астрахань': 330, 'г. Архангельск': 328, 'г. Калуга': 327, 'г. Новокузнецк': 309, 'г. Подольск': 308, 'г. Балашиха': 304, 'г. Мытищи': 303, 'г. Вологда': 302, 'г. Набережные Челны': 299, 'г. Королев': 299, 'г. СПб': 275, 'г. Петрозаводск': 274, 'г. Киров': 272, 'г. Брянск': 267, 'г. Тамбов': 261, 'г. Таганрог': 252, 'г. Химки': 252, 'г. Люберцы': 246, 'г. Смоленск': 241, 'г. Орел': 234, 'г. Великий Новгород': 217, 'г. Новороссийск': 207, 'г. Одинцово': 207, 'г. Сергиев Посад': 206, 'г. Россия': 204, 'г. Раменское': 204, 'г. Сургут': 196, 'г. Йошкар-Ола': 190, 'г. Череповец': 190, 'г. Нижний Тагил': 189, 'г. Щелково': 186, 'г. санкт-петербург': 182, 'г. Железнодорожный': 178, 'г. Саранск': 174, 'г. Улан-Удэ': 173, 'г. Санкт Петербург': 172, 'г. Жуковский': 168, 'г. Псков': 166, 'г. Курган': 161, 'г. Кострома': 160, 'г. Нижневартовск': 159, 'г. Сыктывкар': 158, 'г. Обнинск': 152, 'г. Красногорск': 149, 'г. Волжский': 144, 'г. Зеленоград': 142, 'г. Пушкино': 137, 'г. Долгопрудный': 137, 'г. Коломна': 132, 'г. Южно-Сахалинск': 127, 'г. Чита': 126, 'г. Пятигорск': 126, 'г. Электросталь': 125, 'г. Якутск': 116, 'г. МОСКВА': 115, 'г. Благовещенск': 113, 'г. Стерлитамак': 110, 'г. Серпухов': 108, 'г. Дзержинск': 104, 'г. Бийск': 104, 'г. Ногинск': 103, 'г. Абакан': 102, 'г. Петербург': 99, 'г. Северодвинск': 98, 'г. Балаково': 96, 'г. Норильск': 95, 'г. Старый Оскол': 95, 'г. Энгельс': 94, 'г. Ангарск': 93, 'г. Волгодонск': 92, 'г. Рыбинск': 90, 'г. Комсомольск-на-Амуре': 88, 'г. Нижнекамск': 88, 'г. Санкт-петербург': 87, 'г. Реутов': 86, 'г. Ивантеевка': 84, 'г. Уссурийск': 84, 'г. Братск': 83, 'г. Миасс': 80, 'г. Клин': 80, 'г. Дубна': 79, 'г. Геленджик': 78, 'г. Фрязино': 78, 'г. СПБ': 76, 'г. Орск': 75, 'г. Дмитров': 75, 'г. Ковров': 73, 'г. новосибирск': 73, 'г. Петропавловск-Камчатский': 72, 'г. Домодедово': 71, 'г. казань': 70, 'г. Шахты': 70, 'г. Муром': 69, 'г. Орехово-Зуево': 68, 'г. Новочеркасск': 67, 'г. Сызрань': 67, 'г. Армавир': 66, 'г. Каменск-Уральский': 65, 'г. Владикавказ': 65, 'г. Ухта': 63, 'г. Магадан': 61, 'г. Нальчик': 61, 'г. Первоуральск': 61, 'г. Новомосковск': 61, 'г. Королёв': 61, 'г. С-Петербург': 59, 'г. Видное': 59, 'г. Всеволожск': 58, 'г. омск': 57, 'г. Московская область': 57, 'г. Находка': 57, 'г. уфа': 57, 'г. Ступино': 56, 'г. Ростов на Дону': 56, 'г. Анапа': 55, 'г. Майкоп': 55, 'г. Гатчина': 55, 'г. Камышин': 55, 'г. Воскресенск': 54, 'г. Альметьевск': 52, 'г. Элиста': 52, 'г. Выборг': 52, 'г. Солнечногорск': 52, 'г. Лобня': 52, 'г. г. Москва': 51, 'г. Димитровград': 50, 'г. Саров': 50, 'г. Бердск': 50, 'г. Новочебоксарск': 50, 'г. Чехов': 49, 'г. Ханты-Мансийск': 48, 'г. Туапсе': 48, 'г. Наро-Фоминск': 47, 'г. Златоуст': 46, 'г. Прокопьевск': 45, 'г. Северск': 44, 'г. Спб': 44, 'г. Железногорск': 43, 'г. Moscow': 43, 'г. Арзамас': 42, 'г. Нефтекамск': 42, 'г. самара': 42, 'г. Нефтеюганск': 42, 'г. Ачинск': 41, 'г. Севастополь': 41, 'г. Санкт- Петербург': 41, 'г. Павловский Посад': 40, 'г. Черкесск': 39, 'г. Ессентуки': 39, 'г. Великие Луки': 38, 'г. Батайск': 38, 'г. Симферополь': 38, 'г. Салават': 38, 'г. Кисловодск': 38, 'г. нижний новгород': 38, 'г. Санкт - Петербург': 38, 'г. Минеральные Воды': 37, 'г. Санк-Петербург': 36, 'г. Климовск': 36, 'г. Юбилейный': 35, 'г. Егорьевск': 34, 'г. Новокуйбышевск': 34, 'г. Апатиты': 33, 'г. Питер': 33, 'г. Зеленодольск': 33, 'г. Ейск': 33, 'г. Новый Уренгой': 32, 'г. Кстово': 32, 'г. Москва, Зеленоград': 32, 'г. Малаховка': 32, 'г. Дзержинский': 31, 'г. Новоуральск': 31, 'г. Ноябрьск': 30, 'г. Артем': 30, 'г. Рубцовск': 30, 'г. г.Москва': 30, 'г. Мирный': 29, 'г. Глазов': 29, 'г. Истра': 29, 'г. спб': 29, 'г. Протвино': 29, 'г. Азов': 29, 'г. САНКТ-ПЕТЕРБУРГ': 29, 'г. Новотроицк': 28, 'г. волгоград': 28, 'г. челябинск': 28, 'г. Воркута': 27, 'г. Невинномысск': 27, 'г. Тобольск': 27, 'г. Березники': 27, 'г. Каменск-Шахтинский': 26, 'г. Махачкала': 26, 'г. Октябрьский': 26, 'г. екатеринбург': 26, 'г. Североуральск': 26, 'г. Москва (Москва)': 26, 'г. саратов': 26, 'г. Апрелевка': 25, 'г. Санкт-Петербург (Москва)': 25, 'г. пермь': 25, 'г. санкт петербург': 25, 'г. Сочи (Краснодарский край)': 24, 'г. Борисоглебск': 24, 'г. Елец': 24, 'г. краснодар': 24, 'г. Другие': 24, 'г. Ростов': 24, 'г. Белово': 24, 'г. Н.Новгород': 24, 'г. мск': 24, 'г. Тольятти (Самарская обл.)': 23, 'г. Ленинск-Кузнецкий': 23, 'г. Усть-Илимск': 23, 'г. Нерюнгри': 23, 'г. Сафоново': 23, 'г. Междуреченск': 23, 'г. Можайск': 23, 'г. Лыткарино': 23, 'г. Верещагино': 23, 'г. Краснознаменск': 23, 'г. Мончегорск': 22, 'г. Зеленогорск': 22, 'г. Бузулук': 22, 'г. Сосновый Бор': 22, 'г. Елабуга': 22, 'г. Кинешма': 22, 'г. Когалым': 22, 'г. Грозный': 22, 'г. тольятти': 22, 'г. Биробиджан': 21, 'г. Ревда': 21, 'г. Орёл': 21, 'г. Горно-Алтайск': 21, 'г. Воткинск': 21, 'г. Амурск': 21, 'г. Чайковский': 21, 'г. магнитогорск': 21, 'г. красноярск': 21, 'г. Боровичи': 20, 'г. Канск': 20, 'г. Губкин': 20, 'г. Выкса': 20, 'г. Усинск': 20, 'г. Новодвинск': 20, 'г. воронеж': 20, 'г. Юрга': 19, 'г. С-Пб': 19, 'г. Копейск': 19, 'г. Павлово': 19, 'г. Бугульма': 19, 'г. томск': 19, 'г. Вязьма': 19, 'г. Серов': 19, 'г. Бронницы': 19, 'г. Кызыл': 19, 'г. иркутск': 19, 'г. Переславль-Залесский': 19, 'г. Лесной': 19, 'г. Кашира': 19, 'г. Снежинск': 19, 'г. Cанкт-Петербург': 19, 'г. кемерово': 19, 'г. Москва.': 19, 'г. Туймазы': 18, 'г. Новоалтайск': 18, 'г. Заречный': 18, 'г. Узловая': 18, 'г. Сарапул': 18, 'г. Усолье-Сибирское': 18, 'г. Надым': 18, 'г. Березовский': 18, 'г. ростов-на-дону': 18, 'г. Георгиевск': 17, 'г. Люберцы (Московская обл.)': 17, 'г. Железногорск-Илимский': 17, 'г. Шатура': 17, 'г. Кимры': 17, 'г. Кингисепп': 17, 'г. Черноголовка': 17, 'г. Озерск': 17, 'г. Лесосибирск': 17, 'г. Троицк': 17, 'г. новокузнецк': 17, 'г. Щёлково': 17, 'г. С.Петербург': 17, 'г. Магнитогорск (Челябинская обл.)': 16, 'г. Волхов': 16, 'г. Нахабино': 16, 'г. Крымск': 16, 'г. Щекино': 16, 'г. Красноармейск': 16, 'г. Североморск': 16, 'г. Котельники': 16, 'г. владивосток': 16, 'г. хабаровск': 16, 'г. калининград': 16, 'г. Тосно': 15, 'г. Набережные Челны (Республика Татарстан)': 15, 'г. Клинцы': 15, 'г. Новороссийск (Краснодарский край)': 15, 'г. Голицыно': 15, 'г. Белогорск': 15, 'г. Минусинск': 15, 'г. Кузнецк': 15, 'г. Пущино': 15, 'г. Нягань': 15, 'г. Южноуральск': 15, 'г. тюмень': 15, 'г. рязань': 15, 'г. Нижний новгород': 15, 'г. Санкт -Петербург': 15, 'г. Санкт-Петребург': 15, 'г. Моска': 15, 'г. Вихоревка': 14, 'г. Холмск': 14, 'г. Краснокаменск': 14, 'г. Сосновоборск': 14, 'г. Тихорецк': 14, 'г. Ярцево': 14, 'г. Балахна': 14, 'г. Стрежевой': 14, 'г. Тимашевск': 14, 'г. Соликамск': 14, 'г. Сальск': 14, 'г. Саяногорск': 14, 'г. Десногорск': 14, 'г. Белорецк': 14, 'г. Монгохто': 14, 'г. Рузаевка': 14, 'г. Шадринск': 14, 'г. Отрадный': 14, 'г. Ростов-на-дону': 14, 'г. набережные челны': 14, 'г. Санкт_Петербург': 14, 'г. Челябинск.': 14, 'г. Чапаевск': 13, 'г. Новокузнецк (Кемеровская обл.)': 13, 'г. Мытищи (Московская обл.)': 13, 'г. Кропоткин': 13, 'г. Партизанск': 13, 'г. Александров': 13, 'г. Алексеевка': 13, 'г. Нарьян-Мар': 13, 'г. Искитим': 13, 'г. Печора': 13, 'г. Балашов': 13, 'г. Лысьва': 13, 'г. Аксай': 13, 'г. Кирово-Чепецк': 13, 'г. барнаул': 13, 'г. пенза': 13, 'г. ульяновск': 13, 'г. тула': 13, 'г. МО': 13, 'г. Колпино': 13, 'г. Рославль': 12, 'г. Лениногорск': 12, 'г. Ростов на дону': 12, 'г. Асбест': 12, 'г. Курчатов': 12, 'г. Черногорск': 12, 'г. Кунгур': 12, 'г. Мегион': 12, 'г. Малоярославец': 12, 'г. ярославль': 12, 'г. Лабинск': 12, 'г. Киселевск': 12, 'г. Мценск': 12, 'г. Россошь': 12, 'г. Гусь-Хрустальный': 12, 'г. Темрюк': 12, 'г. Ишимбай': 12, 'г. Алексин': 12, 'г. Урюпинск': 12, 'г. УФА': 12, 'г. вологда': 12, 'г. Моква': 12, 'г. Щербинка': 12, 'г. Sankt-Peterburg': 12, 'г. С.-Петербург': 12, 'г. Балашиха (Московская обл.)': 11, 'г. Азнакаево': 11, 'г. Киев': 11, 'г. Верхняя Пышма': 11, 'г. Ржев': 11, 'г. Шелехов': 11, 'г. Москва (Санкт-Петербург)': 11, 'г. Киев (Москва)': 11, 'г. Михайловка': 11, 'г. Вышний Волочек': 11, 'г. Луга': 11, 'г. Шарыпово': 11, 'г. Черняховск': 11, 'г. Кыштым': 11, 'г. Тихвин': 11, 'г. Кумертау': 11, 'г. Заринск': 11, 'г. Москва г': 11, 'г. подольск': 11, 'г. мурманск': 11, 'г. МОсква': 11, 'г. нерезиновск': 11, 'г. Арсеньев': 10, 'г. Химки (Московская обл.)': 10, 'г. Подольск (Московская обл.)': 10, 'г. Мичуринск': 10, 'г. Сухой Лог': 10, 'г. Кодинск': 10, 'г. САМАРА': 10, 'г. Белая Калитва': 10, 'г. Черемхово': 10, 'г. Бор': 10, 'г. Кондопога': 10, 'г. Кировск': 10, 'г. Краснотурьинск': 10, 'г. Иноземцево': 10, 'г. Кириши': 10, 'г. Руза': 10, 'г. Назарово': 10, 'г. Жигулевск': 10, 'г. Котлас': 10, 'г. Заволжье': 10, 'г. Звенигород': 10, 'г. Балабаново': 10, 'г. Куровское': 10, 'г. брянск': 10, 'г. Санкт-Петерубрг': 10, 'г. тверь': 10, 'г. липецк': 10, 'г. ОМСК': 10, 'г. Североуральск,Калья': 10, 'г. ростов на дону': 10, 'г. волжский': 10, 'г. Муравленко': 10, 'г. Конаково': 9, 'г. Новокубанск': 9, 'г. Сергиев Посад (Московская обл.)': 9, 'г. Щелково (Московская обл.)': 9, 'г. Ялта': 9, 'г. Энгельс (Саратовская обл.)': 9, 'г. Белебей': 9, 'г. Полевской': 9, 'г. Кандалакша': 9, 'г. Волоколамск': 9, 'г. Спасск-Дальний': 9, 'г. Луховицы': 9, 'г. Ефремов': 9, 'г. Советская Гавань': 9, 'г. курск': 9, 'г. Радужный': 9, 'г. Усть-Лабинск': 9, 'г. Костомукша': 9, 'г. Старая Купавна': 9, 'г. Гагарин': 9, 'г. Монино': 9, 'г. Югорск': 9, 'г. Москва (Москва и область)': 9, 'г. Новозыбков': 9, 'г. Моршанск': 9, 'г. Кореновск': 9, 'г. чебоксары': 9, 'г. череповец': 9, 'г. ижевск': 9, 'г. калуга': 9, 'г. североморск': 9, 'г. Мосвка': 9, 'г. коломна': 9, 'г. Таганрог (Ростовская обл.)': 8, 'г. Одинцово (Московская обл.)': 8, 'г. таганрог': 8, 'г. Нижний Тагил (Свердловская обл.)': 8, 'г. Курганинск': 8, 'г. Суворов': 8, 'г. Камышлов': 8, 'г. Сибай': 8, 'г. Новошахтинск': 8, 'г. Никольское': 8, 'г. Лиски': 8, 'г. Королев (Московская обл.)': 8, 'г. Канаш': 8, 'г. Вольск': 8, 'г. новороссийск': 8, 'г. Сатка': 8, 'г. Хотьково': 8, 'г. Великий Новгород (Другие)': 8, 'г. Сасово': 8, 'г. Людиново': 8, 'г. Волжск': 8, 'г. Чистополь': 8, 'г. Электроугли': 8, 'г. Светлый': 8, 'г. Алапаевск': 8, 'г. Корсаков': 8, 'г. Тында': 8, 'г. балашиха': 8, 'г. Санкт-Петебург': 8, 'г. ставрополь': 8, 'г. Санкт петербург': 8, 'г. С. Петербург': 8, 'г. петрозаводск': 8, 'г. Нижегородская область': 8, 'г. Волгодонск (Ростовская обл.)': 7, 'г. Ростовская область': 7, 'г. Дятьково': 7, 'г. Валуйки': 7, 'г. Костромская': 7, 'г. Электросталь (Московская обл.)': 7, 'г. Ишим': 7, 'г. Бийск (Алтайский край)': 7, 'г. Ялуторовск': 7, 'г. Ливны': 7, 'г. Лермонтов': 7, 'г. Советск': 7, 'г. Орехово-Зуево (Московская обл.)': 7, 'г. Шуя': 7, 'г. Аткарск': 7, 'г. Славянск-на-Кубани': 7, 'г. Жуковский (Московская обл.)': 7, 'г. Сланцы': 7, 'г. Старая Русса': 7, 'г. Снежногорск': 7, 'г. Калиниград': 7, 'г. Санкт-Петербург г': 7, 'г. Удомля': 7, 'г. Еманжелинск': 7, 'г. Прохладный': 7, 'г. Оха': 7, 'г. Жирновск': 7, 'г. Заинск': 7, 'г. Гуково': 7, 'г. Суздаль': 7, 'г. Павловская': 7, 'г. Большой Камень': 7, 'г. Учалы': 7, 'г. Дивногорск': 7, 'г. Московская область (Москва)': 7, 'г. Москва (Нижний Новгород)': 7, 'г. Химки (Москва)': 7, 'г. Ставропольский край': 7, 'г. Саянск': 7, 'г. Гусиноозерск': 7, 'г. Лебедянь': 7, 'г. Балтийск': 7, 'г. Коммунар': 7, 'г. Пугачев': 7, 'г. Мыски': 7, 'г. Санкт-Петербург.': 7, 'г. улан-удэ': 7, 'г. Минск': 7, 'г. г. Санкт-Петербург': 7, 'г. владимир': 7, 'г. миасс': 7, 'г. петербург': 7, 'г. шахты': 7, 'г. нижний тагил': 7, 'г. ЕКАТЕРИНБУРГ': 7, 'г. Благовещенск (Амурская обл.)': 7, 'г. старый оскол': 7, 'г. лобня': 7, 'г. южно-сахалинск': 7, 'г. Клин, МО': 7, 'г. Балахна, Нижегородская область': 7, 'г. Богородицк': 6, 'г. Сургут (Ханты-Мансийский АО)': 6, 'г. Раменское (Московская обл.)': 6, 'г. Пятигорск (Ставропольский край)': 6, 'г. Мелеуз': 6, 'г. Абинск': 6, 'г. Инта': 6, 'г. Николаевск-на-Амуре': 6, 'г. сочи': 6, 'г. Сураж': 6, 'г. Железноводск': 6, 'г. Чебаркуль': 6, 'г. Волжский (Волгоградская обл.)': 6, 'г. Таштагол': 6, 'г. Чусовой': 6, 'г. Ванино': 6, 'г. Нововоронеж': 6, 'г. Вичуга': 6, 'г. Дедовск': 6, 'г. Окуловка': 6, 'г. Медногорск': 6, 'г. Кубинка': 6, 'г. Добрянка': 6, 'г. Кушва': 6, 'г. Красный Сулин': 6, 'г. Коряжма': 6, 'г. Краснодар (Москва)': 6, 'г. Омский': 6, 'г. Талдом': 6, 'г. Самара (Москва)': 6, 'г. Шебекино': 6, 'г. Тучково': 6, 'г. Сосногорск': 6, 'г. Скопин': 6, 'г. Покров': 6, 'г. Аша': 6, 'г. Кинель': 6, 'г. Буденновск': 6, 'г. Красноуральск': 6, 'г. Юрьевец': 6, 'г. Моздок': 6, 'г. Углич': 6, 'г. Бавлы': 6, 'г. Белореченск': 6, 'г. С.Петербург (Москва)': 6, 'г. Можга': 6, 'г. Салехард': 6, 'г. Анжеро-Судженск': 6, 'г. Вытегра': 6, 'г. Фокино': 6, 'г. Анадырь': 6, 'г. Дюртюли': 6, 'г. мытищи': 6, 'г. архангельск': 6, 'г. выкса': 6, 'г. Пушкин': 6, 'г. одинцово': 6, 'г. курган': 6, 'г. Видное МО': 6, 'г. Санкт-Петерубург': 6, 'г. стерлитамак': 6, 'г. оренбург': 6, 'г. чита': 6, 'г. ПЕРМЬ': 6, 'г. химки': 6, 'г. новомосковск': 6, 'г. пятигорск': 6, 'г. г.Ростов-на-Дону': 6, 'г. Зеленодольск,Татарстан': 6, 'г. Талнах': 6, 'г. Петрбург': 6, 'г. Нижнекамск (Республика Татарстан)': 5, 'г. Ступино (Московская обл.)': 5, 'г. Кондопога (Республика Карелия)': 5, 'г. Дубна (Московская обл.)': 5, 'г. Стерлитамак (Республика Башкортостан)': 5, 'г. Юсьва': 5, 'г. Ковдор': 5, 'г. Мариинск': 5, 'г. Борзя': 5, 'г. Усть-Кут': 5, 'г. Фрязино (Московская обл.)': 5, 'г. Маркс': 5, 'г. Елизово': 5, 'г. Кольчугино': 5, 'г. Камень-на-Оби': 5, 'г. Нурлат': 5, 'г. Сертолово': 5, 'г. тамбов': 5, 'г. Пыть-Ях': 5, 'г. Светлоград': 5, 'г. Советский': 5, 'г. Чудово': 5, 'г. королёв': 5, 'г. Кинель-Черкассы': 5, 'г. Оленегорск': 5, 'г. Торжок': 5, 'г. Фролово': 5, 'г. Саратов (Москва)': 5, 'г. Запорожье (Москва)': 5, 'г. Тарко-Сале': 5, 'г. Екатеринбург (Москва)': 5, 'г. Красноуфимск': 5, 'г. Воронеж (Москва)': 5, 'г. Пермь (Москва)': 5, 'г. Пролетарск': 5, 'г. Вуктыл': 5, 'г. Унеча': 5, 'г. Люберцы (Москва и область)': 5, 'г. Верхняя Салда': 5, 'г. Карпинск': 5, 'г. Грязи': 5, 'г. Мытищи (Москва и область)': 5, 'г. Урай': 5, 'г. Трехгорный': 5, 'г. Кукмор': 5, 'г. Павловск': 5, 'г. Ликино-Дулево': 5, 'г. Губкинский': 5, 'г. Нижняя Тура': 5, 'г. Ахтубинск': 5, 'г. Вельск': 5, 'г. Белокуриха': 5, 'г. Алтайский край': 5, 'г. Стародуб': 5, 'г. Светогорск': 5, 'г. Вятские Поляны': 5, 'г. Семенов': 5, 'г. кимры': 5, 'г. сургут': 5, 'г. НОВОСИБИРСК': 5, 'г. КРАСНОЯРСК': 5, 'г. йошкар-ола': 5, 'г. смоленск': 5, 'г. уссурийск': 5, 'г. кострома': 5, 'г. город Москва': 5, 'г. люберцы': 5, 'г. Ленинградская область': 5, 'г. РЯЗАНЬ': 5, 'г. нижневартовск': 5, 'г. Санкт-Петерург': 5, 'г. Краснодарский край': 5, 'г. Томская область, г. Северск.': 5, 'г. киров': 5, 'г. Н Новгород': 5, 'г. иваново': 5, 'г. Санкт-Петрбург': 5, 'г. ВОЛГОГРАД': 5, 'г. королев': 5, 'г. видное': 5, 'г. Московская обл.': 5, 'г. Санкт- петербург': 5, 'г. Москва/МО': 5, 'г. Москв': 5, 'г. Мосва': 5, 'г. г.Санкт-Петербург': 5, 'г. Приморский край': 5, 'г. Салават (Республика Башкортостан)': 4, 'г. Свободный': 4, 'г. Красноармейск (Саратовская обл.)': 4, 'г. Новокуйбышевск (Самарская обл.)': 4, 'г. Коломна (Московская обл.)': 4, 'г. Череповец (Вологодская обл.)': 4, 'г. Ейск (Краснодарский край)': 4, 'г. Ангарск (Иркутская обл.)': 4, 'г. Железнодорожный (Московская обл.)': 4, 'г. Дзержинск (Нижегородская обл.)': 4, 'г. Донской': 4, 'г. Борисоглеб': 4, 'г. Кировский': 4, 'г. Бердск (Новосибирская обл.)': 4, 'г. Братск (Иркутская обл.)': 4, 'г. Болотное': 4, 'г. Шимановск': 4, 'г. Лучегорск': 4, 'г. Вишневогорск': 4, 'г. Красногорск (Московская обл.)': 4, 'г. Старый Оскол (Белгородская обл.)': 4, 'г. Онега': 4, 'г. Воронежская': 4, 'г. Ивантеевка (Московская обл.)': 4, 'г. Архангельская область': 4, 'г. Бирск': 4, 'г. Михайловск': 4, 'г. Северск (Томская обл.)': 4, 'г. Находка (Приморский край)': 4, 'г. Боровск': 4, 'г. Куйбышев': 4, 'г. Ипатово': 4, 'г. Уфа (Республика Башкортостан)': 4, 'г. Юрьев-Польский': 4, 'г. Северный Кавказ': 4, 'г. Соль-Илецк': 4, 'г. Ивангород': 4, 'г. Дудинка': 4, 'г. Заполярный': 4, 'г. Новый Оскол': 4, 'г. Каменка': 4, 'г. Зеленоград (Москва)': 4, 'г. Бологое': 4, 'г. Липецк (Москва)': 4, 'г. Тула (Тульская область)': 4, 'г. Санкт-Петербург (Санкт-Петербург и область)': 4, 'г. Великий Устюг': 4, 'г. Фряново': 4, 'г. Зарайск': 4, 'г. Центр': 4, 'г. Шумерля': 4, 'г. Новосибирск (Новосибирск)': 4, 'г. Казань (Нижний Новгород)': 4, 'г. Лянтор': 4, 'г. Уфа (Самара)': 4, 'г. Беломорск': 4, 'г. Лабытнанги': 4, 'г. Котельнич': 4, 'г. Сысерть': 4, 'г. Суземка': 4, 'г. Котельниково': 4, 'г. Белоусово': 4, 'г. Харьков': 4, 'г. Подольск (Москва и область)': 4, 'г. Кяхта': 4, 'г. Нижний Новгород (Нижний Новгород)': 4, 'г. Нижний Новгород (Москва)': 4, 'г. Харьков (Москва)': 4, 'г. Остров': 4, 'г. Волгоград (Волгоградская область)': 4, 'г. Сочи (Краснодар)': 4, 'г. Лесозаводск': 4, 'г. Бердск (Новосибирская область)': 4, 'г. Гай': 4, 'г. Москва и область': 4, 'г. Ирбит': 4, 'г. Среднеуральск': 4, 'г. Сходня': 4, 'г. Камешково': 4, 'г. Венев': 4, 'г. Богородск': 4, 'г. Чернушка': 4, 'г. Нефтегорск': 4, 'г. Донецк': 4, 'г. Лосино-Петровский': 4, 'г. Вязники': 4, 'г. Краснокамск': 4, 'г. Химки (Москва и область)': 4, 'г. Касимов': 4, 'г. Ершов': 4, 'г. нефтекамск': 4, 'г. КУРСК': 4, 'г. Комсомольск на Амуре': 4, 'г. Моссква': 4, 'г. Кронштадт': 4, 'г. Королев МО': 4, 'г. Электрогорск': 4, 'г. Петропавловск-камчатский': 4, 'г. Санкт-Петеребург': 4, 'г. жуковский': 4, 'г. майкоп': 4, 'г. псков': 4, 'г. Котовск': 4, 'г. Прага': 4, 'г. Королев, Московская область': 4, 'г. Йошкар-ола': 4, 'г. рыбинск': 4, 'г. город Иваново': 4, 'г. БАРНАУЛ': 4, 'г. Адлер': 4, 'г. Санкт_петербург': 4, 'г. салават': 4, 'г. ЧЕБОКСАРЫ': 4, 'г. г. Ростов-на-Дону': 4, 'г. железнодорожный': 4, 'г. пушкино': 4, 'г. зеленоград': 4, 'г. Мсоква': 4, 'г. кумертау': 4, 'г. березники': 4, 'г. щелково': 4, 'г. Тайшет': 4, 'г. ХАБАРОВСК': 4, 'г. Шушенское': 4, 'г. КРАСНОДАР': 4, 'г. В.Новгород': 4, 'г. Тотьма': 4, 'г. Дорогобуж': 4, 'г. Нью-Йорк': 4, 'г. МСК': 4, 'г. Красногорск МО': 4, 'г. Лахденпохья': 4, 'г. КАЗАНЬ': 4, 'г. дмитров': 4, 'г. Санкт-Петербруг': 4, 'г. Ачинск, Красноярский край': 4, 'г. сызрань': 4, 'г. сыктывкар': 4, 'г. орел': 4, 'г. Богородицк, Тульская область': 4, 'г. г.Уфа': 4, 'г. ст.михайловская курганинский район': 4, 'г. Сергач': 4, 'г. мегион': 4, 'г. Нолинск': 4, 'г. Реутов (Московская обл.)': 3, 'г. Москва, Санкт-Петербург': 3, 'г. Геленджик (Краснодарский край)': 3, 'г. Знаменск': 3, 'г. Зима (Иркутская обл.)': 3, 'г. Рыбинск (Ярославская обл.)': 3, 'г. Дмитров (Московская обл.)': 3, 'г. Железногорск (Курская обл.)': 3, 'г. Обнинск (Калужская обл.)': 3, 'г. Бугульма (Республика Татарстан)': 3, 'г. Апатиты (Мурманская обл.)': 3, 'г. Бежецк': 3, 'г. Великие Луки (Псковская обл.)': 3, 'г. Брюховецкая': 3, 'г. Никель': 3, 'г. Узловая (Тульская обл.)': 3, 'г. Ногинск (Московская обл.)': 3, 'г. Новочебоксарск (Чувашская республика)': 3, 'г. Губаха': 3, 'г. Зима': 3, 'г. Белоярский': 3, 'г. Запрудня': 3, 'г. Туапсе (Краснодарский край)': 3, 'г. Чамзинка': 3, 'г. Барыш': 3, 'г. Сегежа': 3, 'г. Мончегорск (Мурманская обл.)': 3, 'г. Невинномысск (Ставропольский край)': 3, 'г. Каменск-Уральский (Свердловская обл.)': 3, 'г. Новосибирская область': 3, 'г. Новомосковск (Тульская обл.)': 3, 'г. клин': 3, 'г. Марфино (Одинцовский р-н)': 3, 'г. Полярные Зори': 3, 'г. Белгород-22': 3, 'г. Жуков': 3, 'г. Ростов-на Дону': 3, 'г. Правдинский': 3, 'г. Похвистнево': 3, 'г. Изобильный (Ставропольский край)': 3, 'г. Дальнереченск': 3, 'г. Юбилейный Московской области': 3, 'г. Дербент': 3, 'г. Северодвинск (Архангельская обл.)': 3, 'г. Всеволожск (Ленинградская обл.)': 3, 'г. Яр-Сале': 3, 'г. Усинск (Республика Коми)': 3, 'г. Пестово': 3, 'г. Москва (Россия)': 3, 'г. Киржач': 3, 'г. Россия (Россия)': 3, 'г. Рассказово': 3, 'г. Пересвет': 3, 'г. Зверево': 3, 'г. Волгоград (Краснодар)': 3, 'г. Яхрома': 3, 'г. Полярный': 3, 'г. Тогучин': 3, 'г. Асино': 3, 'г. Королев (Москва)': 3, 'г. Нижнеудинск': 3, 'г. Ростов-на-Дону (Краснодар)': 3, 'г. Санкт-Петербург (Санкт-Петербург)': 3, 'г. Барабинск': 3, 'г. Уфа (Москва)': 3, 'г. Томск (Томская область)': 3, 'г. Данилов': 3, 'г. Приморский': 3, 'г. Качканар': 3, 'г. Чита (Санкт-Петербург)': 3, 'г. Тюмень (Москва)': 3, 'г. Челябинск (Челябинская область)': 3, 'г. Власиха': 3, 'г. Ковров (Владимир)': 3, 'г. Мурманск (Москва)': 3, 'г. Ярославль (Москва)': 3, 'г. Мытищи (Юбилейный)': 3, 'г. Белоозерский': 3, 'г. Голышманово': 3, 'г. Невьянск': 3, 'г. Тюменская область': 3, 'г. Верхний Уфалей': 3, 'г. Рязань (Москва)': 3, 'г. Жердевка': 3, 'г. Селятино': 3, 'г. Каневская': 3, 'г. Собинка': 3, 'г. Калуга (Москва)': 3, 'г. Курагино': 3, 'г. Михайлов': 3, 'г. Евпатория': 3, 'г. Осинники': 3, 'г. Козьмодемьянск': 3, 'г. Алдан': 3, 'г. Москва, Зеленоград (Москва)': 3, 'г. Пионерский': 3, 'г. Верхнеуральск': 3, 'г. Родино': 3, 'г. Полазна': 3, 'г. Хабаровск (Казань)': 3, 'г. Лангепас': 3, 'г. Варна': 3, 'г. Гурьевск': 3, 'г. Московский': 3, 'г. Сердобск': 3, 'г. Бердск (Новосибирск)': 3, 'г. Курск (Курская область)': 3, 'г. Белгород (Москва)': 3, 'г. Ставрополь (Ставрополь)': 3, 'г. Дзержинск (Нижний Новгород)': 3, 'г. Казань (Самара)': 3, 'г. Мытищи (Москва)': 3, 'г. Бугуруслан': 3, 'г. Коломна (Москва и область)': 3, 'г. Москва (Воронеж)': 3, 'г. Купино': 3, 'г. Котово': 3, 'г. Усмань': 3, 'г. Подольск (Москва)': 3, 'г. Гулькевичи': 3, 'г. Ижевск (Удмуртская республика)': 3, 'г. Апшеронск': 3, 'г. Зерноград': 3, 'г. Янаул': 3, 'г. Лагань': 3, 'г. Константиновск': 3, 'г. Морозовск': 3, 'г. Серебряные Пруды': 3, 'г. Энгельс (Саратовская область)': 3, 'г. Саратов (Саратовская область)': 3, 'г. Одинцово (Москва и область)': 3, 'г. Артемовский': 3, 'г. Москва,Зеленоград': 3, 'г. Новомичуринск': 3, 'г. Ветлуга': 3, 'г. Семилуки': 3, 'г. Петров Вал': 3, 'г. Андреаполь': 3, 'г. Покачи': 3, 'г. Пушкинские Горы': 3, 'г. Коркино': 3, 'г. Вилючинск': 3, 'г. Талица': 3, 'г. Влг': 3, 'г. ТВЕРЬ': 3, 'г. Пушкино (МО)': 3, 'г. Моксва': 3, 'г. ЕКатеринбург': 3, 'г. Оренбургская область': 3, 'г. Нижний Новгород г': 3, 'г. Сафоново (Смоленская область)': 3, 'г. Сестрорецк': 3, 'г. новый уренгой': 3, 'г. санкт-Петербург': 3, 'г. г. Зеленоград': 3, 'г. Интернет': 3, 'г. островцы': 3, 'г. Палласовка': 3, 'г. г. Жуковский': 3, 'г. ноябрьск': 3, 'г. КАМЧАТКА': 3, 'г. Реж': 3, 'г. серпухов': 3, 'г. Миллерово': 3, 'г. ивантеевка': 3, 'г. Грайворон': 3, 'г. БАЛАШИХА': 3, 'г. Москква': 3, 'г. масква': 3, 'г. белгород': 3, 'г. Североуральск. пос Калья': 3, 'г. Санкт-Птеребург': 3, 'г. Новомосковск Тульской области': 3, 'г. Валдай': 3, 'г. астрахань': 3, 'г. Samara': 3, 'г. Шлиссельбург': 3, 'г. Устюжна': 3, 'г. НОВОКУЗНЕЦК': 3, 'г. ТАМБОВ': 3, 'г. туапсе': 3, 'г. Москава': 3, 'г. г. Одинцово': 3, 'г. Москвп': 3, 'г. орск': 3, 'г. дзержинск': 3, 'г. Москва, Химки': 3, 'г. горно-алтайск': 3, 'г. Наро-фоминск': 3, 'г. Москве': 3, 'г. Ленинград': 3, 'г. ОРЕЛ': 3, 'г. нальчик': 3, 'г. Калязин': 3, 'г. Сидней': 3, 'г. петропавловск-камчатский': 3, 'г. питер': 3, 'г. Санкт-Перербург': 3, 'г. Железногорск Красноярского края': 3, 'г. Орехово-зуево': 3, 'г. раменское': 3, 'г. Чудово Новгородской': 3, 'г. новочеркасск': 3, 'г. ВЛАДИМИР': 3, 'г. Пушкино Московская область': 3, 'г. г.Орел': 3, 'г. КУРГАН': 3, 'г. г Ростов-на-Дону': 3, 'г. Правдинск': 3, 'г. нерюнгри': 3, 'г. Лондон': 3, 'г. ТОЛЬЯТТИ': 3, 'г. анапа': 3, 'г. Озёрск (Челябинская область)': 3, 'г. АКСАЙ': 3, 'г. кузнецк': 3, 'г. Санкт-Петебрург': 3, 'г. г. Калининград': 3, 'г. Москва, Мытищи': 3, 'г. Приозерск': 3, 'г. обнинск': 3, 'г. Белозерск': 3, 'г. п. Ванино': 3, 'г. реутов': 3, 'г. Курская область': 3, 'г. НИЖНИЙ НОВГОРОД': 3, 'г. Киселёвск': 3, 'г. г.Зеленоград': 3, 'г. г. Барнаул': 3, 'г. Санкт-Птербург': 3, 'г. г.Волжский': 3, 'г. Городец': 3, 'г. Красково': 3, 'г. ВОЛОГДА': 3, 'г. КАЛУГА': 3, 'г. Санкт-Петербугр': 3, 'г. Санкт-Петербург, Москва': 3, 'г. Няндома': 3, 'г. Тейково': 3, 'г. Щелково-3': 3, 'г. Кемеровская область': 3, 'г. орехово-зуево': 3, 'г. Железнодорожный, МО': 3, 'г. Санкт-Петербрг': 3, 'г. Санкт-Петербург, г. Пушкин': 3, 'г. Город': 3, 'г. красногорск': 3, 'г. Екатеренбург': 3, 'г. Облучье': 3, 'г. ВЛАДИВОСТОК': 3, 'г. северобайкальск': 3, 'г. Санкт-Петербург - Москва': 3, 'г. Улан-удэ': 3, 'г. п. Нейво-Рудянка': 3, 'г. Бангкок': 3, 'г. Агидель': 3, 'г. Московская обл': 3, 'г. Озёрск, Челябинская область': 3, 'г. санкт- петербург': 3, 'г. РОСТОВ-НА-ДОНУ': 3, 'г. Москва/Новосибирск': 3, 'г. волхов': 3, 'г. Озёрск': 3, 'г. заозёрск': 3, 'г. Мск': 3, 'г. г.Новосибирск': 3, 'г. Большеречье': 2, 'г. Кизел': 2, 'г. Сафоново (Смоленская обл.)': 2, 'г. Новокубанск (Краснодарский край)': 2, 'г. Николаевск': 2, 'г. Уфимский': 2, 'г. Уссурийск (Приморский край)': 2, 'г. Кисловодск (Ставропольский край)': 2, 'г. Армавир,Краснодарский край': 2, 'г. Таруса': 2, 'г. Боровичи (Новгородская обл.)': 2, 'г. Светлый (Калининградская обл.)': 2, 'г. Молоково': 2, 'г. Серафимович (Волгоградская обл.)': 2, 'г. Ревда (Свердловская обл.)': 2, 'г. Нижневартовск (Ханты-Мансийский АО)': 2, 'г. Глазов (Удмуртская республика)': 2, 'г. Тосно (Ленинградская обл.)': 2, 'г. ТУЛА': 2, 'г. РФ': 2, 'г. Радищево': 2, 'г. Учкекен': 2, 'г. Сковородино': 2, 'г. Яблоновский': 2, 'г. Южноуральск (Челябинская обл.)': 2, 'г. Суровикино': 2, 'г. Забайкальск': 2, 'г. Лыткарино (Московская обл.)': 2, 'г. Батайск (Ростовская обл.)': 2, 'г. Первоуральск (Свердловская обл.)': 2, 'г. Шелехов (Иркутская обл.)': 2, 'г. каменка': 2, 'г. Березники (Пермский край)': 2, 'г. Комсомольск-на-Амуре (Хабаровский край)': 2, 'г. Атырау': 2, 'г. Почеп': 2, 'г. Нижегородец': 2, 'г. Удельная': 2, 'г. Миасс (Челябинская обл.)': 2, 'г. Туймазы (Республика Башкортостан)': 2, 'г. Климовск (Московская обл.)': 2, 'г. Зеленодольск (Республика Татарстан)': 2, 'г. Кингисепп (Ленинградская обл.)': 2, 'г. Орск (Оренбургская обл.)': 2, 'г. Абашево': 2, 'г. Томилино': 2, 'г. Карелия': 2, 'г. Выборг (Ленинградская обл.)': 2, 'г. Михайловка Волгоградская область': 2, 'г. йошкар ола': 2, 'г. Долгопрудный (Московская обл.)': 2, 'г. Байкальск': 2, 'г. Анапа (Краснодарский край)': 2, 'г. Артем (Приморский край)': 2, 'г. Заречный (Пензенская обл.)': 2, 'г. Звенигород (Московская обл.)': 2, 'г. Кашира (Московская обл.)': 2, 'г. Саров (Нижегородская обл.)': 2, 'г. Сиверский': 2, 'г. Котельники (Московская обл.)': 2, 'г. Междуреченск (Кемеровская обл.)': 2, 'г. Уфа г': 2, 'г. Славгород': 2, 'г. Родники': 2, 'г. Воркута (Республика Коми)': 2, 'г. Ессентуки (Ставропольский край)': 2, 'г. Кирс': 2, 'г. Петебург': 2, 'г. Зеленогорск (Красноярский край)': 2, 'г. Альметьевск (Республика Татарстан)': 2, 'г. Ачинск (Красноярский край)': 2, 'г. Красноусольский': 2, 'г. Зеленокумск': 2, 'г. Чалтырь': 2, 'г. Железногорск (Красноярский край)': 2, 'г. Байкальск (Иркутская обл.)': 2, 'г. Звенигово': 2, 'г. Елань': 2, 'г. Лысьва (Пермский край)': 2, 'г. Нижний Ломов': 2, 'г. Горнозаводск': 2, 'г. Новоселово': 2, 'г. Ртищево': 2, 'г. Московская область (Раменское)': 2, 'г. Краснодар (Новосибирск)': 2, 'г. Лотошино': 2, 'г. Нюксеница': 2, 'г. Колывань': 2, 'г.  (Москва)': 2, 'г. Сосновка': 2, 'г. Полысаево': 2, 'г. Бреды': 2, 'г. Озеры': 2, 'г. Хадыженск': 2, 'г. Самара (Казань)': 2, 'г. Щелково (Москва)': 2, 'г. Смоленск (Москва)': 2, 'г. Джанкой': 2, 'г. Москва (Долгопрудный)': 2, 'г. Крюково': 2, 'г. Хмельницкий (Москва)': 2, 'г. Волгоград (Самара)': 2, 'г. Родничок': 2, 'г. Благодарный': 2, 'г. Одесса (Москва)': 2, 'г. Керчь': 2, 'г. Архангельск (Москва)': 2, 'г. Нижний Новгород (Нижегородская область)': 2, 'г. Дальнегорск': 2, 'г. Лев Толстой': 2, 'г. СПб (Москва)': 2, 'г. Тимошкино (Тольятти)': 2, 'г. Астана (Москва)': 2, 'г. Буй': 2, 'г. Москва (Юбилейный)': 2, 'г. Краснодарский край (Омская область)': 2, 'г. Москва (Новомирский)': 2, 'г. Архангельск (Другие)': 2, 'г. Урмары': 2, 'г. Каргополь': 2, 'г. Тырныауз': 2, 'г. Рощино': 2, 'г. Фатеж': 2, 'г. Тула (Москва)': 2, 'г. Омск (Москва)': 2, 'г. Иркутск (Иркутская область)': 2, 'г. Казахстан, Караганда (Москва)': 2, 'г. Билибино': 2, 'г. Карачаевск': 2, 'г. Королёв (Москва)': 2, 'г. Строитель': 2, 'г. Гусев': 2, 'г. Октябрьское': 2, 'г. Владимир (Москва)': 2, 'г. Отрадное': 2, 'г. Томск (Новосибирск)': 2, 'г. Иланский': 2, 'г. Цивильск': 2, 'г. Юца': 2, 'г. Селенгинск': 2, 'г. Москва (Раменское)': 2, 'г. Абаза': 2, 'г. Восход': 2, 'г. Таганрог (Ростов-на-Дону)': 2, 'г. Белгород (Белгород)': 2, 'г. Жуковка': 2, 'г. Феодосия': 2, 'г. Брянск (Брянская область)': 2, 'г. Кущевская': 2, 'г. Жуковский (Москва)': 2, 'г. Омск (Новосибирск)': 2, 'г. Павловский Посад (Москва)': 2, 'г. Саратов (Самара)': 2, 'г. Звездный Городок': 2, 'г. Бородино': 2, 'г. Одесса': 2, 'г. Куса': 2, 'г. Баку (Москва)': 2, 'г. Иваново (Москва)': 2, 'г. Саки': 2, 'г. Солнечногорск (Москва)': 2, 'г. Волгоград (Ростов-на-Дону)': 2, 'г. Тверь (Москва)': 2, 'г. Новороссийск (Ростов-на-Дону)': 2, 'г. Санкт-Петербург (Воронеж)': 2, 'г. Москва (Владивосток)': 2, 'г. Ангарск (Иркутск)': 2, 'г. Казанская': 2, 'г. Тавда': 2, 'г. Кемерово (Новосибирск)': 2, 'г. Реутов (Москва)': 2, 'г. Буйнакск': 2, 'г. Калининград (Калининград)': 2, 'г. Пушкино (Москва)': 2, 'г. Новосибирск (Новосибирская область)': 2, 'г. Люберцы (Москва)': 2, 'г. Свердловское': 2, 'г. Краснодар (Краснодарский край)': 2, 'г. Дюртюли (Республика Башкортостан)': 2, 'г. Суоярви': 2, 'г. Москва (Дубна)': 2, 'г. Домодедово (Москва)': 2, 'г. Астрахань (Астраханская область)': 2, 'г. Москва (Красногорск)': 2, 'г. Владивосток (Приморский край)': 2, 'г. Москва (Ставрополь)': 2, 'г. Муезерский': 2, 'г. Колпино (Санкт-Петербург и область)': 2, 'г. Очер': 2, 'г. Татарск': 2, 'г. Самара (Самара)': 2, 'г. Москва, Зеленоград (Москва и область)': 2, 'г. Аксай (Краснодар)': 2, 'г. Казань (Уфа)': 2, 'г. Нижнесортымский': 2, 'г. Краснодар (Санкт-Петербург)': 2, 'г. Гороховец': 2, 'г. Тольятти (Самарская область)': 2, 'г. Омск (Центр)': 2, 'г. Красавино': 2, 'г. Сочи (Самара)': 2, 'г. Нижняя Салда': 2, 'г. Горячий Ключ (Краснодар)': 2, 'г. Вычегодский': 2, 'г. Москва (Краснодар)': 2, 'г. Республика Коми': 2, 'г. Челябинск (Москва)': 2, 'г. Энергетик': 2, 'г. Благовещенка': 2, 'г. Томск (Санкт-Петербург)': 2, 'г. Богданович': 2, 'г. Приютово': 2, 'г. Барнаул (Алтайский край)': 2, 'г. Химки (Московская обл.) (Москва и область)': 2, 'г. Тверь (Тверская область)': 2, 'г. Фурманов': 2, 'г. Сокол': 2, 'г. Краснослободск': 2, 'г. Лакинск': 2, 'г. Пыталово': 2, 'г. Чугуевка': 2, 'г. Усолье': 2, 'г. Кошки': 2, 'г. Ноглики': 2, 'г. Чернигов (Москва)': 2, 'г. Усть-Катав': 2, 'г. Галенки': 2, 'г. Москва (Сергиев Посад)': 2, 'г. Струнино': 2, 'г. Нытва': 2, 'г. Пустошка': 2, 'г. Питкяранта': 2, 'г. Ростов (Ростовская область)': 2, 'г. Поворино': 2, 'г. Красноярский край': 2, 'г. Омск (Омская область)': 2, 'г. Норильск (Россия)': 2, 'г. Мамадыш': 2, 'г. Екатеринбург (Свердловская область)': 2, 'г. Бабаево': 2, 'г. Нелидово': 2, 'г. Усово': 2, 'г. Данков': 2, 'г. Волосово (Санкт-Петербург и область)': 2, 'г. Коломна (Москва)': 2, 'г. Чегдомын': 2, 'г. Лобня (Москва и область)': 2, 'г. Буинск': 2, 'г. Тутаев': 2, 'г. Курья': 2, 'г. барнаул (Новосибирск)': 2, 'г. Суджа': 2, 'г. Светлый (Калининградская область)': 2, 'г. Славянка': 2, 'г. Новонукутский': 2, 'г. Таганрог (Краснодар)': 2, 'г. ст. Отрадная (Краснодарский край)': 2, 'г. Рыльск': 2, 'г. Семикаракорск': 2, 'г. Алтайское': 2, 'г. Рошаль': 2, 'г. Калужская область': 2, 'г. Шахты Ростовской области': 2, 'г. Балезино': 2, 'г. сходня': 2, 'г. кинешма': 2, 'г. Санкт-Петербуррг': 2, 'г. Murmansk': 2, 'г. ярцево': 2, 'г. ст. Старощербиновская': 2, 'г. Новосибирк': 2, 'г. Волжский Волгоградская область': 2, 'г. ВЫБОРГ ЛЕНИНГРАДСКАЯ ОБЛАСТЬ': 2, 'г. туймазы': 2, 'г. г. Урюпинск': 2, 'г. Saint Petersburg': 2, 'г. ейск': 2, 'г. Софрино-1': 2, 'г. Москва (Зеленоград)': 2, 'г. Saint-Petersburg': 2, 'г. СМОЛЕНСК': 2, 'г. Хабровск': 2, 'г. Торопец': 2, 'г. Санкт-Петурбург': 2, 'г. саяногорск': 2, 'г. Рефтинский': 2, 'г. Самара г': 2, 'г. братск': 2, 'г. ЕЙСК': 2, 'г. ст.Новотитаровская': 2, 'г. Набережные челны': 2, 'г. энгельс': 2, 'г. сухой лог': 2, 'г. Санкт-': 2, 'г. Сеймчан': 2, 'г. Улан-Удэ г': 2, 'г. Сосенский': 2, 'г. АНГАРСК': 2, 'г. Нижний Ногород': 2, 'г. Гатчина, Ленинградская область': 2, 'г. Екатеринубрг': 2, 'г. Чекмагуш': 2, 'г. БРЯНСК': 2, 'г. Ryazan': 2, 'г. Красноармейск Московской области': 2, 'г. Санкт-Петербур': 2, 'г. Гаврилов-Ям': 2, 'г. выборг': 2, 'г. Волгореченск': 2, 'г. Сакнт-Петербург': 2, 'г. Сосновый Бор, Лен. обл.': 2, 'г. Москва-СПб': 2, 'г. г. Долгопрудный': 2, 'г. Safonovo': 2, 'г. Москвы': 2, 'г. Красный': 2, 'г. Москвва': 2, 'г. абакан': 2, 'г. Москва+Питер': 2, 'г. кстово': 2, 'г. Реутов, МО': 2, 'г. камышин': 2, 'г. Московская область, г.Подольск': 2, 'г. Тверь, Москва (?)': 2, 'г. г.Екатеринбург': 2, 'г. ЧЕЛЯБИНСК': 2, 'г. Черповец': 2, 'г. г.Люберцы': 2, 'г. Димитровград, Ульяновская область': 2, 'г. Тамбовская обл.': 2, 'г. янаул': 2, 'г. Санкт-Петербургй': 2, 'г. Долгопрудный МО': 2, 'г. Улан Удэ': 2, 'г. г. Домодедово': 2, 'г. МО, Мытищи': 2, 'г. ОРСК': 2, 'г. Ярославская область': 2, 'г. Витебск': 2, 'г. ленинск-кузнецкий': 2, 'г. Екатерибург': 2, 'г. МО, г. Балашиха': 2, 'г. Усть-кут': 2, 'г. Пушкино МО': 2, 'г. Магас': 2, 'г. Москоу': 2, 'г. нижний Новгород': 2, 'г. Бутурлиновка': 2, 'г. санкт Петербург': 2, 'г. ЭЛЕКТРОСТАЛЬ': 2, 'г. Заречный, Пензенская область': 2, 'г. Санкт-Петербург, Пушкин': 2, 'г. ОРЕНБУРГ': 2, 'г. г.Челябинск': 2, 'г. ленинградская обл.': 2, 'г. Переславль': 2, 'г. учалы': 2, 'г. пос. Ильинский': 2, 'г. г. Шахты': 2, 'г. Сенкт-Петербург': 2, 'г. санкт - петербург': 2, 'г. Москва-Казань': 2, 'г. ЗАТО Озерный': 2, 'г. Красноясрк': 2, 'г. Клин-5': 2, 'г. Тверская область': 2, 'г. Ухта, Республика Коми': 2, 'г. Юбилейный МО': 2, 'г. московская обл.': 2, 'г. г. Волгоград': 2, 'г. г. Челябинск': 2, 'г. Старый ОСкол': 2, 'г. Новосибирс': 2, 'г. Санкт-Петрербург': 2, 'г. волгодонск': 2, 'г. Башкортостан': 2, 'г. северск': 2, 'г. Санкт-Петербурга': 2, 'г. Киров Кировской области': 2, 'г. каменск-уральский': 2, 'г. камень-на-оби': 2, 'г. Краснознаменс': 2, 'г. г.Санкт-Петербург г.Пушкин': 2, 'г. Заводоуковск': 2, 'г. Советск Тульской обл.': 2, 'г. Ростов -на-Дону': 2, 'г. г. Калуга': 2, 'г. Приморско-Ахтарск': 2, 'г. с.Усть-Цильма': 2, 'г. пгт. Яблоновский': 2, 'г. магадан': 2, 'г. Реутов, Московская область': 2, 'г. армавир': 2, 'г. п.стрелка г.Лесосибирска Красноярский край': 2, 'г. АСТРАХАНЬ': 2, 'г. Дзержинск Нижегородской обл': 2, 'г. лиски': 2, 'г. г. Липецк': 2, 'г. Морсква': 2, 'г. г. Пермь': 2, 'г. kazan': 2, 'г. Нерехта': 2, 'г. наро-фоминск': 2, 'г. когалым': 2, 'г. Карталы': 2, 'г. пос. Горный Забайкальского края': 2, 'г. Тольятти - Набережные Челны': 2, 'г. Нижний Новогород': 2, 'г. САРАТОВ': 2, 'г. Барнаул, Алтайский край': 2, 'г. Ангарск, Иркутская область': 2, 'г. Стамбул': 2, 'г. Мурманская область': 2, 'г. Нижний Новгрод': 2, 'г. Млсква': 2, 'г. ХИМКИ': 2, 'г. поселок Нейво-Рудянка': 2, 'г. Артём': 2, 'г. Rfpfym': 2, 'г. станица Каневская': 2, 'г. Красный Кут': 2, 'г. ЯНАО, Ноябрьск': 2, 'г. с-петербург': 2, 'г. Ковров Владимирской области': 2, 'г. Москвак': 2, 'г. Нижний овгород': 2, 'г. рп. Глушково, Курская область': 2, 'г. Переславль-залесский': 2, 'г. г. Краснодар': 2, 'г. Солнечногорск-30': 2, 'г. пос.Правдинский': 2, 'г. Балаково Саратовской области': 2, 'г. СанкПетербург': 2, 'г. Санкт–Петербург': 2, 'г. герой Москва': 2, 'г. г.Волжский Волгоградской области': 2, 'г. г.Краснодар': 2, 'г. красноармейск': 2, 'г. Сочи, Адлер': 2, 'г. московская область': 2, 'г. Таврический район': 2, 'г. Новобурейский': 2, 'г. г.Димитровград': 2, 'г. Ишим, Тюменская обл.': 2, 'г. Лихославль': 2, 'г. г.Королев': 2, 'г. Лесной Свердловской области': 2, 'г. г. Климовск': 2, 'г. Выкса Нижегородской области': 2, 'г. г.Новомичуринск': 2, 'г. Астраханская обл,г.Ахтубинск': 2, 'г. Касли': 2, 'г. Краснознаменск М.О.': 2, 'г. ессентуки': 2, 'г. Мытищи, Московская область': 2, 'г. Москва/Тверь': 2, 'г. Промышленная': 2, 'г. великий новгород': 2, 'г. ВОЛЖСКИЙ': 2, 'г. п.Сеймчан': 2, 'г. ЭльНидо Филиппины Ростов на Дону': 2, 'г. Галич': 2, 'г. ангарск': 2, 'г. Волжский Волгоградской области': 2, 'г. Тель-Авив': 2, 'г. ипатово': 2, 'г. Зеленогорск Красноярского края': 2, 'г. Звездный городок': 2, 'г. альметьевск': 2, 'г. Чунский': 2, 'г. ...': 2, 'г. Санкт-Петербург/Москва': 2, 'г. Пойковский': 2, 'г. Великий новгород': 2, 'г. СанктПетербург': 2, 'г. Москва - Санкт-Петербург': 2, 'г. БИЙСК': 2, 'г. чудово': 2, 'г. Жуковский Московской области': 2, 'г. Люберцы, МО': 2, 'г. Санкт-Петербург, г.Колпино': 2, 'г. г.Буй': 2, 'г. Выборг Ленинградской области': 2, 'г. Гнезно': 2, 'г. ростов': 2, 'г. с.Неверовка Таврического района Омской области': 2, 'г. копейск': 2, 'г. Товарково': 2, 'г. Мосева': 2, 'г. На Волге': 2, 'г. БЛАГОВЕЩЕНСК': 2, 'г. Ужур': 2, 'г. Курская область, рп Глушково': 2, 'г. Агинское': 2, 'г. Ессентукская': 2, 'г. Ростовская область Семикаракорский район пос Вершинный': 2, 'г. Нижний Новгород-Москва': 2, 'г. Пермский край': 2, 'г. кызыл': 2, 'г. Раменское, Мос.обл.': 2, 'г. SPb': 2, 'г. Тайга': 2, 'г. Лобня, МО': 2, 'г. Мурманк': 2, 'г. Химки, Московская область': 2, 'г. г. Красноярск': 2, 'г. ТЮМЕНЬ': 2, 'г. С-ПБ': 2, 'г. Новокузнецк-Новосибирск': 2, 'г. Щелково МО': 2, 'г. Moscow-city': 2, 'г. топчиха': 2, 'г. г. Воркута': 2, 'г. М.О.': 2, 'г. Москва, г. Зеленоград': 2, 'г. Сергиев-Посад': 2, 'г. междуреченск': 2, 'г. Ростов - на - Дону': 2, 'г. Бердск Новосибирская область': 2, 'г. Россошь г.': 2, 'г. Староминская': 2, 'г. Moskva': 2, 'г. ИЖЕВСК': 2, 'г. Королёв, Московская область': 2, 'г. Vjcrdf': 2, 'г. железногорск': 2, 'г. Москва, Одинцово': 2, 'г. Москва-Челябинск': 2, 'г. Новосибирска': 2, 'г. электросталь': 2, 'г. Слюдянка': 2, 'г. Викулово': 2, 'г. Кировск, Мурманской области': 2, 'г. Астана': 2, 'г. Железнодорожный, Московская обл.': 2, 'г. Унеча  Брянской области': 2, 'г. Берлин': 2, 'г. Люберцы Московской области': 2, 'г. ст. Стодеревская': 2, 'г. Райчихинск': 2, 'г. петропавловск камчатский': 2, 'г. Саратовская область': 2, 'г. Кириллов': 2, 'г. Луховицы-3': 2, 'г. ЛИПЕЦК': 2, 'г. Петушки': 2, 'г. сальск': 2, 'г. Москва, Спб': 2, 'г. Любой': 2, 'г. Москва - Зеленоград': 2, 'г. нефтеюганск': 2, 'г. Москав': 2, 'г. батайск': 2, 'г. Бердск, Новосибирская область': 2, 'г. Краснознаменск Московской области': 2, 'г. Сорочинск': 2, 'г. Санкт-Петербург, Колпино': 2, 'г. г.Петропавловск-Камчатский': 2, 'г. Башкирия г.Салават': 2, 'г. С-пб': 2, 'г. Пушкино Моск. обл.': 2, 'г. Королев, МО': 2, 'г. п. Илеза': 2, 'г. Москва-Ростов': 2, 'г. г. Петрозаводск': 2, 'г. Дубовка': 2, 'г. Йошкар - Ола': 2, 'г. Москва  и  М.О.': 2, 'г. г,Троицк Московской области': 2, 'г. Балей': 2, 'г. Клин, Московская область': 2, 'г. г.Холмск': 2, 'г. МО, Люберецкий район, поселок Малаховка': 2, 'г. Санкт-Петербуг': 2, 'г. Kazan': 2, 'г. Камчатский край': 2, 'г. Белев': 2, 'г. Неизвестно': 2, 'г. г Москва': 2, 'г. Тулун': 2, 'г. челюскинский': 2, 'г. Северск, Томской области': 2, 'г. Семикаракорск Ростовская область': 2, 'г. Наб.Челны': 2, 'г. Сакт-Петербург': 2, 'г. Масква': 2, 'г. Н. Новгород': 2, 'г. Новобелокатай': 2, 'г. владикавказ': 2, 'г. Климовск, Московская область': 2, 'г. НОВОРОССИЙСК': 2, 'г. Усть - Илимск': 2, 'г. Дзержинск Нижегородская область': 2, 'г. Москва - Мытищи': 2, 'г. Шарья': 2, 'г. Троицк Челябинской области': 2, 'г. Пушкино (Московская область)': 2, 'г. Киров, Кировская область': 2, 'г. Лен.обл.': 2, 'г. г.Южно-Сахалинск': 2, 'г. Москва ': 2, 'г. Светлый,Калининградской области': 2, 'г. Усинск Республика Коми': 2, 'г. C-Петербург': 2, 'г. Воронежская область': 2, 'г. Верхняя Салда, Свердловская область': 2, 'г. SPB': 2, 'г. Сургут Тюменской области': 2, 'г. Сибирь': 2, 'г. Татарстан': 2, 'г. москва\\\\мо': 2, 'г. MOSCOW': 2, 'г. Москва, Измайловский офис': 2, 'г. Мордовия': 2, 'г. Ростов-на -Дону': 2, 'г. г уфа респупублика башкортостан': 2, 'г. Тула, Москва': 2, 'г. Кемерово / Екатеринбург': 2, 'г. Фролово (Волгоградская обл.)': 1, 'г. Комсомольск на амуре': 1, 'г. УрФО': 1, 'г. Краснодарский край Новокубанский район город Новокубанск': 1, 'г. Тальменка': 1, 'г. Балаково (Саратовская обл.)': 1, 'г. Горно-Алтайск, Республика Алтай': 1, 'г. Североморск (Мурманская обл.)': 1, 'г. Осинники (Кемеровская обл.)': 1, 'г. Уфимский (Республика Башкортостан)': 1, 'г. Санкт-Петербург и Томск': 1, 'г. Моск.обл., г.Королев': 1, 'г. Якиманское': 1, 'г. Азов (Ростовская обл.)': 1, 'г. Ростов Ярославская область': 1, 'г. Спасск-Рязанский (Рязанская обл.)': 1, 'г. Волгоград, Сургут': 1, 'г. Трубчевск (Брянская обл.)': 1, 'г. екб': 1, 'г. Ташлыкуль': 1, 'г. Свердловская область, город Асбест': 1, 'г. Алтайский край с. Зимино': 1, 'г. Село Зимино Алтайский край': 1, 'г. Газимурский Завод': 1, 'г. Екатеринбург, Москва': 1, 'г. Лениногорск (Республика Татарстан)': 1, 'г. Нерюнгри (Республика Саха (Якутия))': 1, 'г. Глушково (Курская обл.)': 1, 'г. Колывань (Новосибирская обл.)': 1, 'г. Сходня (Московская обл.)': 1, 'г. Нефтекамск (Республика Башкортостан)': 1, 'г. Федоровский': 1, 'г. Киров (Калужская обл.)': 1, 'г. Ульяновск - Москва': 1, 'г. Дрезна (Московская обл.)': 1, 'г. Луга (Ленинградская обл.)': 1, 'г. КБР, г.Прохладный': 1, 'г. воронежская обл.': 1, 'г. благовещенск': 1, 'г. Мегет': 1, 'г. Копейск (Челябинская обл.)': 1, 'г. Екаттеринбург': 1, 'г. Алексин (Тульская обл.)': 1, 'г. Тверь - Москва - Самара': 1, 'г. Сосновый Бор (Ленинградская обл.)': 1, 'г. Новочеркасск (Ростовская обл.)': 1, 'г. Новоуральск (Свердловская обл.)': 1, 'г. Назрань (Республика Ингушетия)': 1, 'г. Карачев (Брянская обл.)': 1, 'г. Егорлыкская': 1, 'г. Мурмаши': 1, 'г. Рудногорск (Иркутская обл.)': 1, 'г. СВЕРДЛООВСКАЯ ОБЛ,Г.ПЕРВОУРАЛЬСК, ОТД НА ВАТУТИНА №7003': 1, 'г. Cочи': 1, 'г. Славгород (Алтайский край)': 1, 'г. Александро-Невский': 1, 'г. Васильчуки (Алтайский край)': 1, 'г. Косиха': 1, 'г. Верхняя Пышма (Свердловская обл.)': 1, 'г. Кировск (Мурманская обл.)': 1, 'г. Балтийск (Калининградская обл.)': 1, 'г. Ноябрьск (Ямало-Ненецкий АО)': 1, 'г. Ржев (Тверская обл.)': 1, 'г. Борисоглебск (Воронежская обл.)': 1, 'г. Камышин (Волгоградская обл.)': 1, 'г. Яровое (Алтайский край)': 1, 'г. Горячий Ключ (Краснодарский край)': 1, 'г. Валдай (Новгородская обл.)': 1, 'г. Ямбург': 1, 'г. Мотмос': 1, 'г. Аксеново': 1, 'г. Белоярский ХМАО': 1, 'г. Горняк (Алтайский край)': 1, 'г. Клин (Московская обл.)': 1, 'г. р.п.Черлак': 1, 'г. Алабота': 1, 'г. Искитим (Новосибирская обл.)': 1, 'г. Мотыгино (Красноярский край)': 1, 'г. Таганрогский': 1, 'г. Cургут': 1, 'г. Каменск-Шахтинский, мкр-н Лиховской (Ростовская обл.)': 1, 'г. Суходол': 1, 'г. Удомля (Тверская обл.)': 1, 'г. Видное (Московская обл.)': 1, 'г. Челябинск/Пермь': 1, 'г. Отрадный (Самарская обл.)': 1, 'г. посёлок Романовка Всеволожский район': 1, 'г. Киреевск (Тульская обл.)': 1, 'г. комсомольск на амуре': 1, 'г. Агинское (Забайкальский край)': 1, 'г. Волгоград-Санкт-Петербург': 1, 'г. Нариманов': 1, 'г. Бишкек': 1, 'г. Санкт-Петербург, Тольск, Тюмень': 1, 'г. Муромский': 1, 'г. Мурмаши (Мурманская обл.)': 1, 'г. Лобня (Московская обл.)': 1, 'г. Дубовка (Волгоградская обл.)': 1, 'г. Новоалтайс': 1, 'г. Лесное (Тверская обл.)': 1, 'г. Пермь г': 1, 'г. Заря': 1, 'г. Унеча (Брянская обл.)': 1, 'г. Темрюк (Краснодарский край)': 1, 'г. Горноправдинск': 1, 'г. Енисейск (Красноярский край)': 1, 'г. Радужный ХМАО Югры': 1, 'г. Дзержинский (Московская обл.)': 1, 'г. Московская обл. Подольский р-н,пос. Львовский': 1, 'г. Кандры (Республика Башкортостан)': 1, 'г. Майма': 1, 'г. Аскино': 1, 'г. Перемское': 1, 'г. Краснотуранск (Красноярский край)': 1, 'г. Тихорецк (Краснодарский край)': 1, 'г. Облучье (Еврейская автономная обл.)': 1, 'г. Труновское': 1, 'г. Тобольск (Тюменская обл.)': 1, 'г. Новоалтайск (Алтайский край)': 1, 'г. Печоры (Псковская обл.)': 1, 'г. П-Камчатский': 1, 'г. Починки (Нижегородская обл.)': 1, 'г. Знаменск (Астраханская обл.)': 1, 'г. Безенчук (Самарская обл.)': 1, 'г. Степное (Саратовская обл.)': 1, 'г. Новобураново': 1, 'г. Зеленогорский (Кемеровская обл.)': 1, 'г. Новый Уренгой (Ямало-Ненецкий АО)': 1, 'г. Ахтубинск (Астраханская обл.)': 1, 'г. Торжок (Тверская обл.)': 1, 'г. Кочки': 1, 'г. Гуково (Ростовская обл.)': 1, 'г. Ухта (Республика Коми)': 1, 'г. Акъяр (Хайбуллинский р-н)': 1, 'г. Ровеньки': 1, 'г. Нурлат (Республика Татарстан)': 1, 'г. Стрежевой (Томская обл.)': 1, 'г. Павловская (Краснодарский край)': 1, 'г. Казахстан': 1, 'г. Левокумское': 1, 'г. Самарская область, село Кошки': 1, 'г. Южно - Сахалинск': 1, 'г. Лиски (Воронежская обл.)': 1, 'г. Уват': 1, 'г. Удмуртские Ключи': 1, 'г. Вилючинск (Камчатский край)': 1, 'г. Моздок (Республика Северная Осетия-Алания)': 1, 'г. Кузнецк (Пензенская обл.)': 1, 'г. Протвино (Московская обл.)': 1, 'г. Грибановский': 1, 'г. Котлас (Архангельская обл.)': 1, 'г. Краснодарский край г.Курганинск': 1, 'г. Ясный (Оренбургская обл.)': 1, 'г. Самара, Москва': 1, 'г. Димитровград (Ульяновская обл.)': 1, 'г. Сертолово (Ленинградская обл.)': 1, 'г. Рославль (Смоленская обл.)': 1, 'г. Серпухов (Московская обл.)': 1, 'г. Железногорск (Курской области)': 1, 'г. Домодедово (Московская обл.)': 1, 'г. Асбест (Свердловская обл.)': 1, 'г. Зубова Поляна': 1, 'г. Шилка (Забайкальский край)': 1, 'г. Кинешма Ивановской области': 1, 'г. Луховицы (Московская обл.)': 1, 'г. Ковров (Владимирская обл.)': 1, 'г. Сосновка (Тамбовская обл.)': 1, 'г. Некрасовский': 1, 'г. Костанай, Казахстан': 1, 'г. Калач-на-Дону (Волгоградская обл.)': 1, 'г. санкт 2петербург': 1, 'г. Аркадак': 1, 'г. Новое Девяткино': 1, 'г. Кировская область': 1, 'г. Cимферополь': 1, 'г. с. Тупик Тунгиро-Олекминского р-на Забайкальского края': 1, 'г. Табуны': 1, 'г. Катайск': 1, 'г. Березовка (Алтайский край)': 1, 'г. Алушта': 1, 'г. Бугуруслан (Оренбургская обл.)': 1, 'г. Муром (Владимирская обл.)': 1, 'г. Усмань (Липецкая обл.)': 1, 'г. Троицк (Москва)': 1, 'г. Москва - Хабаровск': 1, 'г. КОНТАКТНЫЙ ЦЕНТР': 1, 'г. Советск (Калининградская обл.)': 1, 'г. Ефремов (Тульская обл.)': 1, 'г. Еатеринбург': 1, 'г. Калачинск': 1, 'г. Абрамово': 1, 'г. Магнитка (Челябинская обл.)': 1, 'г. Иловля': 1, 'г. Минеральные Воды (Ставропольский край)': 1, 'г. Кириши (Ленинградская обл.)': 1, 'г. Красная Сопка': 1, 'г. Жигулевуск': 1, 'г. Арамиль (Свердловская обл.)': 1, 'г. 1-е Новоспасское': 1, 'г. Бузулук (Оренбургская обл.)': 1, 'г. Верхние Киги (Республика Башкортостан)': 1, 'г. Афипский': 1, 'г. Cерпухов': 1, 'г. Электрогорск (Московская обл.)': 1, 'г. Рубцовск (Алтайский край)': 1, 'г. Елец (Липецкая обл.)': 1, 'г. Симбирск (Ульяновск)': 1, 'г. башкирия': 1, 'г. Красненькая': 1, 'г. Абинск (Краснодарский край)': 1, 'г. Вязьма (Смоленская обл.)': 1, 'г. Зеленоградск, Санкт-Петербург': 1, 'г. Солнечногорск (Московская обл.)': 1, 'г. Алексеевская': 1, 'г. Кимовск': 1, 'г. Юрга (Кемеровская обл.)': 1, 'г. Новошахтинск (Ростовская обл.)': 1, 'г. Благовещенск (Республика Башкортостан)': 1, 'г. Громово': 1, 'г. Одинцово (городской округ Домодедово)': 1, 'г. Саянск (Иркутская обл.)': 1, 'г. Льгов (Курская обл.)': 1, 'г. Губкин (Белгородская обл.)': 1, 'г. колл-центр': 1, 'г. Заринск (Алтайский край)': 1, 'г. Богородицк (Тульская обл.)': 1, 'г. с.Актаныш': 1, 'г. Приморско-Ахтарск (Краснодарский край)': 1, 'г. Белово (Кемеровская обл.)': 1, 'г. Енисейск': 1, 'г. Алейск': 1, 'г. Серов (Свердловская обл.)': 1, 'г. Омский (Омская обл.)': 1, 'г. великие луки': 1, 'г. Ермаковское (Красноярский край)': 1, 'г. Суворов (Тульская обл.)': 1, 'г. Белоозерский (Московская обл.)': 1, 'г. Вытегра (Вологодская обл.)': 1, 'г. г Уварово тамбовская область спи км': 1, 'г. п.Кировский Приморский край': 1, 'г. Колпашево': 1, 'г. п первомайский щекинский рн': 1, 'г. Усть-Кут (Иркутская обл.)': 1, 'г. Нижний Новгород, пр.Гагарина, д.108': 1, 'г. Павловский Посад (Московская обл.)': 1, 'г. Апшеронск (Краснодарский край)': 1, 'г. Егорьевск (Московская обл.)': 1, 'г. c.Коса': 1, 'г. санк': 1, 'г. Орловская область,  г. Мценск': 1, 'г. Новсибирск': 1, 'г. Ясногорск': 1, 'г. Санк': 1, 'г. Пушкино (Московская обл.)': 1, 'г. Асино (Томская обл.)': 1, 'г. Печора (Республика Коми)': 1, 'г. Бея': 1, 'г. Москва  Щербинка': 1, 'г. Чехов (Московская обл.)': 1, 'г. Свердловский (Московская обл.)': 1, 'г. Кутулик': 1, 'г. Всеволожск (Санкт-Петербург)': 1, 'г. Ногинск Московская обл. (Ногинск)': 1, 'г. Черкизово': 1, 'г. Петровск-Забайкальский (Чита)': 1, 'г. Шилка (Чита)': 1, 'г. Дорохово': 1, 'г. поселок совхоза Останкино': 1, 'г. Тюмень (Республика Саха (Якутия))': 1, 'г. Минск (Москва)': 1, 'г. Омутнинск': 1, 'г. Тобольск (Тюмень)': 1, 'г. Новотитаровская': 1, 'г. Семенов (Нижний Новгород)': 1, 'г. Таганрг (Ростов-на-Дону)': 1, 'г. Рамонь': 1, 'г. Село Зубочистка Первая (Оренбург)': 1, 'г. Россия, Москва (Россия)': 1, 'г. Сокол (Вологда)': 1, 'г. Исетское': 1, 'г. Калининская': 1, 'г. Клин (Москва)': 1, 'г. Москва - Брянск (Москва)': 1, 'г. Воркута (Сыктывкар)': 1, 'г. Комсомольск-на-Амуре (Хабаровск)': 1, 'г. Великий  Новгород (Нижний Новгород)': 1, 'г. Неман': 1, 'г. ЛО, Сланц. р-он, д. Загорье (Санкт-Петербург)': 1, 'г. мос область (Москва)': 1, 'г. астана (Янаул)': 1, 'г. Корткерос': 1, 'г. Курумкан': 1, 'г. Москва, Ногинск (Москва)': 1, 'г. Малые Дербеты': 1, 'г. Саранск (Москва)': 1, 'г. пгт. Восточный (Серов)': 1, 'г. Кольцово': 1, 'г. Хелюля': 1, 'г. Шахтерск': 1, 'г. Уфа и Туймазы (Уфа)': 1, 'г. кондрово (Москва)': 1, 'г. Где-то в поездке по России (Москва)': 1, 'г. Баймак': 1, 'г. Луховицы (Москва)': 1, 'г. Армянск': 1, 'г. Московская обл. Нахабино (Санкт-Петербург)': 1, 'г. Россия Санкт-Петербург (Россия)': 1, 'г. Москва (Мытищи)': 1, 'г. село Вперед': 1, 'г. Петропавловск-Камчатский (Владивосток)': 1, 'г. Ижевск (Москва)': 1, 'г. Орёл (Воронеж)': 1, 'г. Ульяновск (Самара)': 1, 'г. Ярославль (Иркутск)': 1, 'г. Краснодарский края, станица Тбилисская (Тюменская область)': 1, 'г. ст.Куринская Апшеронского района Краснодарского края (Краснодар)': 1, 'г. Щербиновский': 1, 'г. Ногинск (Московская обл.) (Москва)': 1, 'г. Павловский': 1, 'г. Выдрино': 1, 'г. Оренбург (Пермь)': 1, 'г. Krasnoyarsk (Санкт-Петербург)': 1, 'г. Лисаковск (Москва)': 1, 'г. Новоспасское': 1, 'г. Петрозаводск (Петрозаводск)': 1, 'г. Богородск (Москва)': 1, 'г. Сеченово': 1, 'г. Москва (Ульяновск)': 1, 'г. Таксимо': 1, 'г. Жешарт': 1, 'г. Похвистнево (Самарская область)': 1, 'г. Яшалта': 1, 'г. Дерехам (Москва)': 1, 'г. Кемерово (Кемерово)': 1, 'г. Видное (Москва)': 1, 'г. Омская область (Санкт-Петербург)': 1, 'г. Новороссийск (Новороссийск)': 1, 'г. Россия, Волгоград (Россия)': 1, 'г. Прохладный (Республика Кабардино-Балкария) (Нальчик)': 1, 'г. Серовский район, п.Восточный (Серов)': 1, 'г. Москва (Зеленоград) (Москва)': 1, 'г. Балакирево': 1, 'г. Ольга': 1, 'г. Химки (Московская обл.) (Москва)': 1, 'г. Саратов (Казань)': 1, 'г. Субханкулово': 1, 'г. Россия, Саратов (Россия)': 1, 'г. Кушнаренково': 1, 'г. Рыбинск (Ярославская область)': 1, 'г. Мантурово': 1, 'г. Кузнецово (Алтайский край) (Курья)': 1, 'г. Павловская станица Краснодарский край (Москва)': 1, 'г. р.п. Романовка (Саратовская область)': 1, 'г. томск (Новосибирск)': 1, 'г. Пермскийкрай (Ставропольский край)': 1, 'г. Пятницкое': 1, 'г. Ульяновская область (Ульяновск)': 1, 'г. Козлово': 1, 'г. Златоуст (Челябинская область)': 1, 'г. Москва (Обнинск)': 1, 'г. Москвах (Санкт-Петербург)': 1, 'г. СПБ (Москва)': 1, 'г. Быково': 1, 'г. Самойловка': 1, 'г. Челябинская обл. г. Сатка (Челябинск)': 1, 'г. Гусь-Хрустальный (Гусь-Хрустальный)': 1, 'г.  (Красногорск)': 1, 'г. г. Москва (Юбилейный)': 1, 'г. Брянск (Сочи)': 1, 'г. Семиозерье': 1, 'г. Шадринск (Курган)': 1, 'г. Тольятти (Самарское)': 1, 'г. Набережные Челны (Москва)': 1, 'г. Россия, Санкт Петербург (Россия)': 1, 'г. Белая Глина': 1, 'г. n/a (Москва)': 1, 'г. Павловская Слобода': 1, 'г. Чернь': 1, 'г. Воронеж (Краснодар)': 1, 'г. Смоленская область (Смоленск)': 1, 'г. Москва (Иваново)': 1, 'г. Салехард (Москва)': 1, 'г. Кочубеевское': 1, 'г. Сосновское': 1, 'г. Локоть': 1, 'г. Урюпинск (Ставрополь)': 1, 'г. иваново (Москва)': 1, 'г. Волгодонск ( Ростовской обл.) (Москва)': 1, 'г. Нерюнгри (Якутск)': 1, 'г. Саскылах': 1, 'г. Тюменская область ишим (Республика Саха (Якутия))': 1, 'г. Братск (Москва)': 1, 'г. Машляк (Малая Елга)': 1, 'г. Белгород (Воронеж)': 1, 'г. Алматы (Москва)': 1, 'г. Волгоград (Ульяновск)': 1, 'г. Полтавская': 1, 'г. Сухиничи (Москва)': 1, 'г. Краснодар (Нижний Новгород)': 1, 'г. Нефтеюганск (Ханты-Мансийский автономный округ)': 1, 'г. Не важно, это болезнь системы в целом (Новосибирск)': 1, 'г. Горбатов': 1, 'г. Новомышастовская': 1, 'г. Кулунда': 1, 'г. Томское': 1, 'г. Ярославль (Санкт-Петербург)': 1, 'г. Атырау (Москва)': 1, 'г. Энгельс (Саратов)': 1, 'г. п. Мурино Всеволожский р-н Ленинградской обл. (Санкт-Петербург)': 1, 'г. г.Амурск (Другие)': 1, 'г. Влг (Москва)': 1, 'г. Сосны': 1, 'г. Вологда (Санкт-Петербург)': 1, 'г. село Черемное (Барнаул)': 1, 'г. Казачьи Лагери': 1, 'г. Кострома (Барнаул)': 1, 'г. Норильск (Санкт-Петербург)': 1, 'г. Яшкино': 1, 'г. Раменское (Московская обл.) (Москва)': 1, 'г. Всеволожск ЛО (Санкт-Петербург)': 1, 'г. пос. Ржавки (Москва)': 1, 'г. барнаул (Алтайский край)': 1, 'г. Тернопіль (Москва)': 1, 'г. Гагарин (Москва)': 1, 'г. п.Гидроторф, Балахнинский район (Нижний Новгород)': 1, 'г. Калуга, Москва (Калуга)': 1, 'г. Бутурлиновка, Воронежская обл. (Бутурлиновка)': 1, 'г. Находка Приморского края (Находка)': 1, 'г. одесса (Москва)': 1, 'г. Людиново (Людиново)': 1, 'г. Кильмезь': 1, 'г. Тольятти сам. обл. (Тольятти)': 1, 'г. Щекино (Тула)': 1, 'г. Себеж': 1, 'г. Нальчик (Республика Кабардино-Балкария)': 1, 'г. Миккели (Москва)': 1, 'г. Санкт-Пеербург (Москва)': 1, 'г. Екатеринбург (Россия)': 1, 'г. Уфа (Уфа)': 1, 'г. Черногорск (Москва и область)': 1, 'г. Санкт-Пеетрбург (Москва)': 1, 'г. Избербаш': 1, 'г. Чемал': 1, 'г. Старощербиновская': 1, 'г. Ладожская': 1, 'г. Новокузнецк (Кемерово)': 1, 'г. Новокузнецк (Новосибирск)': 1, 'г. Херсон (Москва)': 1, 'г. Давыдово': 1, 'г. Баево': 1, 'г. Галенки (Москва)': 1, 'г. Аксаково': 1, 'г. Советск (Калининград)': 1, 'г. пос. Первомайск Мотыгинского района (Красноярский край)': 1, 'г. Ермолаево': 1, 'г. Вольск (Саратов)': 1, 'г. Саратов (Рязань)': 1, 'г. Архангельское': 1, 'г. Загорянский': 1, 'г. Исса': 1, 'г. Софрино': 1, 'г. Гоа (Москва)': 1, 'г. Хельсинки, Финляндия (Москва)': 1, 'г. Ташкент (Москва)': 1, 'г. Краснодар (Россия)': 1, 'г. Уфа (Ульяновск)': 1, 'г. Силламяэ (Москва)': 1, 'г. Большой Машляк (Малая Елга)': 1, 'г. Юрга (Кемерово)': 1, 'г. Иркутск (Казань)': 1, 'г. Пушкин (Санкт-Петербург и область)': 1, 'г. Хабаровск (Москва)': 1, 'г. Донской (Новомосковск)': 1, 'г. Балашов (Москва)': 1, 'г. г. Хабаровск (Хабаровск)': 1, 'г. пгт. Нарышкино (Орловская область)': 1, 'г. Нововаршавка': 1, 'г. Костерево': 1, 'г. Пески': 1, 'г. Рязань (Нижний Новгород)': 1, 'г. Поспелиха': 1, 'г. Спб (Москва)': 1, 'г. Караганда (Москва)': 1, 'г. Чулым': 1, 'г. Москва (Дмитров)': 1, 'г. Бийск (Барнаул)': 1, 'г. Казань (Москва)': 1, 'г. Владимир (Нижний Новгород)': 1, 'г. Адлер (Санкт-Петербург)': 1, 'г. Челябинская область (Ставропольский край)': 1, 'г. Южно-Сахалинск (Сахалинская область)': 1, 'г. Александров Владимирская область (Владимир)': 1, 'г. Медногорск (Москва)': 1, 'г. Федоровское': 1, 'г. Новичиха': 1, 'г. Кишинев (Москва)': 1, 'г. москва (Московский)': 1, 'г. Шаховская': 1, 'г. Солнечный': 1, 'г. Ставрополь (Ставропольский край)': 1, 'г. екатеринбург (Россия)': 1, 'г. Темкино': 1, 'г. Волоколамск (Москва)': 1, 'г. Кадуй (Вологда)': 1, 'г. Угловское': 1, 'г. Кораблино': 1, 'г. Магнитогорск (Москва)': 1, 'г. Серпухов (Подольск)': 1, 'г. Ува': 1, 'г. Тимошкино (Оренбургская область)': 1, 'г. Снежинск (Челябинская область)': 1, 'г. Ногинск-Москва (Москва и область)': 1, 'г. Кабанск': 1, 'г. Первомайское': 1, 'г. Львовский': 1, 'г. Дружная Горка': 1, 'г. Киров (Москва)': 1, 'г. Ростов-на-Дону (Россия)': 1, 'г. Андреевка': 1, 'г. Ростовановское': 1, 'г. Судак (Симферополь)': 1, 'г. Кропоткин (Москва)': 1, 'г. Воргашор': 1, 'г. Павлодар': 1, 'г. Сеймчан (Москва)': 1, 'г. Курск (Москва)': 1, 'г. Майкоп (Республика Адыгея)': 1, 'г. Выборг (Казань)': 1, 'г. Мундыбаш': 1, 'г. Владивосток (Владивосток)': 1, 'г. Теберда': 1, 'г. Саратов (Саратов)': 1, 'г.  (Россия)': 1, 'г. Bremen (Москва)': 1, 'г. Королев (Московская обл.), Саратов (Москва)': 1, 'г. Сургут (Ставропольский край)': 1, 'г. Ржев (д. Митьково Ржевского района) (Ржев)': 1, 'г. Агвали': 1, 'г. Москва (Калининград)': 1, 'г. Рязанцево': 1, 'г. Михайловка (Волгоград)': 1, 'г. Тюмень (Воркута)': 1, 'г. Ермишь': 1, 'г. Booischot, Belgium (Москва)': 1, 'г. Абакан (Абакан)': 1, 'г. Рудногорск (Москва)': 1, 'г. Токмак (Москва)': 1, 'г. Петрозаводск (Москва)': 1, 'г. Развилка (Московская обл.) (Москва)': 1, 'г. Россия, г.Орск (Россия)': 1, 'г. Московская обл (Москва)': 1, 'г. Благоево': 1, 'г. Шугозеро (Санкт-Петербург)': 1, 'г. Копейск, Челябинской обл. (Челябинск)': 1, 'г. Вологда (Хабаровск)': 1, 'г. Козельск': 1, 'г. кунгур (Ставропольский край)': 1, 'г. Лобня (Москва)': 1, 'г. Верхние Серги': 1, 'г. Белгород (Благовещенка)': 1, 'г. Челно-Вершины (Самарская обл.) (Карачаево-Черкесская республика)': 1, 'г. Москва (Новомосковск)': 1, 'г. Новочеркасск (Республика Хакасия)': 1, 'г. Москва (Екатеринбург)': 1, 'г. Ижевск (Глазов)': 1, 'г. Москва, Королёв (Королев)': 1, 'г. Боготол': 1, 'г. Санкт-Петербург (Астрахань)': 1, 'г. Кондопога (Санкт-Петербург)': 1, 'г. казань (Республика Татарстан)': 1, 'г. Раанана, Израиль (Нижний Тагил)': 1, 'г. Калуга (Калужская область)': 1, 'г. Вача': 1, 'г. Екатеринбург (Пермь)': 1, 'г. Тула (Набережные Челны)': 1, 'г. Сусуман': 1, 'г. Чебоксары (Москва)': 1, 'г. Москва (Владикавказ)': 1, 'г. Тюмень (Ставрополь)': 1, 'г. Кизнер': 1, 'г. Реутов (Москва и область)': 1, 'г. Москва (Углич)': 1, 'г. Агаповка': 1, 'г. Новотроицк (Оренбургская область)': 1, 'г. Егорлыкская станица (Ростов-на-Дону)': 1, 'г. Благовещенск (Хабаровск)': 1, 'г. Москва (Березники)': 1, 'г. Барнаул (Москва)': 1, 'г. Омск (Омский)': 1, 'г. Электросталь (Москва и область)': 1, 'г. Тбилисская': 1, 'г. Ростов-на-Дону (Москва)': 1, 'г. Ульяновск (Москва)': 1, 'г. Калининград (Санкт-Петербург)': 1, 'г. Заозерск': 1, 'г. Лыткарино (Москва и область)': 1, 'г. Санкт-Петербург (Красноярск)': 1, 'г. Сагуны': 1, 'г. Энгельс (Калужская область)': 1, 'г. Омск (Омск)': 1, 'г. Мурманск (Санкт-Петербург)': 1, 'г. Анапа (Краснодар)': 1, 'г. Воронеж (Нефтеюганск)': 1, 'г. Хабаровск (Владивосток)': 1, 'г. Прохладный (Нальчик)': 1, 'г. с. Шипуново Алтайский край (Барнаул)': 1, 'г. Куса (Челябинская область)': 1, 'г. Калининград (Мурманск)': 1, 'г. Уссурийск (Невинномысск)': 1, 'г. Москва (Липецк)': 1, 'г. Москва (Иркутск)': 1, 'г. красноярск (Санкт-Петербург)': 1, 'г. Ступино (Москва и область)': 1, 'г. Аскарово (Уфа)': 1, 'г. Москва (Казань)': 1, 'г. Новороссийск (Москва)': 1, 'г. Оренбург (Подольск)': 1, 'г. Сургут ХМАО (Ставропольский край)': 1, 'г. Брянск (Москва)': 1, 'г. Армавир (Краснодарский край)': 1, 'г. Якутск (Якутск)': 1, 'г. воронеж (Москва)': 1, 'г. Калуга (Нижний Новгород)': 1, 'г. Снегири': 1, 'г. Старый Оскол (Белгородская область)': 1, 'г. Ульяновск (Ульяновская область)': 1, 'г. Москва (Уфа)': 1, 'г. Серов (Екатеринбург)': 1, 'г. Севастополь (Москва)': 1, 'г. Новокузнецк (Москва)': 1, 'г. Балашиха (Юбилейный)': 1, 'г. Протвино (Москва и область)': 1, 'г. Черногорск (Абакан)': 1, 'г. Киев (Санкт-Петербург)': 1, 'г. Ивановское': 1, 'г. Оренбург (Самара)': 1, 'г. Воркута (Москва)': 1, 'г. Барнаул/Любляна (Москва)': 1, 'г. Орск (Нижний Новгород)': 1, 'г. Омск (Томск)': 1, 'г. Уфа-Кстово-Тобольск (Уфа)': 1, 'г. с. Новичиха (Москва)': 1, 'г. Пермь (Пермский край)': 1, 'г. Приозерск (Санкт-Петербург)': 1, 'г. Воткинск (Челябинск)': 1, 'г. Обнинск (Москва)': 1, 'г. Вахруши': 1, 'г. Тула (Челябинск)': 1, 'г. г. Бор, Нижегородская область (Нижний Новгород)': 1, 'г. Лесной Свердловской области (Екатеринбург)': 1, 'г. Кодинск (Красноярский Край) (Красноярский край)': 1, 'г. Тольятти (Ульяновск)': 1, 'г. Черногорск (Москва)': 1, 'г. Нижний Новгород (Казань)': 1, 'г. Котельники (Москва)': 1, 'г. москва (Санкт-Петербург)': 1, 'г. Пенза (Самара)': 1, 'г. Ростов на Дону (Москва)': 1, 'г. Энгельс (Екатеринбург)': 1, 'г. Обручевка': 1, 'г. Пенза (Пенза)': 1, 'г. с. Озерецкое (Дмитров)': 1, 'г. Украина, Николаев (Москва)': 1, 'г. Куртамыш (Курган)': 1, 'г. Балашов (Саратовская область)': 1, 'г. Оклэнд (Москва)': 1, 'г. Балашиха (Москва)': 1, 'г. Пурпе': 1, 'г. Москва (Тюменская область)': 1, 'г. Кострома (Костромская область)': 1, 'г. санкт-петербург (Санкт-Петербург и область)': 1, 'г. Москва (Рязань)': 1, 'г. Чехов (Москва и область)': 1, 'г. Ногинск (Москва)': 1, 'г. раменское (Москва и область)': 1, 'г. Электрогорск (Москва)': 1, 'г. Луганск (Москва)': 1, 'г. Партизанск (Невинномысск)': 1, 'г. Белгород (Россия)': 1, 'г. Кемерово (Москва)': 1, 'г. Омск (Санкт-Петербург)': 1, 'г. Красная Поляна': 1, 'г. Алексин (Тульская область)': 1, 'г. Кимовск (Тульская область)': 1, 'г. томск (Саратов)': 1, 'г. Ульяновск (Тверь)': 1, 'г. Кузоватово': 1, 'г. Москва (Московское)': 1, 'г. Чианг Май, Таиланд (Москва)': 1, 'г. Москва, Коломна (Москва)': 1, 'г. Тольятти (Самара)': 1, 'г. Уфа (Стерлитамак)': 1, 'г. Москва (Курск)': 1, 'г. Вольно-Надеждинское': 1, 'г. Казань (Ульяновск)': 1, 'г. КУБИНКА - 8 (Москва)': 1, 'г. Череповец (Вологда)': 1, 'г. Москва (Муром)': 1, 'г. Саяногорск (Абакан)': 1, 'г. Красный Холм': 1, 'г. Белорецк (Уфа)': 1, 'г. Химки (Химки)': 1, 'г. Фурманов (Ростов-на-Дону)': 1, 'г. Краснодарский край Динской район ст. Васюринская (Краснодар)': 1, 'г. Тольятти (Санкт-Петербург)': 1, 'г. Ярославская': 1, 'г. Нижний Тагил (Свердловская область)': 1, 'г. Острогожск': 1, 'г. Комсомольск-на-Амуре (Краснодар)': 1, 'г. Балгород (Москва)': 1, 'г. Климовск (Климовск)': 1, 'г. Абакан (Москва)': 1, 'г. Заринск (Новосибирск)': 1, 'г. Арамиль (Екатеринбург)': 1, 'г. Тула (Хабаровск)': 1, 'г. Чепигинская': 1, 'г. Рыбинск (Ярославль)': 1, 'г. Пятигорский': 1, 'г. г.Волгоград (Волгоград)': 1, 'г. Тьмутаракань (Волгоград)': 1, 'г. Владимир (Владимирская область)': 1, 'г. Краснодарский край. (Омская область)': 1, 'г. Балаково (Саратовская область)': 1, 'г. Канск (Красноярск)': 1, 'г. с.Доброе, Грайворонского района (Белгородская область)': 1, 'г. Новоалександровск': 1, 'г. Лондон (Москва)': 1, 'г. екатеринбург (Краснодар)': 1, 'г. Смоленское': 1, 'г. Глазов (Глазов)': 1, 'г. Йошкар-Ола (Йошкар-Ола)': 1, 'г. Высоковск': 1, 'г. Красково (Красково)': 1, 'г. Псков (Санкт-Петербург)': 1, 'г. Петропавловск-Камчатский (Камчатский край)': 1, 'г. москва (Элиста)': 1, 'г. Щелково МО (Москва)': 1, 'г. Наволоки': 1, 'г. Калуга (Калуга)': 1, 'г. Московская область Химки (Москва)': 1, 'г. Колпино (Санкт-Петербург)': 1, 'г. Москва (Ростов-на-Дону)': 1, 'г. Ивановская обл. г. Заволжск (Иваново)': 1, 'г. Краснодар (Краснодар)': 1, 'г. Советская гавань (Хабаровск)': 1, 'г. Новосибирк (Москва)': 1, 'г. Волгоград (Волжский)': 1, 'г. Астрахань (Санкт-Петербург)': 1, 'г. Соликамск (Пермь)': 1, 'г. Краснодарск (Красноярск)': 1, 'г. Дербент (Москва)': 1, 'г. Волжск - Москва (Йошкар-Ола)': 1, 'г. Барнаул (Новосибирск)': 1, 'г. Санкт-Петербург (Екатеринбург)': 1, 'г. Порхов': 1, 'г. Благовещенск (Владивосток)': 1, 'г. Москва. Московская область, точнее (Москва)': 1, 'г. Шелаболиха': 1, 'г. Кавалерово (Владивосток)': 1, 'г. Путилково': 1, 'г. Саперное': 1, 'г. Даугавпилс (Москва)': 1, 'г. Таганрог (Ростовская обл.) (Ростов-на-Дону)': 1, 'г. Котлас (Санкт-Петербург)': 1, 'г. Яблоновский (Республика Адыгея) (Краснодар)': 1, 'г. Санкт-Петербург (Луга) (Санкт-Петербург)': 1, 'г. Петушки (Балашиха)': 1, 'г. Малышева': 1, 'г. Весьегонск': 1, 'г. Наро-Фоминск (Москва)': 1, 'г. Комсомольский': 1, 'г. Самара (Ульяновск)': 1, 'г. Истра (Дмитров)': 1, 'г. Кагальницкая': 1, 'г. Котлас (Другие)': 1, 'г. Клин (Москва и область)': 1, 'г. Пенза (Пензенская область)': 1, 'г. мелитополь (Москва)': 1, 'г. Новый Шарап': 1, 'г. щелково (Москва)': 1, 'г. поселок при станции Качалино': 1, 'г. Кременчуг (Москва)': 1, 'г. Железногорск (Железногорск)': 1, 'г. Курск (Воронеж)': 1, 'г. Железнодорожный  мкр. Павлино (Москва и область)': 1, 'г. ххх (Рязань)': 1, 'г. Брянск (Ульяновск)': 1, 'г. Павлодар (Москва)': 1, 'г. Калининск': 1, 'г. Ростов на Дону (Ростовская область)': 1, 'г. Кугеси': 1, 'г. Глазов (Ижевск)': 1, 'г. Кабардинка': 1, 'г. Чегдомын (Хабаровский край)': 1, 'г. курск (Воронеж)': 1, 'г. Исилькуль': 1, 'г. Москва (Киржач)': 1, 'г. Сергиев Посад (Сергиев Посад)': 1, 'г. Нагово': 1, 'г. омск (Новосибирск)': 1, 'г. ОРЕНБУРГ (Оренбургская область)': 1, 'г. Кубань': 1, 'г. Клетская': 1, 'г. Балашиха (Московская обл.) (Москва и область)': 1, 'г. Тюмень (Тюменская область)': 1, 'г. Майкоп (Майкоп)': 1, 'г. Ликино': 1, 'г. Георгиевск (Ставропольский край)': 1, 'г. Удачный-Москва (Республика Саха (Якутия))': 1, 'г. Старый Оскол, с. Дмитриевка (Белгородская область)': 1, 'г. Войвож': 1, 'г. Озёры (Москва и область)': 1, 'г. Хворостянка': 1, 'г. Москва (Тверь)': 1, 'г. Апрелевка (Москва и область)': 1, 'г. Апатиты, (Мурманская область)': 1, 'г. г.п. Пойковский (Ханты-Мансийский автономный округ)': 1, 'г. полярные зори (Мурманская область)': 1, 'г. Всеволожск (Санкт-Петербург и область)': 1, 'г. Пермь (Чайковский)': 1, 'г. Одинцово (Москва)': 1, 'г. Зеленчукская': 1, 'г. Новопавловск': 1, 'г. Дубна (Москва и область)': 1, 'г. город Герой - Смоленск (Смоленск)': 1, 'г. Козловка': 1, 'г. поселок имени Воровского': 1, 'г. выборг (Санкт-Петербург и область)': 1, 'г. Троицкое': 1, 'г. Пойковский. (Ханты-Мансийский автономный округ)': 1, 'г. Атюрьево': 1, 'г. Тучково (Москва)': 1, 'г. Северодонецк Украина': 1, 'г. Орел (Болхов)': 1, 'г. Буздяк': 1, 'г. Москва и Хабаровск (Владивосток)': 1, 'г. Хабаровск (Краснодар)': 1, 'г. Целина': 1, 'г. тавричанка (Владивосток)': 1, 'г. Шимск (Новгородская область)': 1, 'г. Тобольск (Тюменская область)': 1, 'г. Шипуново': 1, 'г. зеленоград (Москва и область)': 1, 'г. Завьялово': 1, 'г. партизанск (Приморский край)': 1, 'г. Курск (Санкт-Петербург)': 1, 'г. Всеволожский район, деревня Старая (Санкт-Петербург и область)': 1, 'г. Великий Новгород (Санкт-Петербург)': 1, 'г. Корсаков (Хабаровск)': 1, 'г. Тольятти (Самарская обл.) (Тольятти)': 1, 'г. Ростов-на-Дону (Ростовская область)': 1, 'г. Сергиев Посад (Москва)': 1, 'г. Балахта (Красноярский край)': 1, 'г. Североуральск, поселок Калья (Свердловская область)': 1, 'г. село Маршанское (Новосибирская область)': 1, 'г. Великий Новгород (Новгородская область)': 1, 'г. Казань (Республика Татарстан)': 1, 'г. Шахты (Ростовская область)': 1, 'г. Черновцы (Москва)': 1, 'г. Аван Хабаровский край Вяземсий район (Хабаровск)': 1, 'г. Зеленоград (Москва) (Москва)': 1, 'г. Вологодская обл. г.Сокол (Вологда)': 1, 'г. Иркутск (Москва)': 1, 'г. Украина (Москва)': 1, 'г. Рязань (Челябинск)': 1, 'г. Лузино': 1, 'г. Донецк (Москва)': 1, 'г. Приднестровье (Москва)': 1, 'г. Сингапур (Свердловская область)': 1, 'г. Урюпинск (Волгоградская область)': 1, 'г. Аксай (Ростовская область)': 1, 'г. Новая Адыгея': 1, 'г. Брянск (Брянск)': 1, 'г. Петров Вал (Краснодар)': 1, 'г. Шкотово': 1, 'г. Северск (Томская область)': 1, 'г. Батайск (Ростов-на-Дону)': 1, 'г.  (Ханты-Мансийский автономный округ)': 1, 'г. Мариуполь': 1, 'г. Красноярск (Красноярский край)': 1, 'г. Кувандык': 1, 'г. Саратов (Балаково)': 1, 'г. с Починки (Нижний Новгород)': 1, 'г. Челябинская обл.,г.Златоуст (Челябинск)': 1, 'г. Тольятти/Набережные Челны (Тольятти)': 1, 'г. Москва,Зеленоград (Ростов-на-Дону)': 1, 'г. Павловский Посад (Орехово-Зуево)': 1, 'г. Орёл (Орловская область)': 1, 'г. Конаково,Тверской обл. (Конаково)': 1, 'г. :erjdcrbq (Москва)': 1, 'г. Тбилиси (Москва)': 1, 'г. Сертолово (Санкт-Петербург и область)': 1, 'г. Кондрово': 1, 'г. Саранск (Республика Мордовия)': 1, 'г. Морки': 1, 'г. Санкт-Петербург (Хабаровск)': 1, 'г. Большой Луг': 1, 'г. п. Аврово (Санкт-Петербург и область)': 1, 'г. Республика Саха (Якутия)': 1, 'г. Луховицкий р-он п.Белоомут (Москва и область)': 1, 'г. Абакан (Республика Хакасия)': 1, 'г. Ярославль (Череповец)': 1, 'г. Гаджиево': 1, 'г. Островцы': 1, 'г. Краснозаводск': 1, 'г. Миасс (Челябинская область)': 1, 'г. Алатырь': 1, 'г. Назарово (Красноярский край)': 1, 'г. Чурапча': 1, 'г. Лыткарино (Краснодар)': 1, 'г. Абага (Амгинский р-н)': 1, 'г. с Екатериновка, Сальский р-н (Ростовская область)': 1, 'г. Шилка': 1, 'г. Таиланд, Пхукет': 1, 'г. Таиланд, Пхукет (Москва)': 1, 'г. Москва/Кёльн (Москва)': 1, 'г. Павлоград Днепропетровская обл (Москва)': 1, 'г. Пироговский': 1, 'г. Межозерный': 1, 'г. Саратов(Советский район )': 1, 'г. Оренбург (Оренбург)': 1, 'г. Таежный (Советский р-н)': 1, 'г. нефтекамск (Самара)': 1, 'г. Череповец (Вологодская область)': 1, 'г. г. Новошахтинск, Ростовская область (Ростов-на-Дону)': 1, 'г. Холм-Жирковский': 1, 'г. тарко-сале (Ямало-Ненецкий автономный округ)': 1, 'г. Самара Чернореченская 42а (Самара)': 1, 'г. Кирсанов': 1, 'г. Санкт-Петербург (Всеволожск)': 1, 'г. Зея': 1, 'г. Канск (Красноярский край)': 1, 'г. Роговская': 1, 'г. Черкесск (Краснодар)': 1, 'г. Пермь (Пермь)': 1, 'г. Ворсма': 1, 'г. Москва (Саратов)': 1, 'г. г.Калининград (Калининград)': 1, 'г. Зарубино': 1, 'г. с. Фершампенуаз, (Челябинская область)': 1, 'г. новороссийск (Краснодарский край)': 1, 'г. Орск (Оренбургская область)': 1, 'г. Эртиль': 1, 'г. Сыктывкар (Сыктывкар)': 1, 'г. Клявлино': 1, 'г. Посьет (Приморский край)': 1, 'г. Приобье': 1, 'г. омск (Санкт-Петербург)': 1, 'г. Улан-Удэ (Республика Бурятия)': 1, 'г. Кавказская': 1, 'г. Кротовка': 1, 'г. зеленоград (Ростов-на-Дону)': 1, 'г. Коченево': 1, 'г. Конезавод имени Буденного': 1, 'г. Ики-Бурул': 1, 'г. Горки Ленинские': 1, 'г. Верховажье': 1, 'г. Камское Устье': 1, 'г. Курган (Курганская область)': 1, 'г. Истра (Москва)': 1, 'г. Бишкек (Москва)': 1, 'г. Королев (Юбилейный)': 1, 'г. Бийск (Москва)': 1, 'г. Псков (Псковская область)': 1, 'г. Бакал': 1, 'г. Энем': 1, 'г. Иваново (Ивановская область)': 1, 'г. Комсомольск': 1, 'г. Карпогоры': 1, 'г. Одинцово (Московская обл.) (Москва и область)': 1, 'г. Калининец': 1, 'г. Калитино': 1, 'г. Киржач (Владимирская обл.) (Владимирская область)': 1, 'г. Уруссу': 1, 'г. Эстония + Латвия (Москва)': 1, 'г. Заволжск': 1, 'г. Возрождение': 1, 'г. пенза (Пензенская область)': 1, 'г. курган (Курганская область)': 1, 'г. Менделеево': 1, 'г. Мокшан': 1, 'г. Майский': 1, 'г. Изобильный': 1, 'г. Богородицк (Тульская область)': 1, 'г. Реутов, Московская область (Москва)': 1, 'г. Милютинская': 1, 'г. Ижевск (Ижевск)': 1, 'г. Сапожок': 1, 'г. поселок Биокомбината': 1, 'г. п.Горшково Дмитровкий р-н (Москва и область)': 1, 'г. Норильск (Новосибирск)': 1, 'г. Радужный (Владимир)': 1, 'г. Salou Tarragona (Москва)': 1, 'г. Одинцово (Московская обл.) (Москва)': 1, 'г. Ленинский': 1, 'г. Верхнеднепровский': 1, 'г. Ясная Поляна': 1, 'г. Астрахань (Краснодар)': 1, 'г. Тюмень (Тында)': 1, 'г. Белореченск (Краснодарский край)': 1, 'г. Становое': 1, 'г. Кисловодск (Ставрополь)': 1, 'г. Дебесы': 1, 'г. г. Набережные Челны (Республика Татарстан)': 1, 'г. Ярославский': 1, 'г. Кызыл (Новосибирск)': 1, 'г. Ульяновка': 1, 'г. Черниговка': 1, 'г. Зеленоград (Москва и область)': 1, 'г. Лотиково': 1, 'г. Усть-Илимск (Братск)': 1, 'г. г. Березовский (Свердловская область)': 1, 'г. г.Железнодорожный (Москва и область)': 1, 'г. Полтава (Москва)': 1, 'г. Беларусь, г.Витебск (Смоленск)': 1, 'г. г. Москва, Краснохолмская наб., д.11, стр.1 (Москва и область)': 1, 'г. Выкса (Нижний Новгород)': 1, 'г. Бичура': 1, 'г. ТИХОРЕЦК (Краснодарский край)': 1, 'г. Крымск (Краснодарский край)': 1, 'г. Омск (Пермь)': 1, 'г. Никольск': 1, 'г. Волгоград (Москва)': 1, 'г. с.Непецино Коломенский район Московской области (Москва и область)': 1, 'г. Егва': 1, 'г. Нижний Новгород (Омск)': 1, 'г. Нижний Тагил (Екатеринбург)': 1, 'г. Балаково (Самара)': 1, 'г. Яжелбицы': 1, 'г. Орехово-Зуево (Москва и область)': 1, 'г. Воронеж (Воронежская область)': 1, 'г. Баксан': 1, 'г. Москва (Самара)': 1, 'г. Выкса (Нижегородская область)': 1, 'г. сл. Б. Мартыновка (Ростовская область)': 1, 'г. Старополь (Ставропольский край)': 1, 'г. бургас (Москва)': 1, 'г. п. Игра (Удмуртская республика)': 1, 'г. Железнодорожый (Юбилейный)': 1, 'г. Губкин (Белгородская область)': 1, 'г. Хабаровск (Хабаровский край)': 1, 'г. Зеленогорск (Санкт-Петербург)': 1, 'г. Москва/Будапешт (Красногорск)': 1, 'г. село кабардинка (Краснодарский край)': 1, 'г. москва (Дубна)': 1, 'г. Самара (Самарская область)': 1, 'г. Иркутск (Иркутск)': 1, 'г. р.п. Линево (Новосибирская область)': 1, 'г. сарапул (Удмуртская республика)': 1, 'г. Боготол (Новосибирск)': 1, 'г. 2-я Гавриловка': 1, 'г. Руза (Москва)': 1, 'г. Голицыно (Москва и область)': 1, 'г. ПГТ  Запрудня (Москва и область)': 1, 'г. Чусовой (Пермский край)': 1, 'г. Рязань (Воронеж)': 1, 'г. Дзержинский Московская обл. (Москва и область)': 1, 'г. Юбилейный, Моск. обл. (Москва)': 1, 'г. Королёв (Москва и область)': 1, 'г. Стрежевой (Томская область)': 1, 'г. Новозавидовский': 1, 'г. г. Заполярный Мурманская область (Мурманск)': 1, 'г. Кемерово (Кемеровская область)': 1, 'г. Агрыз': 1, 'г. с.Ильинско-Подомское (Архангельская область)': 1, 'г. Свердловский': 1, 'г. Ивантеевка (Ивантеевка)': 1, 'г. с. Кинель-Черкассы, Самарской  области (Самара)': 1, 'г. Волгоградская область (Вологодская область)': 1, 'г. город Кстово (Кстово)': 1, 'г. якутск': 1, 'г. г. Амурск': 1, 'г. пгт. Белоозерский': 1, 'г. Верхний Баскунчак': 1, 'г. д.Медвежьи Озёра': 1, 'г. Веселый': 1, 'г. Санки-Петербург': 1, 'г. Москва-Сергиев Посад': 1, 'г. израиль': 1, 'г. Давыдовка': 1, 'г. г. Пугачев': 1, 'г. Железнодорожный, Московская область': 1, 'г. Оха Сахалинской обл': 1, 'г. Krasnoyarsk': 1, 'г. ПЕрмь': 1, 'г. Калужская обл.': 1, 'г. Indonesia': 1, 'г. краснодарский край белореченский район': 1, 'г. ст. Динская': 1, 'г. бологое': 1, 'г. Волгорад': 1, 'г. Аксай РО': 1, 'г. Н.овгород': 1, 'г. Новорссийск': 1, 'г. г.Амурск Хабаровский край': 1, 'г. Московская область, Ленинский район, пос. Володарского': 1, 'г. Петропавловск- камчатский': 1, 'г. курчалой': 1, 'г. пгт Мстера': 1, 'г. Москва Город': 1, 'г. агрыз': 1, 'г. Perm': 1, 'г. Даниловка': 1, 'г. Лесосибирк (кредиты в Усть-Илимске)': 1, 'г. Мышкин': 1, 'г. Москва, Троицк': 1, 'г. Котово Волгоградская область': 1, 'г. белово кемеровская обл': 1, 'г. Фрязино Моск.обл.': 1, 'г. Булгаково': 1, 'г. Свердловск': 1, 'г. п. Игра': 1, 'г. Актау': 1, 'г. ТУАПСИНСКИЙ РАЙОН': 1, 'г. населенный пункт Шатой': 1, 'г. Йошкар0Ола': 1, 'г. Нижний Новнород': 1, 'г. Пущино, МО': 1, 'г. Нововсибирск': 1, 'г. Башкортостан салаватский р-н с.Малояз': 1, 'г. Волгогад': 1, 'г. сафоново': 1, 'г. Шахты Ростовская обл.': 1, 'г. Тольятти (ул.Коммунистической 22)': 1, 'г. можга': 1, 'г. Тюмен': 1, 'г. город Подольск': 1, 'г. Медвежьи Озера, Московская область, Щелковский район': 1, 'г. Novosibirsk': 1, 'г. Омск г': 1, 'г. д. Подгорная, Новосибирская область': 1, 'г. сосновый бор': 1, 'г. Пушкино, Московская область': 1, 'г. полевской': 1, 'г. г. Новосибирск': 1, 'г. г. Всеволожск, Ленинградская обл.': 1, 'г. Люберцы МО': 1, 'г. Лиски Воронежская област': 1, 'г. ВЫборг': 1, 'г. радужный': 1, 'г. Великий Новгород\\\\Москва': 1, 'г. Башкортостан, Ермекеевский, Нижнеулу-Елга': 1, 'г. Киев-СПБ': 1, 'г. Благовещенск - Владивосток': 1, 'г. Арзгир': 1, 'г. Сосновоборск Красноярского края': 1, 'г. Обь': 1, 'г. ст. клетская': 1, 'г. п. Раздольный': 1, 'г. Москва, Ростов-на-Дону': 1, 'г. юбилейный': 1, 'г. Шахты Ростовская область': 1, 'г. Владимир,Владимирский область': 1, 'г. город кемеровов': 1, 'г. г. Кореновск': 1, 'г. Полярный Мурманская обл.': 1, 'г. Miami Beach': 1, 'г. с. Саввушка Змеиногорского р-на': 1, 'г. Москва, Королёв': 1, 'г. г. Минеральные Воды': 1, 'г. Стрижи': 1, 'г. волгоградская обл': 1, 'г. Подольск Московской области': 1, 'г. Новокузхнецк': 1, 'г. Мирный Архангельская обл.': 1, 'г. г. Волжск': 1, 'г. г.Мытищи Московской области': 1, 'г. Пермская область': 1, 'г. Петровск': 1, 'г. Санкт-Петребруг': 1, 'г. Оричи Кировской области': 1, 'г. станица Успенская Краснодарский край': 1, 'г. пгт. Славянка, Хасанского района, Приморского края': 1, 'г. конаково': 1, 'г. Подольск.Моск.область': 1, 'г. Санкт-Петербург,Московский пр., д. 167': 1, 'г. ЩЕЛКОВО': 1, 'г. Bruxelles': 1, 'г. КРАСНОГОРСК': 1, 'г. Новосибирск, а конкретней Академгородок': 1, 'г. с. Новодугино': 1, 'г. поселок Юбилейный': 1, 'г. буинск': 1, 'г. пос. Черкизово': 1, 'г. Калинингад': 1, 'г. Аксай, Ростовская обл.': 1, 'г. Ленинградская область, п. Бугры': 1, 'г. Новопетровское': 1, 'г. Одинцово ,Московская область': 1, 'г. Сясьстрой': 1, 'г. Торонто': 1, 'г. пушкин': 1, 'г. Калуга (Воротынск)': 1, 'г. Заречный Пензенская облась': 1, 'г. Москва,Преображенка': 1, 'г. село троицкое': 1, 'г. Химки город': 1, 'г. Московская обл., г.Люберцы': 1, 'г. Пятигорск, Ставропольский край': 1, 'г. ПГТ Малаховка': 1, 'г. Моск. обл., Домодедово': 1, 'г. Николаевс-на-Амуре': 1, 'г. абинск': 1, 'г. Дубна, Санкт-Петербург': 1, 'г. :Жуковка': 1, 'г. тоть': 1, 'г. Московская область, г. Балашиха': 1, 'г. Железногорск - Илимский': 1, 'г. НОВОШАХТИНСК': 1, 'г. Тюменская обл.': 1, 'г. Чехов,Московской области.': 1, 'г. Гальбштадт': 1, 'г. Москва, Зелноград': 1, 'г. Довольное': 1, 'г. г. Омск': 1, 'г. Таловая': 1, 'г. Петербрг': 1, 'г. Солнечногорский р-н': 1, 'г. г. Йошкар-Ола': 1, 'г. те': 1, 'г. самый лучший город на земле': 1, 'г. Подольск, Москва': 1, 'г. БОРИСОГЛЕБСК': 1, 'г. Темрюк Краснодарский край': 1, 'г. гулькевичский район': 1, 'г. новотроицк': 1, 'г. Ростов-на-Дону (филиал на Малиновского)': 1, 'г. Чехов (Московская область)': 1, 'г. Крсноярск': 1, 'г. Ростовская обл., с.Заветное': 1, 'г. ЛО, Всеволожск': 1, 'г. Колонтаево': 1, 'г. Балашиха, Московской области': 1, 'г. Армизонское': 1, 'г. Лимассол': 1, 'г. п. Рахья': 1, 'г. Санкт-Петербург, п. Стрельна': 1, 'г. Ghent, Belgium': 1, 'г. Фрязино г': 1, 'г. САнкт Петербург': 1, 'г. Красногорск Московской обл': 1, 'г. маркс': 1, 'г. Khabarovsk': 1, 'г. Мостовской': 1, 'г. п. Нежинский': 1, 'г. Королев, Московская область.': 1, 'г. курсавка': 1, 'г. Ярославь': 1, 'г. Воронежская обл.': 1, 'г. Новониколаевский р Серп и Молот': 1, 'г. г.Новоуральск Свердловской области': 1, 'г. п. Ванино Хабаровского края': 1, 'г. Саратовская обл. город Маркс': 1, 'г. Одинцово, М.О.': 1, 'г. Раменское, МО': 1, 'г. Москва & Ставрополь': 1, 'г. п. Лотошино': 1, 'г. Новоплатнировская': 1, 'г. станица Ессентукская': 1, 'г. ирутск': 1, 'г. г.Котельники': 1, 'г. Кыштым, Челябинская обл': 1, 'г. Линьи': 1, 'г. с. Богучаны': 1, 'г. Берёзовский': 1, 'г. город Ефремов': 1, 'г. Кривой Рог': 1, 'г. Ho Chi Minh City': 1, 'г. St Petersburg': 1, 'г. северск томской области': 1, 'г. Погар': 1, 'г. п. Карла Маркса (Камешковский район)': 1, 'г. Санкт-Петербург, пос. Песочный': 1, 'г. г. Щекино': 1, 'г. Артёмовский Свердл.обл.': 1, 'г. Краснознаменск МО': 1, 'г. Ангарск/Иркутск': 1, 'г. Большая Таволожка': 1, 'г. ялуторовск': 1, 'г. Санкт-Ппетербург': 1, 'г. Московская область, г.Дубна': 1, 'г. ....': 1, 'г. няндома Архангельской область Русфинанс банк г.Архангельск ККО': 1, 'г. город Геленджик': 1, 'г. Санкт-Петербург и Нижн Новгород': 1, 'г. Orel': 1, 'г. Волоконовка': 1, 'г. псковская область': 1, 'г. Смоленкс': 1, 'г. Тимашевск Краснодарского края': 1, 'г. Калтан': 1, 'г. Московская обл Дмитровский р-н': 1, 'г. семилуки': 1, 'г. г Ясный': 1, 'г. Ростовская область г. Каменск Шахтинский': 1, 'г. Череповец Вологодская область': 1, 'г. ст Новоалексеевская': 1, 'г. Самарская обл. п . Безенчук': 1, 'г. Усть Лабинск': 1, 'г. д. Хамилово': 1, 'г. россошь': 1, 'г. не важно': 1, 'г. Зерноградский р-н, х.Путь Правды': 1, 'г. московская обл': 1, 'г. Любенина Галина Владимировна': 1, 'г. Энгельс Саратовская область': 1, 'г. москва верхн красносельская': 1, 'г. Мытищи г': 1, 'г. Клин Московская обл.': 1, 'г. Усолье - Сибирское': 1, 'г. Екатеринбург г': 1, 'г. приморский край': 1, 'г. Шиханы, Саратовская область': 1, 'г. Нтжневартовск': 1, 'г. ТУАПСЕ': 1, 'г. сергиев посад': 1, 'г. КБР г.Майский': 1, 'г. Чаны': 1, 'г. Дзержинск (Нижегородская область)': 1, 'г. кез': 1, 'г. Манитогорск': 1, 'г. жуковка, брянская обл.': 1, 'г. БЕГОРОД': 1, 'г. Челябирнск': 1, 'г. Маслянино': 1, 'г. г. Люберцы, Московская оласть': 1, 'г. Ивантеевка Московская область': 1, 'г. Default': 1, 'г. Санкт-Петербург; Чернушка (Пермский кр.)': 1, 'г. Санкт-Петербург, Ломоносов': 1, 'г. Айхал': 1, 'г. г. Череповец': 1, 'г. Нижегородская обл., г. Дзержинск': 1, 'г. Балахна, Нижегородской области': 1, 'г. г. Мытищи': 1, 'г. поселок Горки-10': 1, 'г. Санкт-Петербург - Омск': 1, 'г. Люберцы Московская область': 1, 'г. Астрахань.': 1, 'г. Щекино, Тульская область': 1, 'г. канск': 1, 'г. Мосвква': 1, 'г. киселевск': 1, 'г. Крымск-Новороссийск': 1, 'г. р.п. ПЛЕСЕЦК': 1, 'г. Борисоглебск Воронежской обл.': 1, 'г. город Тула': 1, 'г. Самарская область': 1, 'г. Москва Лобня': 1, 'г. Димитровград Ульяновской области': 1, 'г. г.Бердск': 1, 'г. Починок Смоленской области': 1, 'г. Энгельс саратовская область': 1, 'г. Astana': 1, 'г. Железногорск - Красноярск': 1, 'г. Ряззань': 1, 'г. Лысьва г': 1, 'г. Москвае': 1, 'г. г. Кумертау': 1, 'г. РОСТОВ-НА -ДОНУ': 1, 'г. Москва-Долгопрудный': 1, 'г. Ржев Тверской области': 1, 'г. Д.Давыдово': 1, 'г. Астраханская обл. Черноярский район': 1, 'г. соликамск': 1, 'г. Ивановская обл.': 1, 'г. Москва, Екатеринбург.': 1, 'г. карпинск': 1, 'г. Ставропольский край, Советский р-он': 1, 'г. ИРКУТСК': 1, 'г. Кито, Эквадор': 1, 'г. рп Горный': 1, 'г. Николаев': 1, 'г. Дальний восток': 1, 'г. Березово': 1, 'г. Лен. область, г. Всеволожск': 1, 'г. Ладожская станица, Усть-Лабинский район': 1, 'г. КИРОВ': 1, 'г. п.Разумное': 1, 'г. Раменское Мос.обл.': 1, 'г. п. Ванино, Хабаровского края': 1, 'г. Люберецкий район п. Малаховка': 1, 'г. Яранск Кировской области': 1, 'г. ростов-на-Дону': 1, 'г. Г.Куровское': 1, 'г. c.Новодугино': 1, 'г. Туринск': 1, 'г. Березовский, Кемеровская обл.': 1, 'г. Красногорск, МО': 1, 'г. с.Волчиха Волчихинский район Алтайский край': 1, 'г. Грайворонский р-он с. Смородино': 1, 'г. Ульяновк': 1, 'г. Сосново': 1, 'г. маОСКВА': 1, 'г. моссква': 1, 'г. Кромы Орловской области': 1, 'г. волжский волгоградской обл.': 1, 'г. с.Камышла Самарская область': 1, 'г. нгевинномысск': 1, 'г. д.Плешктно Чеховского': 1, 'г. Тула/ Москва': 1, 'г. Старый Оскол ( Белгородская обл.)': 1, 'г. ст.Обливская': 1, 'г. НижнийНовгород': 1, 'г. Выборг, Лениградская область': 1, 'г. Мсква': 1, 'г. Winnipeg, Canada': 1, 'г. с. Майма': 1, 'г. Королёв Московская область': 1, 'г. Соновоборск': 1, 'г. Подольск, Московская область': 1, 'г. г.Новотроицк': 1, 'г. Красноармейск Московской обл.': 1, 'г. хилок': 1, 'г. Орск, Оренбургской области': 1, 'г. Пермский край город Пермь': 1, 'г. г.Калуга': 1, 'г. ВЕЛИКИЕ ЛУКИ': 1, 'г. всеволожск': 1, 'г. сейчас': 1, 'г. Демидов': 1, 'г. чебаркуль': 1, 'г. Одинцово, Московская область': 1, 'г. Лениногорск (Альметьевск)': 1, 'г. Ногинск Московская обл': 1, 'г. Московская обл., Раменский р-он., пос. Удельная': 1, 'г. Октябрьский Республика Башкортостан': 1, 'г. МО, г.Черноголовка': 1, 'г. … или другой населенный пункт': 1, 'г. Ростов-наДону': 1, 'г. Хвойная': 1, 'г. Красноярск-Москва': 1, 'г. АРТЕМ': 1, 'г. крестцы': 1, 'г. п.Пятницкое': 1, 'г. Новосибирск-60': 1, 'г. Мытищи Московской области': 1, 'г. misk': 1, 'г. Великй Новгород': 1, 'г. белогорск': 1, 'г. Нюрнберг': 1, 'г. Дубровка Ленинградская область': 1, 'г. Лазаревское': 1, 'г. Рязантдк': 1, 'г. Временно г.Краснодар': 1, 'г. Ростов-На-Дону': 1, 'г. шуя': 1, 'г. Чехов-4': 1, 'г. Москва, сейчас в Майами': 1, 'г. Белгородская обл. Краснояружский р-н с.Графовка': 1, 'г. Киров Нововятский район': 1, 'г. Дагестанские Огни': 1, 'г. г. Бород': 1, 'г. Нижние Серги': 1, 'г. Эгвекинот': 1, 'г. УССУРИЙСК': 1, 'г. г.Ишимбай': 1, 'г. Волоград': 1, 'г. п. Нарышкино': 1, 'г. Насоново с': 1, 'г. костомукша': 1, 'г. Мытищи-Москва-Новороссийск': 1, 'г. Шуя, Ивановской обл.': 1, 'г. г. Отрадный Самарская область': 1, 'г. Тацинская': 1, 'г. отделение банка расположено в Люберцах': 1, 'г. КАЛИНИНГРАД': 1, 'г. Петрозаводск (Республика Карелия)': 1, 'г. Яросавль': 1, 'г. санкпетербург': 1, 'г. КЕМЕРОВО': 1, 'г. Дятьково Брянская область': 1, 'г. г .Уфа': 1, 'г. с.Турочак': 1, 'г. Домбаровский': 1, 'г. Ишимбай, Советская, 25': 1, 'г. ДЗЕРЖИНСКИЙ': 1, 'г. Мильково': 1, 'г. Оренбург-Москва': 1, 'г. Майский,КБР': 1, 'г. Voronezh': 1, 'г. Островцы, Рам. район, Моск. области': 1, 'г. Кемеровская область, Промышленновский район.': 1, 'г. Курган, Курганской обл.': 1, 'г. рубцовск': 1, 'г. фрязино': 1, 'г. Санкт-Петеурбрг': 1, 'г. г. Сковородино': 1, 'г. Будённовск': 1, 'г. Туапсе-Краснодар-Ростов': 1, 'г. никель': 1, 'г. красногорск московская область': 1, 'г. станица Романовская': 1, 'г. Ставрополль': 1, 'г. Будапешт, Венгрия': 1, 'г. петровский': 1, 'г. СЕЛО ПЕШКОВО': 1, 'г. Москва + Санкт-Петербург': 1, 'г. Pskov': 1, 'г. Краснодар и Москва': 1, 'г. Калининград г': 1, 'г. Чебоксарв': 1, 'г. Ленинск-кузнецкий': 1, 'г. Шемышейка': 1, 'г. Саратов Саратовской области': 1, 'г. НИКОЛЬСК': 1, 'г. октябрьский': 1, 'г. Петропавловск-Камчатский - Москва': 1, 'г. кисловодск': 1, 'г. Мирный Саха Якутия': 1, 'г. Бокситогорск': 1, 'г. Новоселки': 1, 'г. волоколамск': 1, 'г. Эйндховен': 1, 'г. Белиджи': 1, 'г. мончегорск': 1, 'г. СПб. / Самусь': 1, 'г. Сергиев посад': 1, 'г. Мытищи, Моск. обл.': 1, 'г. Малоярославецкий район д.Чулково': 1, 'г. кондрово': 1, 'г. Краснодар г': 1, 'г. Раменское, Московской обл.': 1, 'г. Усть - Кут': 1, 'г. Челябинска': 1, 'г. Северодвинск.': 1, 'г. тимашевск': 1, 'г. Рогачево': 1, 'г. Ковров, Чернышевского 3, Чернышевского 1': 1, 'г. Куртамыш': 1, 'г. моква': 1, 'г. Тёмкино': 1, 'г. Республика Карелия петрозаводск': 1, 'г. советская': 1, 'г. город-герой Москва': 1, 'г. ЧЕГДОМЫН': 1, 'г. Черноголовка МО': 1, 'г. Трубчевск': 1, 'г. Московская область, город Видное': 1, 'г. Москва / Нижний Новгород': 1, 'г. Москва/Лимассол': 1, 'г. Княгинино Нижегородской области': 1, 'г. Тверь/Москва': 1, 'г. Долинск': 1, 'г. Дублин, Ирландия': 1, 'г. Березник': 1, 'г. Ревда Свердловской области': 1, 'г. Сакт-ПЕтербург': 1, 'г. Дрожжановский район': 1, 'г. железногрск': 1, 'г. Екатеринюург': 1, 'г. р.п. Линево': 1, 'г. Обнинск г': 1, 'г. Астрахань, Санкт-петербург': 1, 'г. issy-les-moulineaux': 1, 'г. пос. Ермолино': 1, 'г. бийск': 1, 'г. Павловский Посад, село Рахманово': 1, 'г. пролетарск': 1, 'г. Пильна': 1, 'г. Sydney': 1, 'г. Мурсалимкино': 1, 'г. Щёлково Московской области': 1, 'г. Санкт-Петергбург': 1, 'г. Славутич': 1, 'г. Истринский район д.Алексино': 1, 'г. пос. Власиха': 1, 'г. Jersey City': 1, 'г. Звёздный городок': 1, 'г. Дмтров': 1, 'г. с. Петропавловское': 1, 'г. Невельск': 1, 'г. Челябиснк': 1, 'г. Нефтекумск': 1, 'г. Буздякский район, Буздяк': 1, 'г. Североуральск Свердловской области': 1, 'г. Сочи, Краснодар, Туапсе': 1, 'г. ст.советская': 1, 'г. Москва/Хабаровск': 1, 'г. Новосибирская область, р.п. Коченево': 1, 'г. Кизилюрт': 1, 'г. с.стерлибашево': 1, 'г. Московская Область, г.Мытищи': 1, 'г. Новосергиевка': 1, 'г. Полтавка': 1, 'г. Клин,МО': 1, 'г. Санкт-Петербарг': 1, 'г. Зеленоград. Москва': 1, 'г. Екатееринбург': 1, 'г. Sankt-Peterbourg': 1, 'г. карты': 1, 'г. Зеленодольск, РТ': 1, 'г. Дитенхофен,Германия': 1, 'г. Королев Московская обл': 1, 'г. Шадринск и Курган': 1, 'г. Утрехт': 1, 'г. Louisville': 1, 'г. волжский р-н п. Приволжский РМЭ': 1, 'г. Новотроицк Оренбургской области': 1, 'г. г.Чебоксары': 1, 'г. Кондрово, калужской обл.': 1, 'г. Город герой Москва': 1, 'г. кемь': 1, 'г. Москва, Люберцы': 1, 'г. Старополь': 1, 'г. Нови Сад': 1, 'г. Красноусольск': 1, 'г. Ирутск': 1, 'г. с. гагино': 1, 'г. Volgograd': 1, 'г. северодвинск': 1, 'г. Одинцов Московской области': 1, 'г. ТОМСК': 1, 'г. Еланский район': 1, 'г. ВОЛГОГРАДСКАЯ ОБЛАСТЬ ОЛЬХОВСКИЙ РАЙОН': 1, 'г. село Актаныш': 1, 'г. Бугуруслан  (т.к. от имени папы)': 1, 'г. с.Перхушково': 1, 'г. МО, г. Щелково': 1, 'г. П. Салым': 1, 'г. Приволжск': 1, 'г. п.Уршельский': 1, 'г. Кяхта Республика Бурятия': 1, 'г. Подгорная': 1, 'г. пос. Правдинский': 1, 'г. г.Цивильск': 1, 'г. хИЛОК': 1, 'г. г. Миасс': 1, 'г. Воздвиженское': 1, 'г. Раевский': 1, 'г. златоуст': 1, 'г. село Боровиха': 1, 'г. Санккт-Петербург': 1, 'г. ЭЛИСТА': 1, 'г. Краснотурьинск, Свердловская область': 1, 'г. г. Березовский': 1, 'г. геленджик': 1, 'г. п. Нахабино, Красногорского района': 1, 'г. Пушкино московская область': 1, 'г. ккинешма': 1, 'г. пгт Рыздвяный': 1, 'г. Бердянск': 1, 'г. пгт. Магистральный': 1, 'г. советск': 1, 'г. Тула, Тульская обл': 1, 'г. Пласт': 1, 'г. рамонь': 1, 'г. Усть-Катав г': 1, 'г. Иосква': 1, 'г. Моск. обл, Солнечногорский р-н, посм. Андреевка': 1, 'г. с.Первомайское Томской области': 1, 'г. Тамбовская область, г. Котовск': 1, 'г. Уяр': 1, 'г. Москва-Махачкала': 1, 'г. с. Греческое': 1, 'г. Дзержинск,Нижегородская область': 1, 'г. Кукмор/Казань': 1, 'г. Иркутсая область': 1, 'г. Кирово_чепецк': 1, 'г. Эльхотово': 1, 'г. Казань, Татарстан': 1, 'г. город Алматы': 1, 'г. порхов': 1, 'г. Бристоль': 1, 'г. г.Нижнеудинск': 1, 'г. КИСЛОВОДСК': 1, 'г. п.Чунский': 1, 'г. Омская область, р. п. Москаленки': 1, 'г. Киселёвск, Кемеровксой области': 1, 'г. Мурманская обл. г. Снежногорск': 1, 'г. г.Новошахтинск Ростовской обл.': 1, 'г. Мытищи Московская обл': 1, 'г. п. Верхнеднепровский': 1, 'г. аэропорт Домодедово': 1, 'г. Старый Оскол Белгородской области': 1, 'г. Санкт-Петербырг': 1, 'г. Таврическое': 1, 'г. Челбинск': 1, 'г. Новокуйбышевск.': 1, 'г. Новинки': 1, 'г. г.Братск': 1, 'г. Рыбное Рязанской области': 1, 'г. Королёв (МО)': 1, 'г. ЗАТО Сибирский': 1, 'г. Москва;мытищи': 1, 'г. Пенза Пензенской области': 1, 'г. Верхняя - Пышма': 1, 'г. Сосновый Бор Лен. обл.': 1, 'г. Ляньюньган, Китай': 1, 'г. Краснодарск': 1, 'г. тарко-сале': 1, 'г. Краснодарский край, Красноармейский р-он, пос. Октябрьский': 1, 'г. с.Эссо': 1, 'г. Самарское': 1, 'г. жуковка': 1, 'г. Г. ОЗЕРЫ': 1, 'г. Мичуринска': 1, 'г. митрофановка': 1, 'г. курилы': 1, 'г. Челябинск и весь мир': 1, 'г. Богучар, Москва': 1, 'г. новосибисрк': 1, 'г. Шафраново': 1, 'г. Московская область Щелково': 1, 'г. ртищево': 1, 'г. Санк-Петерубрг': 1, 'г. Москвабад': 1, 'г. Лермонтов(Пятигорск)': 1, 'г. ст. Октябрьская': 1, 'г. Красногорск (Московская область)': 1, 'г. Междуреченский, Кондинский район, ХМАО - Югра': 1, 'г. Каменск-Уральский Свердловской области': 1, 'г. Самарская обл Богатовский район с. Максимовка': 1, 'г. г. Красногорск': 1, 'г. Междуреченский': 1, 'г. Краснодар-Сочи': 1, 'г. Мамоново': 1, 'г. ростов ярославский': 1, 'г. р.п. Тамала Пензенская область': 1, 'г. Подольск/Москва': 1, 'г. Ивдель': 1, 'г. Рыбное': 1, 'г. Липецкая область, Усманский район, с. Грачевка': 1, 'г. МО, Дзержтинский': 1, 'г. Нижний Новгород,Бор': 1, 'г. Ногинск, Моск. обл.': 1, 'г. У-я': 1, 'г. Ростовская область, Обливский район, станица Обливская': 1, 'г. Челябинская область': 1, 'г. московская область.г. серпухов': 1, 'г. Пикалево': 1, 'г. Н НОВГОРОД': 1, 'г. Ростов- на - дону': 1, 'г. чапаевск': 1, 'г. Вологодская область': 1, 'г. Холмск Сахалинской области': 1, 'г. альметьевск рт': 1, 'г. Озёрск, Челябинская Область': 1, 'г. Каракулино': 1, 'г. Бахтемир': 1, 'г. Ставропольский край, г.Кисловодск': 1, 'г. Сызрань Самарская область': 1, 'г. Санкт-Петер': 1, 'г. Павлово Нижегородской области': 1, 'г. г.вязники': 1, 'г. ЯкутскИванович': 1, 'г. Ростов-на- Дону': 1, 'г. Жуков  Калужская обл.': 1, 'г. Верхняя Пышма, Свердловская облась': 1, 'г. Ярославль-Шарья': 1, 'г. Кунгур, Пермский край': 1, 'г. Солнечнодольск': 1, 'г. Холмский': 1, 'г. ЛЮБЕРЦЫ': 1, 'г. smolensk': 1, 'г. канск, красноярский край': 1, 'г. город-герой Ленинград': 1, 'г. Ростов-на-Догну': 1, 'г. ковров': 1, 'г. Москва / Лимассол': 1, 'г. юрга': 1, 'г. НИЖНЕКАМСК': 1, 'г. КОСТРОМА': 1, 'г. Старый Окол': 1, 'г. Омская область р.п. Любинский': 1, 'г. Красногоск, Московская область': 1, 'г. г.Соликамск': 1, 'г. город герой Москва': 1, 'г. Новосибирская область город Бердск': 1, 'г. Агалатово': 1, 'г. Чита (Забайкальский край)': 1, 'г. Москва, Королев': 1, 'г. Уссурийск, Приморского края': 1, 'г. Янино-1': 1, 'г. Набережные Челны (Татарстан)': 1, 'г. темрюк': 1, 'г. Кировская обл., п. Оричи': 1, 'г. МО,Подольский р-н ,пгт.Львовский': 1, 'г. Волгорад.': 1, 'г. Гагарин Смоленская область': 1, 'г. москва столица пока': 1, 'г. Истринский район': 1, 'г. Железнодорожный/Реутов': 1, 'г. Грязовец': 1, 'г. ........': 1, 'г. Жигулёвск': 1, 'г. мкр.Северо-Задонск г.Донской': 1, 'г. нефтевамск': 1, 'г. Мытищи, Московской обл.': 1, 'г. г. Мытищи М.О.': 1, 'г. г Новосибирск': 1, 'г. дмитровск': 1, 'г. Нальчик, КБР.': 1, 'г. г. Обнинск калужской обл.': 1, 'г. г. Воронеж': 1, 'г. пензенская область': 1, 'г. Сергиев Посад.': 1, 'г. Московская область, г. Долгопрудный': 1, 'г. Яранск': 1, 'г. Новосибсирк': 1, 'г. Деденево': 1, 'г. Москва-Мытищи': 1, 'г. Чистоозерное': 1, 'г. Мариинский Посад': 1, 'г. Батайск (Ростовская область)': 1, 'г. г мензелинск': 1, 'г. Киров (Кировская область)': 1, 'г. Српухов': 1, 'г. Санкт-Петербург, онлайн чат': 1, 'г. Краснодарский край г. Тихорецк': 1, 'г. Чебаркуль (Челябинская область)': 1, 'г. Омск. Офис ул. Магистральная 2': 1, 'г. Томская область, с.Каргасок': 1, 'г. пос. Октябрьский Люберецкого района МО.': 1, 'г. г. Раменское': 1, 'г. Каледина': 1, 'г. Сосновый Бор ЛО': 1, 'г. Москва (Тамбов)': 1, 'г. Суровикино Волгоградской обл.': 1, 'г. Нжний Новгород': 1, 'г. Королев, Моск. обл': 1, 'г. Мoсква': 1, 'г. Солдаткино Тисульского района Кемеровской области': 1, 'г. Москва-Темрюк': 1, 'г. Чикаго (ранее Москва)': 1, 'г. с. Чугуевка, Приморский край': 1, 'г. Costa-Mesa': 1, 'г. Старая Русса Новгородской обл.': 1, 'г. нижнекамск': 1, 'г. 5939 он же 047169000': 1, 'г. Улан-Удэ пос.Сосновый Бор': 1, 'г. Саров, Нижегородская область': 1, 'г. Рыбное, Рязанской области': 1, 'г. вышний-волочек': 1, 'г. п.Усть-Нера': 1, 'г. Балаково саратовской области': 1, 'г. РП.Пречистое Ярославской области': 1, 'г. Красногорский район, Нахабино': 1, 'г. Лебяжье Курганской области': 1, 'г. санкт–петербург': 1, 'г. Моcква': 1, 'г. Рославльский р-н,д.Заря': 1, 'г. АФИНЫ': 1, 'г. Раменское МОи': 1, 'г. Ркза': 1, 'г. г. Комсомольск-на Амуре': 1, 'г. Гдов': 1, 'г. г. Химки (Московская область)': 1, 'г. Московская обл. г. Мытищи': 1, 'г. трёхгорный': 1, 'г. Гуанчжоу': 1, 'г. дубна, Московская область': 1, 'г. Санкт-Путурбург': 1, 'г. Ивангород,ЛО': 1, 'г. Кореновск Краснодарский край': 1, 'г. Остров, Псковская область': 1, 'г. москва/барнаул': 1, 'г. Дмитров Московская область': 1, 'г. город Искитим,Новосибирская область': 1, 'г. Ардатов (Республика Мордовия)': 1, 'г. Кола': 1, 'г. Санкт-Петебруг': 1, 'г. London': 1, 'г. 5939 можно и так 047169000': 1, 'г. Санк- Петербург': 1, 'г. Санкт-Петербург, Москва, Ижевск': 1, 'г. Уфа, Республика Башкортостан': 1, 'г. Москва, Одинцовский р-н': 1, 'г. Нижний Новгоро': 1, 'г. Апастово': 1, 'г. Бодайбо': 1, 'г. 047169000 или 5939': 1, 'г. Октябрьск , Самарская область': 1, 'г. АБАТСКОЕ': 1, 'г. Калевала': 1, 'г. вачовенднбсв': 1, 'г. Ханты-Мансийске': 1, 'г. Московская обл. Щелково': 1, 'г. кчр прикубанский район пос Кавказский': 1, 'г. Москва, Красногорск': 1, 'г. КОНДОПОГА': 1, 'г. Пуэртопринсесса Москва Ростов на Дону': 1, 'г. тобольск': 1, 'г. санкт  петербург': 1, 'г. Краснобродский': 1, 'г. Московская область, г. Королев': 1, 'г. Егорьевск, Московская область': 1, 'г. Лысково Нижегородская обл.': 1, 'г. МО г. Чехов': 1, 'г. Ростов, Ярославской обл.': 1, 'г. Хилок': 1, 'г. Брянская обл.г.Дятьково': 1, 'г. республика Татарстан Лениногорск': 1, 'г. Верхняя салда': 1, 'г. лукоянов': 1, 'г. Урюпинск, Москва': 1, 'г. юрья': 1, 'г. петропавловск-Камчатский': 1, 'г. Бердск, новосибирской области': 1, 'г. п.Новый Удмуртская Республика Воткинский район': 1, 'г. Mscow': 1, 'г. александров': 1, 'г. Волжск-Москва': 1, 'г. Московская обл. г. Химки': 1, 'г. Северодвинск Архангельской области': 1, 'г. с.Парабель': 1, 'г. 140205,Pobeda street,16,39,city of Voscresensk,Moscow region': 1, 'г. CАнкт=Петербург': 1, 'г. Заграница': 1, 'г. г. Уссурийск': 1, 'г. балабаново': 1, 'г. Ярославская область г.Ростов': 1, 'г. дорогобуж': 1, 'г. Мга': 1, 'г. саянск': 1, 'г. Волгоградская обл. Калач на Дону': 1, 'г. Москва, Коломна': 1, 'г. село Курья': 1, 'г. Кудымкар': 1, 'г. Воронж': 1, 'г. St.Petersburg': 1, 'г. В. Пышма': 1, 'г. Челябинская область, город Верхний Уфалей': 1, 'г. Ульяяновск': 1, 'г. Ррррррррррр': 1, 'г. Советский ХМАО-Югра': 1, 'г. БЕЛГОРОД': 1, 'г. Отрадный Самарской обл': 1, 'г. Александров, Владимирская область': 1, 'г. Переславль , Плесецк.': 1, 'г. Няндома г': 1, 'г. ст.Каневская': 1, 'г. санкт-петербурга': 1, 'г. Иваново и Санкт-Петебрург': 1, 'г. мичуринск': 1, 'г. Шлиссельбург, Ленинградская обл.': 1, 'г. г. Ейск': 1, 'г. Кушва Свердловская область': 1, 'г. кропоткин': 1, 'г. Иркутск-Москва': 1, 'г. Москва - Томск': 1, 'г. кКрасногорский район, Нахабино': 1, 'г. г.Азов': 1, 'г. Старая Русса, Новгородской области': 1, 'г. С. Пб.': 1, 'г. СПБ.': 1, 'г. Краснодарский край г. Белореченск': 1, 'г. Оренбургская область, г.Ясный': 1, 'г. г. Королев': 1, 'г. Елизово, Камчатский край': 1, 'г. Усть-илимск': 1, 'г. Moskow': 1, 'г. онега': 1, 'г. Новая Москва Киевский': 1, 'г. Гусев, Калининградская область': 1, 'г. Пикалёво': 1, 'г. Иркутская обл. г. Черемхово': 1, 'г. г.Троицк': 1, 'г. иркутск,Москва': 1, 'г. Алтайский край, Ключевской район, село Северка, ул.Гагарина дом5.': 1, 'г. Naberezhnye Chelny': 1, 'г. Иркутская область село Оса': 1, 'г. Ххххххххх': 1, 'г. качканар': 1, 'г. Бугуруслан-Москва': 1, 'г. р.п. Рудня, Волгоградская обл.': 1, 'г. Новомсковск': 1, 'г. п.Красково': 1, 'г. каменский р-он п. глубокий': 1, 'г. Заречный Пензенская область': 1, 'г. Канаш, Чувашская Республика': 1, 'г. с. Дивеево Нижегородской области': 1, 'г. Ленинградская обл. Всеволожск': 1, 'г. Партизанск, Приморский край': 1, 'г. chelyabinsk': 1, 'г. Новокузнецк Кемеровская область': 1, 'г. Железногорск/Москва': 1, 'г. Брянская область, г.Клинцы': 1, 'г. Мончегорск Мурманская обл.': 1, 'г. Долгопрудный (МО)': 1, 'г. Цимлянск, Ростовской области': 1, 'г. Кадниково': 1, 'г. Одинцовов': 1, 'г. Владикавкавказ': 1, 'г. Как': 1, 'г. г. Кировск': 1, 'г. Орел, Россия': 1, 'г. Воровского': 1, 'г. Владимирская область п.Ставрово': 1, 'г. новосибирск ул дачная': 1, 'г. сатка': 1, 'г. Луховицы Московской обл.': 1, 'г. Вятка банк Москва': 1, 'г. Долгорудный': 1, 'г. Челябинская Область': 1, 'г. Сибай Башкортостан': 1, 'г. оронеж': 1, 'г. р.п.Линево': 1, 'г. Ожерель': 1, 'г. Дзержинск,нижегородской обл.': 1, 'г. г.Волгоград': 1, 'г. Подольский р-он, пос.Львовский': 1, 'г. Омская область, Шербакульский район, с. Екатеринославка.': 1, 'г. Петербург-Москва': 1, 'г. г. Нальчик': 1, 'г. Улан-Уде': 1, 'г. Сергиев Посад Московской области': 1, 'г. Пушкино М.о.': 1, 'г. Кинешма, Ивановская обл.': 1, 'г. черноголовка': 1, 'г. Карелия п.Пяозерский': 1, 'г. Петрпавловск-Камчатский': 1, 'г. город Волжский, Волгоградская область': 1, 'г. ДМИТРОВ': 1, 'г. анжеро-судженск': 1, 'г. Ясногорск, Тульская обл.': 1, 'г. Высокий': 1, 'г. Санкт-Петербуог': 1, 'г. кулыги': 1, 'г. Белая Холуница': 1, 'г. Московская обл. Г.Реутов': 1, 'г. Старая Русса, Новгородской обл.': 1, 'г. мУРМАНСК': 1, 'г. ПЯТИГОРСК': 1, 'г. п.Власиха': 1, 'г. Снежногорск Мурманская обл.': 1, 'г. Дубна, московская область': 1, 'г. Карабаново': 1, 'г. Солдаткино Тисульского р-на Кемеровской области': 1, 'г. Щадринск': 1, 'г. г.Артем Приморского края': 1, 'г. С. Шубинское Барабинского района Новосибирской области': 1, 'г. г.Тула': 1, 'г. Краснодарский край, станица Северская': 1, 'г. Переяславка': 1, 'г. Омск-Сургут': 1, 'г. Санкт-Петербург, Торфяная дор.7': 1, 'г. Курск, курская область': 1, 'г. рязанская область р.п. шилово': 1, 'г. кРАСНОГРСК': 1, 'г. Шаховская (Московская область)': 1, 'г. ГП Вербилки': 1, 'г. х. Харьковский': 1, 'г. котлас': 1, 'г. Дубна, Московской области': 1, 'г. харьков': 1, 'г. Тула и Москва': 1, 'г. пгт Посьет Приморский край': 1, 'г. Сурское': 1, 'г. московская обл. г.п.менделеево': 1, 'г. Выборг Ленинградская область': 1, 'г. Копейск Челябинской области': 1, 'г. Сантк-Петербург': 1, 'г. С-Петербург, пос. Металлострой': 1, 'г. сокол вологодской области': 1, 'г. Парыж': 1, 'г. Анна': 1, 'г. Сочи.': 1, 'г. Красноярск, пос.Солнечный': 1, 'г. БЕРЕЗНИКИ': 1, 'г. Москва-Королёв-Щёлково': 1, 'г. Строитель, Белгородская обл.': 1, 'г. поселок Киевский': 1, 'г. Новосиб': 1, 'г. Бородино Красноярский край': 1, 'г. Нижний-Новгород': 1, 'г. село Кочубеевское Ставропольского края': 1, 'г. Tomsk': 1, 'г. Завьяловский район': 1, 'г. Stavropol': 1, 'г. Санкт-Перебург': 1, 'г. воскресенск': 1, 'г. дзержинск нижегородская область': 1, 'г. Владимирская область, город Собинка': 1, 'г. Пишу из Москвы': 1, 'г. Курган , Курганская облость': 1, 'г. москва-подольск': 1, 'г. Лысково (Нижегородская обл.)': 1, 'г. Мытищи, Москва': 1, 'г. ковров владимирская об.': 1, 'г. Омская область': 1, 'г. Москва и другие': 1, 'г. ВОЛЖСИЙ': 1, 'г. Санкт-Пертербург': 1, 'г. Санкт- Пеетрбург': 1, 'г. Плесецк': 1, 'г. калининград(обл)': 1, 'г. г.Казань': 1, 'г. saratov': 1, 'г. Дюртюли респ.Башкортостан': 1, 'г. Back in USSR...': 1, 'г. г.Ахтубинск,Астраханская обл.': 1, 'г. New York': 1, 'г. можайск': 1, 'г. Мытищи, Перловская': 1, 'г. Уфа Респ.Башкортостан': 1, 'г. Озерск (чел. области)': 1, 'г. Мухосранск': 1, 'г. Астраххань': 1, 'г. г.Калач-на-Дону': 1, 'г. Шимск': 1, 'г. Новороссисйк': 1, 'г. г. старый оскол': 1, 'г. Москва, Новосибирск': 1, 'г. Zarechniy': 1, 'г. Чехов Московской области': 1, 'г. СЕРПУХОВ': 1, 'г. г.Ярославль': 1, 'г. Sochi': 1, 'г. Кубинка, Одинцовский р-н': 1, 'г. прокопьевск': 1, 'г. Сусуман Магаданская область': 1, 'г. Остров, Псковская обл.': 1, 'г. Тульская область, г.Алексин': 1, 'г. г.Воркута': 1, 'г. Каргасок': 1, 'г. с. Лакомая Буда': 1, 'г. г. Лобня': 1, 'г. Ленинградская область. Пгт. Рощино': 1, 'г. Карпинск,Свердловская область': 1, 'г. М.О Раменский р-он': 1, 'г. г.Жуковский': 1, 'г. КИНГИСЕПП': 1, 'г. москва-воронеж': 1, 'г. СТАРИЦА': 1, 'г. Москва (проживаю в Балашихе)': 1, 'г. Энгель': 1, 'г. борисоглебск': 1, 'г. каменск- уральский': 1, 'г. с.Епишино Красноярский край': 1, 'г. Село Петровское Тамбовская область': 1, 'г. волжск рмэ': 1, 'г. Новокузецк': 1, 'г. ст-ца Советская': 1, 'г. с.петербург': 1, 'г. дер. Расулево, Учалинского района': 1, 'г. поселок Черкизово': 1, 'г. Ростов Великий': 1, 'г. Москва (Московская обл.)': 1, 'г. Московская обл.г.Железнодорожный': 1, 'г. Сенгилей Ульяновская обл.': 1, 'г. Азнакаевский район п.г.т. Актюбинский': 1, 'г. Барановичи': 1, 'г. Грязи Липецкой области': 1, 'г. Пугчев': 1, 'г. УЛан-Удэ': 1, 'г. балаково': 1, 'г. д.Зубарево': 1, 'г. г.Можга': 1, 'г. Ставрполь': 1, 'г. Калининград-Варшава': 1, 'г. ЛЕНИНГРАДСКАЯ ОБЛАСТЬ': 1, 'г. г. Бор Нижегородской области': 1, 'г. Рузаевка-Мордовия': 1, 'г. Жаворонки': 1, 'г. с.Инясево': 1, 'г. Зеленоград - Ивантеевка': 1, 'г. ДОЛИНСК': 1, 'г. Москва/Ростов': 1, 'г. Давлеканово': 1, 'г. Казань, ситуация в Нижнем Новгороде': 1, 'г. Алексеевское': 1, 'г. Задонск': 1, 'г. с.Пычас': 1, 'г. Часцы-1': 1, 'г. Москва, Полтавка (Омская область)': 1, 'г. Кемеровская область, пгт Яя': 1, 'г. г.Мытищи': 1, 'г. Еманжелинский р-он,с.Ключи': 1, 'г. с. Большая Черниговка, Самарской области': 1, 'г. Дмитров МО': 1, 'г. г. Нижний Новгород.': 1, 'г. Omsk': 1, 'г. Новосибирская область Тогучинский район п.Семёновский ул.Лесная 25': 1, 'г. Сан Диего': 1, 'г. Москва, Видное': 1, 'г. Курильск': 1, 'г. Республика Башкортостан, город Учалы': 1, 'г. Ростов-на_дону': 1, 'г. г.Туймазы': 1, 'г. РТ, г.Тетюши': 1, 'г. Московская область, Лобня': 1, 'г. Москва / Химки': 1, 'г. Жуковский, Московской области': 1, 'г. Москва, Крекшино': 1, 'г. башкортостан. сибай': 1, 'г. Химки, Московсой обл.': 1, 'г. РТ, г.Нижнекамск': 1, 'г. Северск Томской обл': 1, 'г. Ельники': 1, 'г. Иваново Москва': 1, 'г. Химки Московская обл.': 1, 'г. Красная Поляна, Сочи': 1, 'г. Долгоруково': 1, 'г. с.Павловка': 1, 'г. южноуральск': 1, 'г. Санкт-Петербург, Сертолово': 1, 'г. х.Бакланники, Семикаракорский р-н, Ростовская обл.': 1, 'г. пос. Лесной': 1, 'г. не важен': 1, 'г. Нью Йорк': 1, 'г. ШЕБЕКИНО': 1, 'г. с. Власовка, Грибановского р-на Воронежской обл.': 1, 'г. Мурманская обл.Мончегорск': 1, 'г. Петропавловск - Камчатский': 1, 'г. крестцы новгородской обл': 1, 'г. поселок горбунки': 1, 'г. Икша': 1, 'г. г.Красногорск Московской обл.': 1, 'г. сланцы': 1, 'г. Абдулино': 1, 'г. Краснодарский край ст. Брюховецкая': 1, 'г. С-Пб.': 1, 'г. Тюменская область г.Советский': 1, 'г. Лысково': 1, 'г. Унеча Брянская область': 1, 'г. Сергиев-Посад, Москва': 1, 'г. Посёлок имени Морозова': 1, 'г. с.Бея': 1, 'г. Королёв Моск. обл.': 1, 'г. Москва и Московская область': 1, 'г. п.Зимовники': 1, 'г. Чкаловск': 1, 'г. Сосновый Бор, Ленинградская область': 1, 'г. тула-москва': 1, 'г. г.Фокино  Приморский край': 1, 'г. кировск лен область': 1, 'г. Подтесово': 1, 'г. Раменское, Моск. обл.': 1, 'г. Краснодар - Сочи': 1, 'г. г.Буй.Костромская область': 1, 'г. ВОРОНЕЖ': 1, 'г. Москва-Санкт-Петербург': 1, 'г. Воронежская область, г.Лиски': 1, 'г. Казань-Самара': 1, 'г. Ленинградская область, п. Рощино': 1, 'г. г.Комсомольск-наАмуре': 1, 'г. Днепропетровск': 1, 'г. Липецкая обл': 1, 'г. Егорьевск, МО': 1, 'г. Куеда': 1, 'г. Салым': 1, 'г. село Благодатное': 1, 'г. Москва, Чебоксары.': 1, 'г. Вологда, Вологодская область': 1, 'г. Краснокамск Пермский край': 1, 'г. с.Соболох': 1, 'г. Карымская': 1, 'г. Республика Башкортостан, Буздякский район, с. Старый Буздяк': 1, 'г. Белгородская область город Губкин': 1, 'г. г. Люберцы, МО': 1, 'г. с. Жутово 1 - е октябрьский район волгоградская область': 1, 'г. пересвет': 1, 'г. Железногорск Курской': 1, 'г. КАзань': 1, 'г. катайск': 1, 'г. Московская область, Красногорский район, пос. Нахабино': 1, 'г. пгт Алексеевское': 1, 'г. елабуга': 1, 'г. м осква': 1, 'г. Петропаловск-Камчатский': 1, 'г. ст.Сергиевская': 1, 'г. с. Перемышль Калужской области': 1, 'г. Усть-Нера,Якутия': 1, 'г. Новосибисрк': 1, 'г. краснотурьинск': 1, 'г. Хабаровск, Москва': 1, 'г. Павловский -Посд': 1, 'г. г. Нижний Новгород': 1, 'г. Дзержинск, Нижегородская обл.': 1, 'г. Рыбинск, Ярославская область': 1, 'г. Североморск, Лиски': 1, 'г. Балаково,Саратовская область': 1, 'г. Украина п.Новотроицкое': 1, 'г. Кмерово': 1, 'г. Ленинградская область Всеволожский район д.Хапо-ое': 1, 'г. г Железногорск': 1, 'г. Екатеринург': 1, 'г. Валуки': 1, 'г. с. Псынабо': 1, 'г. Москва Остоженка': 1, 'г. Тверская область п Пено': 1, 'г. РС(Я),Мегино-Кангаласский р-н.,с.Майя': 1, 'г. Железноводск пос. Иноземцево': 1, 'г. Москва/Владимир': 1, 'г. ст-ца Ессентукская': 1, 'г. г.Набережные Челны': 1, 'г. Новоивановское': 1, 'г. Магнитогорск, К.Маркса 64': 1, 'г. минеральные Воды': 1, 'г. Воронеж, Набережная': 1, 'г. Klaukkala': 1, 'г. Нижнеангарск Республика Бурятия': 1, 'г. УФа': 1, 'г. Новая Москва': 1, 'г. ВеликийНовгород': 1, 'г. Новоорск': 1, 'г. Тарко-Сале, ЯНАО': 1, 'г. Санкт-Питербург': 1, 'г. Ракитное': 1, 'г. Пряжа': 1, 'г. МО Красногорский р-он Нахабино': 1, 'г. Нижнй Новгород': 1, 'г. Йена': 1, 'г. на данный момент нахожусь в г. Когалым': 1, 'г. Гусь Хрустальный': 1, 'г. Знаменское': 1, 'г. Зеленоград, Москва': 1, 'г. Пакистан': 1, 'г. г.Елизово': 1, 'г. Сергиев Посад Московская область': 1, 'г. с. Троицкое': 1, 'г. Приморский край, хорольский р-он, с.Хороль': 1, 'г. село верхний услон': 1, 'г. с. ржевка': 1, 'г. никольск': 1, 'г. ТУЛЬСКАЯ ОБЛАСТЬ': 1, 'г. Дзержинск Нижегородской области': 1, 'г. Санкт-Петербург и Никель (Мурманская обл.)': 1, 'г. с. Михайловское': 1, 'г. Пемь': 1, 'г. Ленинградская область город Тосно': 1, 'г. СТАРЫЙ ОСКОЛ': 1, 'г. мгнитогорск': 1, 'г. Радужный Владимирской обл.': 1, 'г. Асбест, Свердловской области': 1, 'г. Белогорск Амурской области': 1, 'г. г. Геленджик с.Дивноморское': 1, 'г. Даллас': 1, 'г. теньгушево': 1, 'г. Kursk': 1, 'г. Спб, Колпино': 1, 'г. РТ,г.Набережные Челны': 1, 'г. Калинигнрад': 1, 'г. п. Ягодный ХМАО-Югра': 1, 'г. Динская': 1, 'г. с.Топольное': 1, 'г. KZN-MSK-DXB': 1, 'г. Октябрьск': 1, 'г. Московская обл.г.Жуковский': 1, 'г. Хотьково Московская область': 1, 'г. 143420 Московская область, Красногорский район, посёлок дачного хозяйства Архангельское, д.4,кв.2': 1, 'г. с.Зимовники Ростовская область': 1, 'г. Магнитогорск Челябинской обл.': 1, 'г. Санкт-Петербурги': 1, 'г. черемшан': 1, 'г. р.п.Земетчино Пензенской области': 1, 'г. ЛО': 1, 'г. глазов': 1, 'г. Москва, доп.офис ул.Кантемировская': 1, 'г. с.Куриловка Вольский р-н Саратовская область': 1, 'г. Советская Гавань, Хабаровский край.': 1, 'г. Суругт': 1, 'г. Жуковский, Московская обл': 1, 'г. Кировская область, Верхнекамский район, п.Светлоолянск ул.Дзержинского 7-6': 1, 'г. КЕМРОВО': 1, 'г. Юбилйный': 1, 'г. САНКТ - ПЕТЕРБУРГ': 1, 'г. Горки-10': 1, 'г. Москва/Санкт Петербург': 1, 'г. cтарый оскол': 1, 'г. Курганская область': 1, 'г. пгт Яя Кемеровская область': 1, 'г. Бикин Хабаровский край': 1, 'г. Тугулым': 1, 'г. Приват24': 1, 'г. Самарская обл.': 1, 'г. москва, г.троицк': 1, 'г. МО г.Королев': 1, 'г. зеленогрск': 1, 'г. МО Балашиха': 1, 'г. г. Нижнеудинск': 1, 'г. Сергиев Посад-7': 1, 'г. салехард': 1, 'г. Ровно': 1, 'г. Ставропоь': 1, 'г. г. Рубцовск,  Алтайский край': 1, 'г. мыски': 1, 'г. РТ Бавлы': 1, 'г. Александровск-Сахалинский': 1, 'г. Верхошижемье': 1, 'г. красный кут': 1, 'г. НСО г.Куйбышев': 1, 'г. Ногинск,Московской обл.': 1, 'г. Каменка, Пензенской обл.': 1, 'г. Саратовская обл., Вольский р-н, с.Куриловка': 1, 'г. Юрюзань': 1, 'г. Башкортостан, Хайбуллинский район, село Байгускарово': 1, 'г. Радужный (Владимирская область)': 1, 'г. Санкт!Петербург': 1, 'г. Биробиджжан': 1, 'г. планета земля': 1, 'г. Шахтерск, Сахалинская область': 1, 'г. Роттердам': 1, 'г. г.Калач Воронежская область': 1, 'г. Костромская обл.,г.Мантурово': 1, 'г. Нижняя тура': 1, 'г. санкт -петербург': 1, 'г. с. Величаевское': 1, 'г. дедовск': 1, 'г. Тульская область п. Заокский': 1, 'г. г. Красногорск, МО': 1, 'г. энгельс саратовской обл': 1, 'г. Московская область г.Королёв': 1, 'г. Московская область,г.Котельники': 1, 'г. Заречный, Пензенской обл.': 1, 'г. Дзержинск, Нижегородской обл.': 1, 'г. Екатеринбург/Волгодонск': 1, 'г. п.Новосергиевка': 1, 'г. Оребург': 1, 'г. Санкт-Gtnth,ehu': 1, 'г. Железногорск Красноярский край': 1, 'г. Копейск,Челябинская область': 1, 'г. Макарьев': 1, 'г. НАБЕРЕЖНЫЕ ЧЕЛНЫ': 1, 'г. каменск-щахтинский': 1, 'г. Санкт-Пебербург': 1, 'г. Республика Башкортостан г.Уфа': 1, 'г. г.Подпорожье Ленинградской обл.': 1, 'г. ст.Октябрьская': 1, 'г. АНАПА': 1, 'г. Завитинск': 1, 'г. сАНКТ пЕТЕРБУРГ': 1, 'г. онохой': 1, 'г. Озёры': 1, 'г. Екатеринбург, Серов': 1, 'г. Хакасия п.Колодезный': 1, 'г. Каменск-Шахтинский мик.Заводской': 1, 'г. Томская область, гор. Северск': 1, 'г. Безенчук (Самарская область)': 1, 'г. Вологда-Вильнюс': 1, 'г. Сосновский': 1, 'г. Самара, Октябрьский район': 1, 'г. Тамбов п.Строитель': 1, 'г. Москва и СПб': 1, 'г. Дзержинский МО': 1, 'г. георгиевск': 1, 'г. Московская область, пгт Селятино': 1, 'г. г .Чебоксары': 1, 'г. д/х Жуковка': 1, 'г. Калининрад': 1, 'г. Шали': 1, 'г. пгт. Малаховка': 1, 'г. Мещовск': 1, 'г. Щелково М.О.': 1, 'г. Ульяновская область г. Димитровград': 1, 'г. г. Орел': 1, 'г. СПб Пушкин': 1, 'г. пос.мостовской': 1, 'г. Санкт-Пептекрбург': 1, 'г. Красноярский край, г. Железногорск': 1, 'г. П. Рефтинский г. Асбеста Свердловской области': 1, 'г. Чугунаш': 1, 'г. село Старая Полтавка': 1, 'г. Кинешма Ивановской обл.': 1, 'г. Красногорск, Красногорский район': 1, 'г. с.Протасово, Озерского р-на Мос.обл': 1, 'г. Бобров': 1, 'г. Воронежская обл., г. Семилуки': 1, 'г. г.химки': 1, 'г. Московская обл.,г.Лобня': 1, 'г. Новокузнецк, Бардина 2': 1, 'г. Москва, Фрязино': 1, 'г. Москва-Белгород': 1, 'г. Большаково (Калининградская область)': 1, 'г. Нижний Уфалей': 1, 'г. Ангарск,Иркутской обл.': 1, 'г. Альмтеьевск': 1, 'г. лесосибирск': 1, 'г. одесса': 1, 'г. ПЫТЬ-ЯХ': 1, 'г. Яранск, Кировская область': 1, 'г. г.Иркутск': 1, 'г. Междуреченск Кемеровская обл': 1, 'г. Вносил деньги в Санкт-Петербурге, проживаю в Нижнем Новгороде': 1, 'г. Заринск Алтайского края': 1, 'г. Минск, Беларусь': 1, 'г. С-Петербург, г.Красное Село': 1, 'г. мо г железнодорожный': 1, 'г. Королёв.': 1, 'г. Флоренция': 1, 'г. новокузнецк кемеровская область': 1, 'г. пгт Усть-Абакан': 1, 'г. п. Свободный': 1, 'г. Ростов-на_Дону': 1, 'г. Комсомольск -на- Амуре': 1, 'г. Санк_Петербург': 1, 'г. Сергиев Посад МО': 1, 'г. п. Лесной': 1, 'г. Барселона': 1, 'г. Рязанская область, р.п. Ухолово': 1, 'г. Белая Калитва Ростовская область': 1, 'г. Новочеркасск, Ростовская область': 1, 'г. Курск-Орел': 1, 'г. малоярославец': 1, 'г. Иркутс': 1, 'г. Рязынь': 1, 'г. г.москва г.щербинка': 1, 'г. Нижегород.обл': 1, 'г. Волжск-Казань': 1, 'г. екатеринург': 1, 'г. Московская область, Подольский район, поселок Львовский': 1, 'г. Лен. област': 1, 'г. Нижегородская обл., г. Выкса': 1, 'г. Эльбан, Хабаровского края': 1, 'г. Николаевск, Волгоградской области': 1, 'г. Подольск Моск. обл': 1, 'г. Авсюнино': 1, 'г. Иркуск': 1, 'г. поселок Зверосовхоз': 1, 'г. Толльятти': 1, 'г. Вязьма, Смоленская область': 1, 'г. с.Головино, Шарьинский р-н,Костромская область': 1, 'г. Ммосква': 1, 'г. МОРШАНСК': 1, 'г. Всеволожск, Ленинградская область': 1, 'г. Обнинск Калужской области': 1, 'г. г. Узловая, Тульская бласть': 1, 'г. Уфв': 1, 'г. п. Селятино': 1, 'г. Тобольск, Тюменская область': 1, 'г. Москва,отделение Краснопресненское': 1, 'г. Электросталь, Московская обл.': 1, 'г. г. Ковров': 1, 'г. с.Варна': 1, 'г. Гатчина, Лен. обл.': 1, 'г. Калининградская область': 1, 'г. хантны-мансийск': 1, 'г. ВЛАДИКАВКАЗ': 1, 'г. собинка': 1, 'г. Артем, Приморский край': 1, 'г. Дрезна': 1, 'г. Красногорск М.О.': 1, 'г. Усть-Качка': 1, 'г. Фролово Волгоградская область': 1, 'г. Оренбургская область г.Гай': 1, 'г. МО, Раменское': 1, 'г. Приморский край, г.Спасск-Дальний': 1, 'г. Москва и  Железнодорожный': 1, 'г. ИВАНТЕЕВКА МОСК.ОБЛ.': 1, 'г. г. Старый Оскол, Белгородская обл.': 1, 'г. СПб, Колпино': 1, 'г. Бор Нижегородской обл': 1, 'г. СНГ': 1, 'г. Советская гавань': 1, 'г. р-н Кайеркан': 1, 'г. Илеза': 1, 'г. Поселок': 1, 'г. харабали': 1, 'г. Московская обл, Шаховской р-н, Ивашково': 1, 'г. перевоз': 1, 'г. Щелковский район': 1, 'г. адлер': 1, 'г. россия': 1, 'г. Goa, Индия': 1, 'г. Володарск': 1, 'г. Владимиркая область': 1, 'г. г.нижний новгород': 1, 'г. г. Калачинск': 1, 'г. Россия, Ростов на Дону Филиппины Эль Нидо': 1, 'г. оренбургская обл. п.акбулак': 1, 'г. элиста': 1, 'г. г.Балашиха': 1, 'г. Владик': 1, 'г. Тамбов, на данный момент живу в Москве': 1, 'г. Усть-Лабинск, Краснодарского края.': 1, 'г. Ванкувер': 1, 'г. Калининград обл . г. Светлый': 1, 'г. Курагн': 1, 'г. Магнитогорс': 1, 'г. Dmitrov': 1, 'г. Чехов-7 Московской области': 1, 'г. Сараитовская обл. г.Красноармейск': 1, 'г. Советская Гавань, Хабаровский край': 1, 'г. Балтимор': 1, 'г. ПСКОВ': 1, 'г. Москву': 1, 'г. Луганск': 1, 'г. Челябинк': 1, 'г. Братислава': 1, 'г. Ишим , Тюменская область': 1, 'г. Ротов-на-Дону': 1, 'г. Карпищево': 1, 'г. UFA': 1, 'г. Воронежская обл., р.п. Хохольский': 1, 'г. Березники, Пермский край': 1, 'г. с.Криводановка Новосибирской области': 1, 'г. д Карловка (новгородская обл)': 1, 'г. Москва и Лобня': 1, 'г. Moscow -- New York': 1, 'г. п.Кузьмоловский': 1, 'г. .......': 1, 'г. Талдомский р-он. пгт Запрудня': 1, 'г. Волхов Лен.обл': 1, 'г. Челябинская обл. Сосновский район п. Рощино': 1, 'г. Санкт-Петеpбуг': 1, 'г. п. Заветы Ильича Совгаванский р-н': 1, 'г. станица Кущевская, Краснодарский край': 1, 'г. Озерск (Челябинская область)': 1, 'г. р.п. Емельяново, Красноярский край': 1, 'г. Восяхово, ЯМАЛ': 1, 'г. Казань, Россия': 1, 'г. с.Анучино': 1, 'г. с.Кочубеевское': 1, 'г. п.СТ.Малукса': 1, 'г. село Безопасное': 1, 'г. Рыбинск Ярославская обл': 1, 'г. Димитровград , 433502': 1, 'г. хабаровский край .посёлок солнечный': 1, 'г. Очер, Пермский край': 1, 'г. Ростовская обл., г. Аксай': 1, 'г. Колыма': 1, 'г. г. Ростов-на-дону': 1, 'г. Где взят кредит Одинцово': 1, 'г. с.Берёзово': 1, 'г. Прокопьевск кемеровская обл.': 1, 'г. ММосква': 1, 'г. 140051, МО, Люберецкий район, Красково': 1, 'г. с.Аскарово, Абзелиловский район': 1, 'г. Коломна Моск.обл.': 1, 'г. Карабаш': 1, 'г. с. Хурба-2': 1, 'г. Заречный. Свердловская область': 1, 'г. ТЮКАЛИНСК': 1, 'г. г.Сургут': 1, 'г. Сафоново, Смоленская область': 1, 'г. Воронеж обл.': 1, 'г. Кунрган': 1, 'г. г.Благовещенск': 1, 'г. белово': 1, 'г. Клин МО': 1, 'г. Свердл. обл.': 1, 'г. Отрадное, Ленинградская область,  Кировский район': 1, 'г. ОРЁЛ': 1, 'г. Москва и Петербург': 1, 'г. п.Михайловка, Черемховский район': 1, 'г. Электросталь Московской области': 1, 'г. одинцово. моск обл.': 1, 'г. Гатчина, Ленинградской области': 1, 'г. Мурманская обл. г.Североморск': 1, 'г. Североморск Мурманская обл.': 1, 'г. Октябрьская': 1, 'г. Суровикино, Волгоградской области': 1, 'г. Железногорск (красноярского края)': 1, 'г. Республика Мордовия г. Саранск': 1, 'г. Белорецке': 1, 'г. Новомосковск Тульская область': 1, 'г. г.Рыбинск': 1, 'г. новодвинск архангельская область': 1, 'г. Нефтеюганск.': 1, 'г. Кушкин': 1, 'г. Волгоградская область': 1, 'г. Абзелиловский р-н, с.Аскарово': 1, 'г. Жалоба на Альфа-Банк': 1, 'г. Крымск, Краснодарский край': 1, 'г. станица Северская': 1, 'г. г.Кингисепп': 1, 'г. Москва-Калуга': 1, 'г. Котолас': 1, 'г. Свирица': 1, 'г. Знаменск Астраханская обл.': 1, 'г. Восяхово': 1, 'г. г Стерлитамак': 1, 'г. п.Усть-нера': 1, 'г. ПОДПОРОЖЬЕ': 1, 'г. Москва-Санкт-петербург': 1, 'г. Ё-бург': 1, 'г. Р.П. ЛИНЕВО': 1, 'г. Одессе': 1, 'г. Москва/Люберцы': 1, 'г. Saratov': 1, 'г. Черногорск республика Хакасия': 1, 'г. Рубцоск': 1, 'г. Называевск': 1, 'г. Осташков': 1, 'г. Черемхово Иркутской области': 1, 'г. Новокосино': 1, 'г. Краснодар\\\\Москва': 1, 'г. г. Тверь': 1, 'г. ВОЛГОДОНСК': 1, 'г. Житомир': 1, 'г. Красногорск Московская обл.': 1, 'г. Севск': 1, 'г. усолье-сибирское': 1, 'г. Екатеринбург-Дубай.': 1, 'г. с. Манилы': 1, 'г. Ленинск-Кузнецкий, Кемеровская область': 1, 'г. Москва ,\"Перово\"': 1, 'г. Урус-Мартан': 1, 'г. Краснодарский край, Тбилисский р-он, пос. Октябрьский': 1, 'г. САнкт-Петербург': 1, 'г. Сухаревск': 1, 'г. Ермолино, Калужской области': 1, 'г. пгт. оричи кировской области': 1, 'г. Дмитров, Московской области': 1, 'г. г.Самара': 1, 'г. 112422': 1, 'г. Нижегородская область, город Кстово': 1, 'г. Пионерский Калининградская область': 1, 'г. г. Сатка': 1, 'г. с,Юмагузино': 1, 'г. Белгоро': 1, 'г. Московская область, город Пушкино': 1, 'г. Мурманскй': 1, 'г. Москва, м.Новослободская': 1, 'г. г.Советская Гавань': 1, 'г. заречный пензенской области': 1, 'г. 636930, Томская обл., Первомайский р-н, с. Первомайское, ул. Советская, 11-4': 1, 'г. Москва, Уфа': 1, 'г. Правдинский Пушкинский район Московская область': 1, 'г. г.Ногинск': 1, 'г. ст. Алексеевская': 1, 'г. Волосово': 1, 'г. Благовещенск (Амурская обл.),': 1, 'г. Балашиха и Реутов': 1, 'г. санк-петерберг': 1, 'г. Миньяр': 1, 'г. Красноярский филиал': 1, 'г. г. Новокузнецк  Кемеровской': 1, 'г. Бендеры': 1, 'г. Оренбургская область, п.г.т. Светлый': 1, 'г. Каменск-Уральский Свердловской обл.': 1, 'г. Апатиты, Мурманская обл.': 1, 'г. Красноярский край Туруханский район п.Бор': 1, 'г. Хедмарк': 1, 'г. Ковров, Владимирская область': 1, 'г. Средняя Ахтуба': 1, 'г. Смоленск-СПБ-Москва': 1, 'г. Московская область, г. Красногорск': 1, 'г. Московская область , г.Балашиха': 1, 'г. г.Ульяновск': 1, 'г. Сызрань, Самарская область': 1, 'г. Канск  Красноярский край': 1, 'г. Малые Вяземы': 1, 'г. Кисловодск тогда': 1, 'г. Дмитров, Мос. обл.': 1, 'г. М.О., Г. ПОДОЛЬСК': 1, 'г. Москва-Кемерово-Бангкок-Дели-...': 1, 'г. п. Шолоховский': 1, 'г. АЛЕКСАНДРОВ': 1, 'г. г.Троицк, Москвовской обл.': 1, 'г. Конаково Тверская область': 1, 'г. СПб и Москва': 1, 'г. Ванино Хабаровский край': 1, 'г. Пушкино М О': 1, 'г. Ярославль,Рыбинск': 1, 'г. киев': 1, 'г. макеевка': 1, 'г. новосибирская область г бердск': 1, 'г. Королев (Московской области)': 1, 'г. Саект-Петербург': 1, 'г. не зависит от города': 1, 'г. пос. Шишкин лес': 1, 'г. Солонешное': 1, 'г. москва-СПб': 1, 'г. Супино': 1, 'г. Безенчук': 1, 'г. Тарногский Городок': 1, 'г. Санкт-Петер6ург': 1, 'г. г Коркино Челябинской обл': 1, 'г. Всеволожск Лен.обл.': 1, 'г. г. Иркутск': 1, 'г. Ванинский район Хабаровский край': 1, 'г. Новороссийск Краснодарского края': 1, 'г. Ульяновская область, р.п. Чердаклы': 1, 'г. Томска': 1, 'г. Ванинский район Хабаровский ккай': 1, 'г. тогучин': 1, 'г. Светлогорск Калининградская область': 1, 'г. Нижний Новгород г. Бор': 1, 'г. Ковдор, Мурманской области': 1, 'г. Станица Кущевская': 1, 'г. Йошкар -Ола': 1, 'г. Новочеркасск Ростовской области': 1, 'г. г.Н.Новгород': 1, 'г. Липецкая обл., г. Липецк': 1, 'г. Иркутская область, пос. Чунский': 1, 'г. МО, Городок 17': 1, 'г. омская обл. исилькуль': 1, 'г. Королёв, МО': 1, 'г. г.Белоярский': 1, 'г. Забайкальский край г.Чита': 1, 'г. Сан-франциско': 1, 'г. Кжфвдлоажфы': 1, 'г. п.Добринка Липецкой области': 1, 'г. Лен.обл. Всеволожский р-н, д. Новое Девяткино': 1, 'г. Благовещенск, Амурская обл.': 1, 'г. Новосбирск': 1, 'г. с. агинское красноярский край': 1, 'г. Ростовская обл, г. Волгодонск': 1, 'г. Екатнринбург': 1, 'г. Омская область, Шербакульский район, с Борисовское, ул. 60 лет Совхоза 18 А': 1, 'г. Приморский край, город Находка': 1, 'г. г. Кашира': 1, 'г. Химки,Моск.обл': 1, 'г. п.Шимск': 1, 'г. ужур красноярский край': 1, 'г. Cаранск': 1, 'г. Павлово,Нижегородская область': 1, 'г. Чишмы': 1, 'г. Ростов Ярославской обл.': 1, 'г. Киргиз-Мияки': 1, 'г. Клин, Московская обл': 1, 'г. Трёхгорный': 1, 'г. Солнечногорк': 1, 'г. Тюменский район': 1, 'г. Северобайкальск': 1, 'г. Ачинск, Красноярск, Козулька': 1, 'г. воскресенк': 1, 'г. Иркутск-Хайфа': 1, 'г. п. Февральск': 1, 'г. Усинск КОМИ': 1, 'г. московская обл., Наро-Фоминский р-н, пос. Калининец': 1, 'г. город Пермь': 1, 'г. Кузьмичи': 1, 'г. Магаданская обл., п.Сеймчан': 1, 'г. бугульма': 1, 'г. Гороховец Владимирской обл': 1, 'г. Южно-сухокумск': 1, 'г. Республика Башкортостан,Зилаирский р-н,с.Матраево': 1, 'г. МАЙКОП': 1, 'г. Джалиль': 1, 'г. Лимасол': 1, 'г. Щелково Московской обл.': 1, 'г. алдан': 1, 'г. станица Ессентукская, Ставропольский край': 1, 'г. Рига': 1, 'г. Лиски Воронежской области': 1, 'г. с.Софьино': 1, 'г. Казань офис на ул.Московской': 1, 'г. Краснодарский край ст Каневская': 1, 'г. г.Лангепас': 1, 'г. кирово-чепецк': 1, 'г. Бор Нижегородской области': 1, 'г. Сиэтл': 1, 'г. МО, Раеснкий р-н, пос. Дружба': 1, 'г. Королев М.О.': 1, 'г. Красногорск Московская область': 1, 'г. Волоградская обл., г. Волжский': 1, 'г. Ленинский р-н, Московский с.о., дер. Картмазово (Киевское шоссе, 4 км от МКАД)': 1, 'г. Москева': 1, 'г. п.Навля, Брянской области': 1, 'г. Москва Московская область': 1, 'г. Орел, Москва': 1, 'г. Москва Митино': 1, 'г. Астраханская область, г Нариманов': 1, 'г. новгород': 1, 'г. Zhukovsky': 1, 'г. г. Нолинск': 1, 'г. г.Урай Ханты-Мансийский Автономный округ': 1, 'г. удомля': 1, 'г. Кпасноярск': 1, 'г. Нижний Новгород, ул.Варварская': 1, 'г. село Иглино': 1, 'г. ленинг.обл.приоз.р-н п. сосново': 1, 'г. Ленинградская обл.': 1, 'г. Спасск-Рязанский': 1, 'г. Пермь - Москва': 1, 'г. Владикавказ-Москва': 1, 'г. Александров Владимирской области': 1, 'г. Питербург': 1, 'г. г.Стерлитамак': 1, 'г. Ивантеевка М.О.': 1, 'г. Ожерелье': 1, 'г. Денис': 1, 'г. Ивановская обл,г. Шуя': 1, 'г. Открытие': 1, 'г. Московская область Ленинский район Посёлок Развилка': 1, 'г. Раменкое': 1, 'г. Н.Челны': 1, 'г. г. Юбилейный': 1, 'г. Минводы': 1, 'г. КОРОЛЕВ': 1, 'г. Подмосковья': 1, 'г. М.О. Одинцовский район': 1, 'г. Амурская область Архара': 1, 'г. Тюмень - Москва': 1, 'г. Г.Нижний новгород': 1, 'г. Первомайский Забайкальский край': 1, 'г. ПГТ Львовский': 1, 'г. станица Советская': 1, 'г. Самара-Москва': 1, 'г. МО,г.Подольск': 1, 'г. Юбилейный Московской обл': 1, 'г. Красноряск': 1, 'г. Коломна Московская обасть': 1, 'г. СПб,Крестьянский пер.,д.5': 1, 'г. Братск Иркутской обл.': 1, 'г. БОРИСОВКА': 1, 'г. Сибай, Уфа': 1, 'г. пос. Ватутинки Московской области': 1, 'г. Остров Псковская область': 1, 'г. г. Кашин, Тверская область': 1, 'г. козловка': 1, 'г. М.О. п Шишкин Лес, Подольский р-н': 1, 'г. с.Бижбуляк': 1, 'г. г.Улан-Удэ': 1, 'г. Индия': 1, 'г. Мураши': 1, 'г. КРЫМСК': 1, 'г. г. Троицк М.О,': 1, 'г. Россия, Южный ФО, Астраханская обл., Астрахань': 1, 'г. МО г. Троицк': 1, 'г. Магнитогосрк': 1, 'г. Онохой': 1, 'г. Шиханы': 1, 'г. Чехов М.О': 1, 'г. азов': 1, 'г. Ростовская обл.Орловский район,Пос.Красноармейский,пер.Красноармейский д.52': 1, 'г. п.Комсомольский': 1, 'г. г. Саратов': 1, 'г. Усолье-сибисркое': 1, 'г. р/п Татищево': 1, 'г. Лобня МО': 1, 'г. п.Ванино': 1, 'г. Москва, Серафимович и Михайловка волгоградской обл': 1, 'г. МО Электросталь': 1, 'г. посёлок Одоев': 1, 'г. п.Лазаревское': 1, 'г. Санкт-Петернбург': 1, 'г. сухой лог,свердловская область': 1, 'г. Покровское': 1, 'г. Краснодарский край,п.Мостовской': 1, 'г. п.Хотилово-2': 1, 'г. Венгрия, но пишу по поводу г.Воронежа': 1, 'г. смоленская обл., г.десногорск': 1, 'г. г. Юрга Кемеровкой обл.': 1, 'г. р.п. Таловая, Воронежской области': 1, 'г. Мензелинск': 1, 'г. Горки-25 Дмитровский район': 1, 'г. п.Зимовники ростовской области': 1, 'г. Москва ул Воронцовская д.4 стр.1': 1, 'г. поронайск': 1, 'г. п. Монино Московской области': 1, 'г. М.О., пос. Ильинский': 1, 'г. МАГНИТОГОРСК': 1, 'г. Краснодр': 1, 'г. М.О.Ленинский район.п.Ватутинки': 1, 'г. с.Камень-Рыболов': 1, 'г. Озерск, Челябинская область': 1, 'г. ливны': 1, 'г. Котово, Волгоградская область': 1, 'г. Истра Московской области': 1, 'г. Шарья Костромской области': 1, 'г. Санкт-Петербрург': 1, 'г. САНТК-ПЕТЕРБУРГ': 1, 'г. р.п. Излучинск, Нижневартовского района, ХМАО': 1, 'г. г.Белгород': 1, 'г. Георгиевск, Ставропольский край': 1, 'г. хут. Старая Станица': 1, 'г. Гусев,Калининградская область': 1, 'г. Moscow, Russia': 1, 'г. г.Северск,Томская обл.': 1, 'г. Тагил': 1, 'г. г. Электросталь': 1, 'г. Саратов, Волжский': 1, 'г. Моск. обл.': 1, 'г. пос Красково': 1, 'г. тихорецк': 1, 'г. Донецк, Украина': 1, 'г. д. Деревеньки': 1, 'г. богородицк тульская область': 1, 'г. Омутинское': 1, 'г. Одинцово(ВНИИССОК)': 1, 'г. Тобольск Тюменская область': 1, 'г. нижняя салда': 1, 'г. 21000, China, Jiangsu province, Nanjing': 1, 'г. Солнечногороск': 1, 'г. п. Ванино Хабаровский край': 1, 'г. Екат-г': 1, 'г. Свердловская обл рп Пышма': 1, 'г. Альметьевск РТ': 1, 'г. г.Касимов Рязанской области': 1, 'г. Асрахань': 1, 'г. Московская обл. п. Удельная': 1, 'г. Сергиев- Посад': 1, 'г. Москва, Московская область': 1, 'г. Мурманская область г.Кола': 1, 'г. Дюберцы': 1, 'г. Боьлшой Камень': 1, 'г. усолье сибирское': 1, 'г. Ростов-на-Дрну': 1, 'г. Калач Воронежской области': 1, 'г. Москва, г.Зеленоград.': 1, 'г. город Северск': 1, 'г. Набежные Челны': 1, 'г. Эссойла': 1, 'г. Ростовская обл., Неклиновский р-н, с. Фёдоровка': 1, 'г. Ульяновская обл': 1, 'г. Морозовск,Ростовская обл.': 1, 'г. Пензенская об пгт Тамала': 1, 'г. Химки, Моск.обл.': 1, 'г. красавино': 1, 'г. Санкт-Петербург,ул.Марата': 1, 'г. Чернушка, Пермский край': 1, 'г. Набережные Челны.п.Нефтебаза': 1, 'г. Курская область,Пристенский район ПГТ Пристень': 1, 'г. Магнитогорск, Челябинской области': 1, 'г. г.Орехово_зуево': 1, 'г. Сысерть, Свердловская обл.': 1, 'г. г. Холмск': 1, 'г. НОРИЛЬСК': 1, 'г. Энгельс Саратовская обл.': 1, 'г. г.Пушкино': 1, 'г. кыштым': 1, 'г. Краяноярск': 1, 'г. москва и мо': 1, 'г. Забайкальский край пгт.Новокручининский': 1, 'г. Португалия': 1, 'г. Московская область, пгт. Тучково': 1, 'г. Родники, Ивановской области': 1, 'г. Клин.Московской области': 1, 'г. г. Копейск Челибинская обл.': 1, 'г. Дмитров Московской Области': 1, 'г. Арамиль-Екатеринбург': 1, 'г. пгт. Редкино': 1, 'г. пос.Развилка Московская обл.': 1, 'г. п. Емельяново': 1, 'г. Абинский район поселок Ахтырский': 1, 'г. г. Самара': 1, 'г. Гомель': 1, 'г. краснокамск': 1, 'г. Минеральные Воды Ставропольский край': 1, 'г. Мурм. обл.': 1, 'г. г.Вышний Волочёк(Тверская обл.)': 1, 'г. БОРЗЯ': 1, 'г. Покровск Саха (Якутия)': 1, 'г. р.п. Сузун': 1, 'г. Железнодорожный МО': 1, 'г. Непонятно': 1, 'г. Раменское, Московская обл.': 1, 'г. МО, Люберцы': 1, 'г. Саратовская область г.Вольск': 1, 'г. с. Белая Глина': 1, 'г. Санкт-Петербург, Россия': 1, 'г. Луза': 1, 'г. г.Саяногорск': 1, 'г. Чапаевск, Самарской обл.': 1, 'г. г. Алексеевка Белгородская область': 1, 'г. п.Кузьмоловский, Ленинградская обл.': 1, 'г. Олинцово': 1, 'г. Ст.-Петербург': 1, 'г. Новосибирск, Кольцово': 1, 'г. Алексеевка,Белгородская область': 1, 'г. Троицко-Печорск': 1, 'г. М.О Город Домодедово': 1, 'г. старый оскол белгородской области': 1, 'г. Ленинградская, Краснодарский край': 1, 'г. Ломоносов': 1, 'г. Похвистнево Самарской области': 1, 'г. г. Отрадное, Ленинградская область, Кировский р-н': 1, 'г. Ставропольский край, Туркменский район, с. Летняя Ставка': 1, 'г. Kurgan': 1, 'г. Тульская область г Богородицк': 1, 'г. Тюменская обл. с. Викулово': 1, 'г. Зеленоградск': 1, 'г. Заозёрный Красноярского края': 1, 'г. Дзержинск,Нижегородской': 1, 'г. Шиханы, Саратовской области': 1, 'г. агроном': 1, 'г. г. Светлый Калининградской области': 1, 'г. Чеховский район, п. Любучаны': 1, 'г. Смоленская область г Сафоново': 1, 'г. 1Ёсаратов': 1, 'г. Королев Московской области': 1, 'г. новомосковск тульской области': 1, 'г. с.Алабушево Солнечногрский р-он. М.О.': 1, 'г. Сергиев-посад': 1, 'г. Милан': 1, 'г. СПб, Пушкин': 1, 'г. Чебоксары Чувашской Республики': 1, 'г. Росто-на-Дону': 1, 'г. Требует уточнения у пользователя': 1, 'г. пос.Фряново': 1, 'г. Великие Луки Псковской области': 1, 'г. Бушер Исламская Республика Иран': 1, 'г. Московская облость': 1, 'г. Емва': 1, 'г. Армавир Краснодарский': 1, 'г. г. Кодинск': 1, 'г. камызякский р-он с каралат': 1, 'г. Р. Коми , г. Воркута': 1, 'г. Куала-Лумпур': 1, 'г. Москва - Черноголовка': 1, 'г. город иваново': 1, 'г. п.Ровеньки': 1, 'г. Тюменская область, с. Викулово': 1, 'г. п. Власиха': 1, 'г. мос. обл.г.Клин': 1, 'г. Сакт - Петербург': 1, 'г. Санкт Петергбург': 1, 'г. Niznevartovsk': 1, 'г. Rotherham': 1, 'г. Санкт-Петерберг': 1, 'г. Выборг, Ленинградской области': 1, 'г. Троицк Челябинская область': 1, 'г. каменск-уральский свердл.обл.': 1, 'г. Калининград, Калининградская область': 1, 'г. Йошкар-Ола, настоящее время:Италия': 1, 'г. Сургут,ХМАО': 1, 'г. Протвино Моск. обл.': 1, 'г. 112': 1, 'г. п. Угольные Копи Чукотского АО': 1, 'г. Монреаль': 1, 'г. Ряжск': 1, 'г. Сочи, Москва': 1, 'г. Химки, МО': 1, 'г. НЕФТЕКУМСК': 1, 'г. Боровичи Новгородской области': 1, 'г. Московская область г. Красногорск': 1, 'г. Хошиарпур': 1, 'г. с. Сакмара': 1, 'г. Погар, Брянская обл.': 1, 'г. г.Барнаул': 1, 'г. Мучкап(в начале), теперь Москва': 1, 'г. п.Заветы Ильича Совгаванский р-он, Хабаровский край': 1, 'г. Югорск, ХМАО-Югра, Тюменской области': 1, 'г. Волгодонской район, х. Погожев': 1, 'г. Забайкальский край, Читинский район, пгт Новокручининский': 1, 'г. Ревда, свердл.обл': 1, 'г. ГП Октябрьский': 1, 'г. Краснодарский край,город Хадыженск': 1, 'г. Московская обл. пос.Калининец': 1, 'г. с. Песчанокопское': 1, 'г. Железногорск Красноярский кр-й': 1, 'г. Черкассы': 1, 'г. Соликаск': 1, 'г. Москва - Балашиха': 1, 'г. Москва- Балашиха- Кемерово, Юрга': 1, 'г. Асбест Свердловской области': 1, 'г. димитровград': 1, 'г. Белгорад': 1, 'г. Троицк Моск. обл.': 1, 'г. Омская область,р.п.Большеречье': 1, 'г. В/ч 32516': 1, 'г. Ростов-н/Д': 1, 'г. Нижегородская обл., г. Бор': 1, 'г. Черкесску': 1, 'г. Оренбург/Индия': 1, 'г. Чеховский р-он': 1, 'г. Московская обл. г.Истра': 1, 'г. Онгудай': 1, 'г. Сергиев Посад-6': 1, 'г. Западная Двина': 1, 'г. г.Вогодонск': 1, 'г. Мо': 1, 'г. Новомосковск (город открытия карты)': 1, 'г. Нерезиновая': 1, 'г. ВЫБОРГ': 1, 'г. Братск Иркутской обл': 1, 'г. бердск': 1, 'г. Р.П.Воскресенское': 1, 'г. Г.Апатиты Мурманской обл.': 1, 'г. пгт Комсомольский': 1, 'г. МО, Г. Истра': 1, 'г. Чеховский р-н': 1, 'г. moskva': 1, 'г. пос.Калининец Московская обл. Наро-Фоминский р-н': 1, 'г. Москваа': 1, 'г. г. Бугульма': 1, 'г. Нолинск Кировская область': 1, 'г. Юосква': 1, 'г. Дубай': 1, 'г. КБР г. Нальчик': 1, 'г. Аша Челябинская обл.': 1, 'г. Ростов-на-Дону г.': 1, 'г. Бордо': 1, 'г. Сосновый бор': 1, 'г. Пушкино Моск. области': 1, 'г. Тамань': 1, 'г. Коломна, Московская область': 1, 'г. егорьевск': 1, 'г. Нижегородская обл, пгт Решетиха': 1, 'г. Ивановская область, г.Вичуга': 1, 'г. г.Вичуга Ивановской обл.': 1, 'г. Архипо-Осиповка': 1, 'г. Мос.область': 1, 'г. ВОТКИНСК': 1, 'г. красноярский край город канск': 1, 'г. канаш': 1, 'г. г.Щелково': 1, 'г. с. Александровское': 1, 'г. г/о Химки, Московская обл.': 1, 'г. котельники': 1, 'г. \\\\бобруйск :)': 1, 'г. санкт0петербург': 1, 'г. Жуковский М.О.': 1, 'г. москва одинцово': 1, 'г. Рубцовск,Алтайский край': 1, 'г. Азов, Ростовская область': 1, 'г. Новоросийск': 1, 'г. пос. Высокий': 1, 'г. Вооронеж': 1, 'г. г.Арамиль, Свердловская область': 1, 'г. Беезовский': 1, 'г. Стерлитмак': 1, 'г. ЙОШКАР-ОЛА': 1, 'г. п.Малаховка': 1, 'г. г. Волгодонск': 1, 'г. Москва - Кондрово': 1, 'г. Татарстан, ЗЕЛЕНОДОЛЬСК': 1, 'г. новочебоксарск': 1, 'г. г. Киров, Кировская область': 1, 'г. Москва / Мытищи': 1, 'г. с. Пашково': 1, 'г. Москва, Реутов': 1, 'г. Москвв': 1, 'г. Троицк, Московская область': 1, 'г. Podolsk': 1, 'г. Столица- Москва': 1, 'г. бузулук': 1, 'г. Москва\\\\Днепропетровск': 1, 'г. Озерск Челябинская область': 1, 'г. Полярные зори': 1, 'г. Планета Земля': 1, 'г. ХЗ': 1, 'г. Москва - Астрахань': 1, 'г. Москва-Бузулук': 1, 'г. Московская область, звездный городок': 1, 'г. Крансодар': 1, 'г. Сосновобоск': 1, 'г. Спб гор Пушкин': 1, 'г. Елабуга, РТ': 1, 'г. N-ск': 1, 'г. Куала Лумпур': 1, 'г. Терек': 1, 'г. г. Кингисепп': 1, 'г. г.Чита, Забайкальский край': 1, 'г. Наушки': 1, 'г. Ставропольский кр. г. Ипатово': 1, 'г. Руза Московская область': 1, 'г. Ставропольский край, с.Овощи': 1, 'г. Келози': 1, 'г. Черновцы': 1, 'г. Москва-Кострома': 1, 'г. алапаевск': 1, 'г. Cанкт -Петербург': 1, 'г. г.Тверь': 1, 'г. г. Волжский Волгоградской обл.': 1, 'г. Чулково': 1, 'г. г.Отрадный': 1, 'г. СПб г.Пушкин': 1, 'г. Тавда Свердловской области': 1, 'г. Сысерть Свердловская область': 1, 'г. г. Мирный, Республика Саха/ Якутия': 1, 'г. Мос.область. пос. Удельная': 1, 'г. Красногорск (МО)': 1, 'г. с. Мурсаликино': 1, 'г. Москва Одинцово': 1, 'г. Дзержинск Нижегородской': 1, 'г. Республика Хакасия, г. Черногорск': 1, 'г. Нижний Новгорд': 1, 'г. Уварово': 1, 'г. Кировск, Мурманской области.': 1, 'г. г. Азов': 1, 'г. Москва Зеленоград': 1, 'г. ВИЧУГА': 1, 'г. Воротынск': 1, 'г. МО, г. Котельники': 1, 'г. Минераьные Воды': 1, 'г. Санкт-Петербург г. Пушкин': 1, 'г. нягань': 1, 'г. Башкортостан, Стерлибашевский р-н, с. Куганакбаш': 1, 'г. Норильск-Красноярск': 1, 'г. г. Ахтубинск, Астраханская обл.': 1, 'г. Шелехов, Иркутская область': 1, 'г. Фрязино, Московская область': 1, 'г. п.Рефтинский': 1, 'г. Одинцово Московской обл.': 1, 'г. Кинешма Ивановская область': 1, 'г. Ленинградкая обл,г.Гатчина': 1, 'г. Белоярский, Сургут': 1, 'г. Спирово': 1, 'г. Нижегородская область город Богородск': 1, 'г. КБР': 1, 'г. п. Саган-Нур': 1, 'г. Афины': 1, 'г. с.Раевский': 1, 'г. мелеуз': 1, 'г. г. Набережные Челны': 1, 'г. ступино': 1, 'г. Озёрный': 1, 'г. Miesau': 1, 'г. Пермский край, поселок Октябрьский': 1, 'г. курская обл': 1, 'г. ЧАГОДА': 1, 'г. Новый Уренгой- Ростов н\\\\Д': 1, 'г. ТЮКАЛИНСК,ОМСКАЯ ОБЛ.': 1, 'г. г. Сысерть Свердловской обл.': 1, 'г. нарофоминск': 1, 'г. г. Лобня, Московской области': 1, 'г. Желзнодорожный': 1, 'г. Санкт-Перетбург': 1, 'г. г.Видное': 1, 'г. Spb': 1, 'г. г.Михайловск': 1, 'г. пос. Лесные поляны': 1, 'г. 111': 1, 'г. Астраханская обл,Харабалинский р-он,сТамбовка': 1, 'г. Владикавказ, РСО-А': 1, 'г. Екатеринбург, Нижний тагил': 1, 'г. Радужный Владимирской области': 1, 'г. СТ КРИВЯНСКАЯ': 1, 'г. Курская область город Курчатов': 1, 'г. Москва-Иваново': 1, 'г. г. Мурманск': 1, 'г. Академгородок': 1, 'г. Дубна, Московская область': 1, 'г. Абакан Республика Хакасия': 1, 'г. ликино-дулево': 1, 'г. Троицк Московская область': 1, 'г. п.Троицко-Печорск': 1, 'г. Приморский край п.Краскино': 1, 'г. г. Комсомольск на Амуре': 1, 'г. Ханой, Вьетнам': 1, 'г. Тольятти, Самарская обл.': 1, 'г. Назарово Красноярского края': 1, 'г. М.О. Королёв': 1, 'г. Санкт-Петербург, Пушкин, ул.Ленинградская, д.38': 1, 'г. Балаково, Саратовская область': 1, 'г. Полярный Мурманской': 1, 'г. Екатеринбург, Новоуральск': 1, 'г. Киров, Кировской обл.': 1, 'г. Париж': 1, 'г. Иваново (теперь уже телефонные разговоры с Санкт-Петербургом)': 1, 'г. Королев , М.О.': 1, 'г. Брюссель': 1, 'г. п. Усть-Нера': 1, 'г. москва Ленинградский пр-т д.15': 1, 'г. г. Сосновый Бор Ленинградской области': 1, 'г. Московская область, Наро-Фоминский район, пгт.Калининец': 1, 'г. Домодедово, М/О': 1, 'г. МО, г. Раменское': 1, 'г. Карачев': 1, 'г. п. Новогуровский': 1, 'г. г. Иваново': 1, 'г. РСО   Алания с.Октябрьское': 1, 'г. г. Иванново': 1, 'г. Рыбное,Рязанская обл.': 1, 'г. Знаменск, Астраханская область': 1, 'г. МО, Раменский р-он, с. Софьино': 1, 'г. Москва - Ростов-на-Дону': 1, 'г. Северск, Томская область': 1, 'г. Москва, г.Зеленоград': 1, 'г. Кокошкино МО': 1, 'г. Камышин, Волгоградской обл.': 1, 'г. Москва (Люберцы)': 1, 'г. Никель Мурманской': 1, 'г. п.Старый городок': 1, 'г. Красноярс': 1, 'г. Ниижний Новгород': 1, 'г. Красноярск-Уфа-Москва': 1, 'г. Башмаково Пензенской области': 1, 'г. ЗЕЛЕНОГРАДСК': 1, 'г. Орехово Зуево': 1, 'г. Мытищи, Московская обл': 1, 'г. Орел-Москва': 1, 'г. МО Жуковка': 1, 'г. пос. Октябрьский': 1, 'г. Городец, Нижегородская область': 1, 'г. Н-Новгород': 1, 'г. Новоибирск': 1, 'г. МО, Лобня': 1, 'г. Пятингорск': 1, 'г. Юбилейный, МО': 1, 'г. МО КРАСНОГОРСКИЙ РАЙОН ПОСЕЛОК НОВЫЙ': 1, 'г. Железнодорожный, ул. Почтовая, д. 8, кв. 14': 1, 'г. приозерск': 1, 'г. Белгород, Ул.Победы (Университет БГУ)': 1, 'г. Фрязино Московской области': 1, 'г. Московская область Красногорский район пос. Новый': 1, 'г. г.Дзержинск': 1, 'г. Владивосток - Санкт-Петербург': 1, 'г. Москва-Коломна': 1, 'г. оболенск': 1, 'г. Семилуки, Воронеж': 1, 'г. Красногорск Московской области': 1, 'г. город Екатеринбург': 1, 'г. Оренбургская область г. Ясный': 1, 'г. ? видимо москва или новосибирск': 1, 'г. Ростов -на -Дону': 1, 'г. с.Тербуны Липецкая область': 1, 'г. г.Пермь. Ул.Петропавловская 85.': 1, 'г. Сама уже не пойму какой': 1, 'г. С Пб': 1, 'г. Краснодар (обслуживалась в Москве)': 1, 'г. Нытва, Пермский край': 1, 'г. Табмов': 1, 'г. Химки Московской области': 1, 'г. Санкт-перебург': 1, 'г. Юкаменское': 1, 'г. Московская область, г. Одинцово': 1, 'г. масьхва': 1, 'г. каракас': 1, 'г. Якутия': 1, 'г. МО, Красногорский район, пос. Нахабино': 1, 'г. Поронайск': 1, 'г. СПб, Маскат': 1, 'г. Уйское': 1, 'г. Зеленогорск Красноярский край': 1, 'г. Стерлитамак, Республика Башкортостан': 1, 'г. Набережные Челны.': 1, 'г. п. Развилка  М.обл.': 1, 'г. г.Гатчина Ленинградской области': 1, 'г. Щелково Моск.обл.': 1, 'г. Н.НОВГОРОД': 1, 'г. Бордо, Франция': 1, 'г. Возжаевка-1': 1, 'г. Ростов н/Д': 1, 'г. 312': 1, 'г. Иркутся': 1, 'г. Калининградская обл. г. Светлый': 1, 'г. новоалтайск': 1, 'г. п. Новая Купавна': 1, 'г. Penza': 1, 'г. Санкт-етербург': 1, 'г. Дзержинк': 1, 'г. Биййск': 1, 'г. п. Орловский': 1, 'г. Новоуральск Свердловской области': 1, 'г. давлеканово': 1, 'г. Саратов, Нижний Новгород': 1, 'г. Волгодонс': 1, 'г. ст.Кумылженская': 1, 'г. Валдай,Новгородская область': 1, 'г. Московская обл г Люберцы': 1, 'г. Челябинск Плеханова 45': 1, 'г. Казань Декабристов, ценральный офис': 1, 'г. Москва Дмитров': 1, 'г. Санкт-Пектербург': 1, 'г. Аша Челябинской обл.': 1, 'г. Какое может быть расследование': 1, 'г. Н-ск': 1, 'г. Ярцево, Смоленская область': 1, 'г. Челябинская область с. Миасское': 1, 'г. история произошла в Ставрополе, я сейчас нахожусь в Обнинске': 1, 'г. Мытищи Московская область': 1, 'г. хабаровск-ростов-на-дону': 1, 'г. г. Краснознаменск.': 1, 'г. г. Люберцы': 1, 'г. Боровский': 1, 'г. Пальма де Майорка': 1, 'г. НИЖНИЙ ТАГИЛ': 1, 'г. г.Бронницы Московская обл.': 1, 'г. К сожалению...': 1, 'г. п Шушенское Красноярский край': 1, 'г. железногорск красноярского края': 1, 'г. ЗЕЛЕНОГРАД': 1, 'г. Ростов-на-Дону,Москва': 1, 'г. г.Первоуральск': 1, 'г. Красноярский край, с.Пировское': 1, 'г. Каспийск': 1, 'г. ст Брюховецкая Краснодарский край': 1, 'г. Waterbury': 1, 'г. Городовиковск Республики Калмыкия': 1, 'г. Красногорский район, г. Красногорск Подмосковный бульвар д.1': 1, 'г. с. Мужи, Ямало-Ненецкий округ': 1, 'г. курская область': 1, 'г. Московская область, г. Щербинка': 1, 'г. Ессентуки, Ставропольский край': 1, 'г. Барнаул,Алтайский край': 1, 'г. г. Северск, Томской области.': 1, 'г. г.  Железнодорожный': 1, 'г. Калужская область город Боровск': 1, 'г. п. Большересье Омская обл.': 1, 'г. Московская Обл.,Подольский р-н, мкр.Кутузово': 1, 'г. barnaul': 1, 'г. Дзержинск, нижегородская область': 1, 'г. г.Дубна, Московская обл.': 1, 'г. Тамбовская обл., г. Жердевка': 1, 'г. плесецк': 1, 'г. Ххх': 1, 'г. Верхняя-Пышма': 1, 'г. село Частые, Пермский край': 1, 'г. Конаково Тверской области': 1, 'г. ст.Выселки': 1, 'г. москва, зеленоград': 1, 'г. Химки М.О.': 1, 'г. Ростов-нв-Дону': 1, 'г. М.О, г. Юбилейный': 1, 'г. Калининград, Москва': 1, 'г. Банковск': 1, 'г. Днепропетровск Украина': 1, 'г. Москва / Санкт-Петербург': 1, 'г. Усолье- Сибирское, Санкт-Петербург': 1, 'г. поселок Большеречье': 1, 'г. Домодедово Московской области': 1, 'г. Тульская обл. Воловский р-н,, с.Непрядва, д. Мысовка': 1, 'г. Село Новые Зятцы': 1, 'г. Сакнт Петербург': 1, 'г. г. Королев, Московская обл.': 1, 'г. Оренбургская область г.Орск': 1, 'г. Моск. обл': 1, 'г. Челябинская обл. Кунашакский р-н, с. Кунашак': 1, 'г. Воскресенк': 1, 'г. с. Кожевниково Томской области': 1, 'г. г Хотьково': 1, 'г. Щёкино, Тульская область': 1, 'г. Красновишерск': 1, 'г. г .СОЛИКАМСК ПЕРМСКИЙ КРАЙ': 1, 'г. с.Солонешное': 1, 'г. г. Екатеринбург': 1, 'г. Москва, Отделение на Серпуховской': 1, 'г. Байконур': 1, 'г. Сарапул Удмуртия': 1, 'г. Щелковский р-он': 1, 'г. НИжневартовск': 1, 'г. пгт.Солнечный': 1, 'г. Миасс , Челябинская область': 1, 'г. пгт Монино': 1, 'г. п. Федоровский': 1, 'г. г.Жирновск': 1, 'г. Нерезиновск': 1, 'г. Киров,Калужский': 1, 'г. М.О., г. Королёв': 1, 'г. Магнитогогрск': 1, 'г. Королев, М. О.': 1, 'г. Trondheim, Norway': 1, 'г. Разань, Москва': 1, 'г. Родники, Ивановская область': 1, 'г. Железноводск, Иноземцево': 1, 'г. 1111': 1, 'г. бавлы': 1, 'г. Бежецк Тверской области': 1, 'г. Дзержинск . Нижегородская обл.': 1, 'г. Городец, Нижегородская обл.': 1, 'г. Москва/область': 1, 'г. Красгогорск МО': 1, 'г. Москва и Таганрог': 1, 'г. Мурманск ОПЕРО': 1, 'г. Лобня, Московской области': 1, 'г. п.Колтуши, Всеволожского района, Ленинградской области': 1, 'г. Московская область Ленинский район': 1, 'г. Санкт-Птербург Пушкин': 1, 'г. г.Железногорск Красноярский край': 1, 'г. волжский волгоградской области': 1, 'г. Москва, до \"Горбушка\"': 1, 'г. г.Москва, ул. Люблинская': 1, 'г. Лосино-Петровский МО': 1, 'г. Брянск и Сураж': 1, 'г. МО, г Сергиев Посад': 1, 'г. Инта Республика Коми': 1, 'г. Череповец Вологодская обл.': 1, 'г. Город Псков': 1, 'г. ростов на-дону': 1, 'г. Урай, ХМАО': 1, 'г. Екатринбург': 1, 'г. г.Щелково МО': 1, 'г. Прохладный, КБР': 1, 'г. Рязань, Москва': 1, 'г. г.Ефремов Тульская обл.': 1, 'г. Верхняя Тура': 1, 'г. Воронеж, Люберцы': 1, 'г. Москва, отделение на Тверской': 1, 'г. Кириши, Ленинградская область': 1, 'г. ст.Северская Краснодарский край': 1, 'г. Красногорск. МО': 1, 'г. Солерудник': 1, 'г. Самара/СПб': 1, 'г. Ижевск-Казань': 1, 'г. МО. г.Черноголовка': 1, 'г. Магнитогорск, Челябинская обл.': 1, 'г. Долгопрудный.': 1, 'г. Санкт-Петербург, Сестрорецк': 1, 'г. г.Сасово Рязанской области': 1, 'г. MOSKVA': 1, 'г. Орехово-Зуево.': 1, 'г. Каменск -Шахтинский Ростовская область': 1, 'г. архангельск, тц гранд плаза': 1, 'г. не суть': 1, 'г. Иркутская область': 1, 'г. Тербуны': 1, 'г. Ефремов, Тульской области': 1, 'г. Москва, Кропоткинская': 1, 'г. Волгоград-Москва': 1, 'г. Мытищи, МО': 1, 'г. Москва - Тульская обл. г. Алексин': 1, 'г. Москва м.Сходненская': 1, 'г. Барнаул/Москва': 1, 'г. Москва, Калининград': 1, 'г. Столичбург': 1, 'г. Зея, Амурской обл.': 1, 'г. Заринск, Алтайский край': 1, 'г. везде': 1, 'г. Королев М.о.': 1, 'г. ЯРОСЛАВЛЬ': 1, 'г. Омск, Тюмень': 1, 'г. г.Отрадный самарская область': 1, 'г. Москва - ДО \"Таганское\"': 1, 'г. московская обл.г.Климовск': 1, 'г. Моск. Область Мытищинский филиал': 1, 'г. г.Каменск-Шахтинский': 1, 'г. СФО': 1, 'г. Москва, Земляной вал, 7': 1, 'г. Кимовск, Тульская область': 1, 'г. п.Спирово Тверская область': 1, 'г. Тула,': 1, 'г. Москва отделение Павелецкий': 1, 'г. Столичный': 1, 'г. Кузоватово, Ульяновская область': 1, 'г. Егорьевск, Московская обл.': 1, 'г. Лен. обл, г.Всеволожск': 1, 'г. г.Снежинск': 1, 'г. Не возможно получить необходимую информацию.': 1, 'г. Челябинск ул.Сони Кривой д. 30': 1, 'г. Москва, ул. Покровка, 10, стр. 1': 1, 'г. город Казань': 1, 'г. Москва и Красногорск': 1, 'г. Уфа, Кировский район, улица Кирова, 34': 1, 'г. мурманк': 1, 'г. Санкт-Петербург - Казань': 1, 'г. моска': 1, 'г. облигации ТКС': 1, 'г. Жулебино': 1, 'г. Москва!!!Столица нашей родины!!!': 1, 'г. Москва, стойка Траст в ТЦ Домодедовский': 1, 'г. Санкт-Петербург, РФ': 1, 'г. Aрхангельск': 1, 'г. от МСК 300 км': 1, 'г. Москва, Московская обл.': 1, 'г. Петухово': 1, 'г. г.Новодвинск Архангельская область': 1, 'г. М/об, Подольск': 1, 'г. Химки, Санкт-Петербург, Кувандык': 1, 'г. Камышин,Волгоградская область.': 1, 'г. Республика ТАТАРСТАН г.Нижнекамск': 1, 'г. Мирный, Якутия': 1, 'г. г. Жуковский, МО': 1, 'г. Самара операционный офис': 1, 'г. Росиия': 1, 'г. Москва (прошло ЧЕТЫРЕ рабочих дня!)': 1, 'г. Москва видимо': 1, 'г. Ульяновск, С.Петерпург': 1, 'г. СПб и Лен. обл.': 1, 'г. росто-на-дону': 1, 'г. Ивановская обл.  г.Родники': 1, 'г. Отд.№2009: Санкт-Петербург, г.Пушкин, Оранжерейная 46.': 1, 'г. Тверская область, Бежецк': 1, 'г. МО\\\\Подольск МО\\\\Видное': 1, 'г. Сбербанк на Привольной 65 Москва': 1, 'г. Великий Новгород, Санкт-Петербург': 1, 'г. с. Усть-кулом': 1, 'г. Реутово': 1, 'г. Mocква': 1, 'г. Холмск Сахалинская область': 1, 'г. БАЙКАЛЬСКИЙ БАНК': 1, 'г. Мква': 1, 'г. село Буздяк (Республика Башкортостан)': 1, 'г. Никогда небслуживался': 1, 'г. МО Подольск': 1, 'г. г. Черняховск': 1, 'г. Кредитно-кассовый офис «Санкт-Петербург Горьковский»': 1, 'г. МО Клин': 1, 'г. г. Богородицк Тульская облась': 1, 'г. Москва, ДО Отрадное': 1, 'г. Бобруйск': 1, 'г. г Одинцово': 1, 'г. г. Красноармейск': 1, 'г. Таганрог, Ростовская область': 1, 'г. С-Петербург, офис Василеостровский': 1, 'г. Vlg': 1, 'г. г.Славгород, Алтайский край': 1, 'г. усмань': 1, 'г. Волгоградская область город Палласовка': 1, 'г. Семибратово': 1, 'г. чехов': 1, 'г. Артем Приморского': 1, 'г. Москва, доп.офис \"Вернадский\"': 1, 'г. Москва, Николоямская ул., 31': 1, 'г. АРМАВИР': 1, 'г. Таиланд': 1, 'г. Москва, отделение Красные ворота': 1, 'г. М.О.г.СЕРГИЕВ ПОСАД': 1, 'г. г.Миасс': 1, 'г. мОСКВА': 1, 'г. Белово Кемеровская область': 1, 'г. Москва-Ульяновск': 1, 'г. Старый Оскол. Белгородская область': 1, 'г. г. Тольятти, ул. 70 лет Октября, 58а': 1, 'г. Челяинск': 1, 'г. Благовещенск, Амурская область': 1, 'г. MSK': 1, 'г. Mосква': 1, 'г. Александровское отд1861 Ставропольского края СБ РФ': 1, 'г. Бали': 1, 'г. москва-саратов': 1, 'г. Самара-Новокуйбышевск': 1, 'г. город Тюмень': 1, 'г. Вороново': 1, 'г. Internet': 1, 'г. Новогиреево': 1, 'г. Орехово-Зуево.Электросталь': 1, 'г. Москва - Германия': 1, 'г. Москва, Жуковский': 1, 'г. Санкт-Петербург Кемерово': 1, 'г. Москва, Одинцово.': 1, 'г. Волжский, Волгоградская область': 1, 'г. отделение Ленинский проспект': 1, 'г. Иркутск, Воронеж': 1, 'г. г.Нижнекамск, РТ': 1, 'г. москва, ул. Гончарная': 1, 'г. Назарово,Красноярский край': 1, 'г. Сургут Тюменская область': 1, 'г. Мос': 1, 'г. Екатеринбург , ДО Солнечный': 1, 'г. Москва, Ветошный пер': 1, 'г. г.Москва, отделение на Пятницкой': 1, 'г. Саратов, Ртищево': 1, 'г. Москва, Перово': 1, 'г. Москва (Жуковский)': 1, 'г. Москва и Московская облость': 1, 'г. Шумиха': 1, 'г. Северная Пальмира': 1, 'г. Уфа, Первомайская 30': 1, 'г. МО, г.Пушкино': 1, 'г. Питер/Сочи': 1, 'г. Крaснодaр': 1, 'г. N.Novgorod': 1, 'г. Cанкт-Петербург (Ленинский пр)': 1, 'г. г.Серпухов': 1, 'г. невинномысск': 1, 'г. Великие Луки, Псковской области': 1, 'г. 3 года с ТКС': 1, 'г. Ростов-на-Дону, бул. Комарова, 28б': 1, 'г. omsk': 1, 'г. Серо': 1, 'г. Москва, м. \"Октябрьское поле\"': 1, 'г. Оханск': 1, 'г. Большие Кайбицы': 1, 'г. Москва ул. Живописная, д. 24': 1, 'г. СМС по телефону': 1, 'г. Москва, Пречистенка': 1, 'г. Забайкальский край, г. Могоча, ул Клубная': 1, 'г. Москва и Щербинка': 1, 'г. Самара.': 1, 'г. г.Омск': 1, 'г. Москва доп.офис Павелецкое': 1, 'г. Салават Респ.Башкортостан': 1, 'г. ДО Пятигорск': 1, 'г. санкт-петербург,комендатский 12': 1, 'г. п.г.т.Новоспасское': 1, 'г. Москва офис \"Савеловский\"': 1, 'г. Москва (отделение Полянка)': 1, 'г. Хайфа, Израиль': 1, 'г. город Череповец, Вологодская область': 1, 'г. г. Горно-Алтайск': 1, 'г. Москва, офис  \"Рижский\"': 1, 'г. г. Уфа': 1, 'г. Новчеркасск': 1, 'г. Москва, кожевническая, 14': 1, 'г. Пушкино Московской области': 1, 'г. МО\\\\Подольск': 1, 'г. Москва, Омск': 1, 'г. Вел.Новгород': 1, 'г. поселок Новосергиевка': 1, 'г. Москва, Пушечное': 1, 'г. Санкт-Петербург г. Колпино': 1, 'г. Новокузнецк.Кемеровская обл.': 1, 'г. ногинск': 1, 'г. Ступино Московской области': 1, 'г. Москва, Тверская': 1, 'г. г.ЖЕЛЕЗНОДОРОЖНЫЙ': 1, 'г. Черняховск Калининградской области': 1, 'г. Ставропольский край, село Александровское': 1, 'г. Нвоосибирск': 1, 'г. М осква': 1, 'г. Неквалифицированный персонал': 1, 'г. Румянцево': 1, 'г. Манежная площадь, 2-8': 1, 'г. Центральный офис на ул. Зоологическая, д.26, стр.2': 1, 'г. Усолье-Сибирское, Ангарск': 1, 'г. Москва, Подмосковье.': 1, 'г. Москва,': 1, 'г. Клин Московской области': 1, 'г. Москва Строгино': 1, 'г. Cg,': 1, 'г. Санкт- Петербург, Ленинский пр-т 109': 1, 'г. р.п.Екатериновка Саратовской области': 1, 'г. Подольск Московской обл.': 1, 'г. г. Лебедянь': 1, 'г. Иркутск  Воронеж': 1, 'г. Москва-Сочи': 1, 'г. г. Прокопьевск, Кемеровкая область': 1, 'г. Приморский край с. Вольно - Надеждинское': 1, 'г. грайвороновская': 1, 'г. НеМосква': 1, 'г. Новое Девяткино Всеволожского р-на': 1, 'г. г. Киров': 1, 'г. Волгоград/Москва': 1, 'г. Челябинск, Москва': 1, 'г. Московская область, г.Видное': 1, 'г. г.Санкт-петербург': 1, 'г. г. Междуреченск Кемеровской области': 1, 'г. Москва\\\\Зеленоград': 1, 'г. C-Пб': 1, 'г. Москва. Отделение проспект мира.': 1, 'г. Томск.': 1, 'г. Сарапул, ул. Раскольникова 152б': 1, 'г. Москва, Северное Бутово': 1, 'г. Ленинградская обл': 1, 'г. Волжский Волгоградская обл': 1, 'г. нн': 1, 'г. Москва (Ленинский проспект 60/2)': 1, 'г. На Неве': 1, 'г. Казань-Москва': 1, 'г. г. МОСКВА': 1, 'г. Костромская область': 1, 'г. Сбербанк': 1, 'г. Обухово,Ногинский р-н': 1, 'г. Щелково, МО': 1, 'г. КОРОЛЁВ': 1, 'г. Челябинск, Ур. филиал, ул.Комунны-35': 1, 'г. Иркутск - Улан-Удэ': 1, 'г. Тинкофф кредитные системы': 1, 'г. Москва, Отделение на Сходненской': 1, 'г. г.Курск': 1, 'г. Ступино, МО': 1, 'г. СП-б': 1, 'г. г.Москва, г.Зеленоград': 1, 'г. Москва, Фрунзенский филиал': 1, 'г. Н.Новгород-Волгоград': 1, 'г. Москва, офис Южный': 1, 'г. Заречный, Пензенской области': 1, 'г. Санкт - петербург': 1, 'г. РнД': 1, 'г. Санк-Петербург г.Пушкин': 1, 'г. Ноябрьск, Тюменская область.': 1, 'г. ХМАО-Югра': 1, 'г. Москва ДО Тверская': 1, 'г. Москва,  Дополнительный офис Жулебино': 1, 'г. Cамара': 1, 'г. Ковров Владимирской обл': 1, 'г. с.Вольно -Надеждинское, Приморский край': 1, 'г. Волгоградский филиал на ул. Невская': 1, 'г. Новгород Великий': 1, 'г. Москва,м.Марьино': 1, 'г. офис на Просп.мира': 1, 'г. Москва,  ДО \"Жулебинский\"': 1, 'г. зеленоград корп1824': 1, 'г. Москва,отделение Кутузовское': 1, 'г. Оинцово': 1, 'г. г.Заречный': 1, 'г. Москва/Смоленск': 1, 'г. Москва, Земляной Вал': 1, 'г. г.железнодорожный': 1, 'г. Волгоград  (филиал Бинбанка на пр-те Ленина 10)': 1, 'г. Санкт-Петербурог': 1, 'г. Да собственно это единая проблема всех городов': 1, 'г. Челябинск - Москва': 1, 'г. Москва (офис у м.Новые Черемушки)': 1, 'г. Республика Калмыкия Элиста': 1, 'г. Москва ДО Павелецкий': 1, 'г. Москва,отделение \"ПОЛЯНКА\"': 1, 'г. Бухарест': 1, 'г. Самара главный офис': 1, 'г. Челябинск пр-т Ленина 45': 1, 'г. МО г.Дмитров': 1, 'г. Москва, Калининград, Омск, Тюмень': 1, 'г. г.Томск': 1, 'г. Королёв М. О.': 1, 'г. Московская область г. Балашиха': 1, 'г. город Пятигорск': 1, 'г. Питер-Москва': 1, 'г. Москва/Видное': 1, 'г. Шелехов, Иркутской обл.': 1, 'г. Пушкино, ОСБ 2570/0118': 1, 'г. УР': 1, 'г. Ростовская обл.': 1, 'г. г Ростов на Дону': 1, 'г. Ангарск, Иркутская обл.': 1, 'г. Гвардейск': 1, 'г. Иркутская обл. Ангарск': 1, 'г. г.Москва, офис Третьяковский': 1, 'г. г. Кострома': 1, 'г. г.Усть-Илимск,Иркутской области': 1, 'г. Лобня Московской области': 1, 'г. Cпб': 1, 'г. пос. Усть-Ордынский, Иркутская область': 1, 'г. Санкт-Петербург и область': 1, 'г. Djkujuhfl': 1, 'г. Москва, Кутузовский': 1, 'г. Cанкт- Петербург': 1, 'г. Москва, ДО Кутузовский': 1, 'г. Щелково Московскй области': 1, 'г. Белгород-Новый Уренгой': 1, 'г. Москва, отд. Мясницкая': 1, 'г. Москва, р-н Бутово': 1, 'г. Красноярский край, Минусинск': 1, 'г. Петрозаводский филиал': 1, 'г. Санкт Петербург.': 1, 'г. Массква': 1, 'г. Асбест Свердловской обл.': 1, 'г. Новосибирск-Барнаул-Кемерово-Томск': 1, 'г. в Москве': 1, 'г. Похоже у Сбера появилось моментальное зачисление на карты': 1, 'г. Москва; Преображенское отделение': 1, 'г. -': 1, 'г. Москва,  Отделение \"Жулебинское\"': 1, 'г. volgograd': 1, 'г. Королёв (М.О.) и  Москва': 1, 'г. Похвистнево, Самара': 1, 'г. Другой': 1, 'г. Ангарск Иркутская обл.': 1, 'г. Москва, отделение на проспекте Мира': 1, 'г. Королев Московская область': 1, 'г. Камышин, Волгоградская область': 1, 'г. самара, доп.офис на Полевой': 1, 'г. Москва, Даниловское': 1, 'г. внесение наличных на счет': 1, 'г. Г.Осинники': 1, 'г. Москва-Питер': 1, 'г. moscow city': 1, 'г. Москва, \"Китай-город\"': 1, 'г. Чувашия, п. Кугеси': 1, 'г. Казань, Нижнекамск': 1, 'г. Усть-Катав, Челябинской обл.': 1, 'г. Обслуживаюсь в Москве': 1, 'г. Москва, ДО \"Рублевское\"': 1, 'г. Острогожск Воронежской области': 1, 'г. доп.отделения на Кутузовском (Москва)': 1, 'г. Москва, отделение Кутузовский': 1, 'г. Ноябрьск, Красноярск': 1, 'г. Москва, отд. \"Автозаводское\"': 1, 'г. Люберцы, Москва': 1, 'г. г. Москва ул. Первомайская, д. 5': 1, 'г. CПб': 1, 'г. Повсеместно': 1, 'г. Томская область': 1, 'г. Москва, допофис Тверской': 1, 'г. Реутов М.О.': 1, 'г. Москва, ДО \"Мясницкий\"': 1, 'г. Москва/Подольск': 1, 'г. Москва,Войковский фил.': 1, 'г. ФИЛИАЛ г.ПЯТИГОРСК': 1, 'г. Москва (Химки)': 1, 'г. город Иваново.': 1, 'г. г.Шахты Ростов-на-Дону обл.': 1, 'г. г.Краснотурьинск Свердловская область': 1, 'г. Все': 1, 'г. Город Оленегорск, Мурманская область': 1, 'г. москау': 1, 'г. Альфасити': 1, 'г. Адлер (Сочи)': 1, 'г. МОСКОВСКАЯ ОБЛАСТЬ': 1, 'г. Красногорск, М.О.': 1, 'г. Москва, Мещанское отделение': 1, 'г. Игрим': 1, 'г. Новосибирск,': 1, 'г. Москва, Сергиев-Посад': 1, 'г. Московская область р\\\\п Большие Вяземы': 1, 'г. Москва ул.Луганская': 1, 'г. К-Чепецк': 1, 'г. Железногорск, Красноярского края': 1, 'г. г. Москва, Марьинский офис': 1, 'г. Екатеринбург-Москва': 1, 'г. Москва-Химки': 1, 'г. тверь - москва - тверь': 1, 'г. Москва/Санкт-Петербург': 1, 'г. Москва, отделение на Садовнической': 1, 'г. Город не имеет значения': 1, 'г. Курская обл.г.Железногорск': 1, 'г. Сочи, Адлерский район': 1, 'г. г. Ашхабад, Туркменистан': 1, 'г. Ст-Петербург': 1, 'г. Химки, Московская обл.': 1, 'г. Мо$ква': 1, 'г. Химки и Москва': 1, 'г. msk': 1, 'г. город Нижний Новгород': 1, 'г. Краснодар (ул. Длинная)': 1, 'г. г. Железнодорожный': 1, 'г. Москва, ДО \"Дмитровский\"': 1, 'г. Люберцы, Московская область': 1, 'г. г.Вельск': 1, 'г. г.Астрахань': 1, 'г. Тульская область': 1, 'г. Москва, Гончарная ул.': 1, 'г. москау.': 1, 'г. Братск и Москва': 1, 'г. Москва, Реутов, Балашиха': 1, 'г. РК': 1, 'г. г.Каменск-Уральский': 1, 'г. Учалы РБ': 1, 'г. Новосибирск-Новокузнецк': 1, 'г. Москва отделение банка в Марьино': 1, 'г. Москва (отделение на Валовой)': 1, 'г. А-вск': 1, 'г. Эл-сталь': 1, 'г. Екатеринбург.': 1, 'г. г.Шахты Ростовской области': 1, 'г. Москва/Калуга': 1, 'г. Москва, офис пр-т Андропова': 1, 'г. Москва (думаю там находится их справочная)': 1, 'г. Khimki': 1, 'г. Москва/Орел': 1, 'г. Москва, ДО Дубровка': 1, 'г. Свияжск': 1, 'г. город Ульяновск': 1, 'г. республика башкортостан': 1, 'г. Краснознаменск, Москва': 1, 'г. Железногорск, Красноярский край': 1, 'г. Красноярский край, г.Ачинск': 1, 'г. Саратов или Москва': 1, 'г. новосибирск военная 9': 1, 'г. Статья 24. Глава II. Защита прав потребителей при продаже товаров потребителям': 1, 'г. не Москва и не Питер': 1, 'г. Москва Сыромятнический пр-д,4': 1, 'г. г. Волжский Волгоградской области': 1, 'г. ДО Реутовский': 1, 'г. Понравилась электронная очередь в Сбере': 1, 'г. ст.Кущёвская, Краснодарский край': 1, 'г. г. саратов': 1, 'г. Мрсква': 1, 'г. Северо-Запад': 1, 'г. Ростовский филиал': 1, 'г. повсеместно': 1, 'г. москва, павелецкая': 1, 'г. Королёв МО': 1, 'г. г. Тольятти': 1, 'г. Оренбург (Орск)': 1, 'г. Ектб': 1, 'г. moscow': 1, 'г. Владимирская обл.': 1, 'г. г Уфа': 1, 'г. Москва, павелецкое отделение': 1, 'г. вся РФ': 1, 'г. Москва-Владимир': 1, 'г. СПб.': 1, 'г. Краснодарский край, ст.Павловская': 1})\n"
     ]
    }
   ],
   "source": [
    "counts_ = Counter(count_C)\n",
    "print(counts_)"
   ]
  },
  {
   "cell_type": "code",
   "execution_count": null,
   "metadata": {},
   "outputs": [],
   "source": []
  },
  {
   "cell_type": "code",
   "execution_count": 46,
   "metadata": {},
   "outputs": [
    {
     "data": {
      "application/vnd.jupyter.widget-view+json": {
       "model_id": "5019026c148e47bdabcddff8292f441a",
       "version_major": 2,
       "version_minor": 0
      },
      "text/html": [
       "<p>Failed to display Jupyter Widget of type <code>HBox</code>.</p>\n",
       "<p>\n",
       "  If you're reading this message in the Jupyter Notebook or JupyterLab Notebook, it may mean\n",
       "  that the widgets JavaScript is still loading. If this message persists, it\n",
       "  likely means that the widgets JavaScript library is either not installed or\n",
       "  not enabled. See the <a href=\"https://ipywidgets.readthedocs.io/en/stable/user_install.html\">Jupyter\n",
       "  Widgets Documentation</a> for setup instructions.\n",
       "</p>\n",
       "<p>\n",
       "  If you're reading this message in another frontend (for example, a static\n",
       "  rendering on GitHub or <a href=\"https://nbviewer.jupyter.org/\">NBViewer</a>),\n",
       "  it may mean that your frontend doesn't currently support widgets.\n",
       "</p>\n"
      ],
      "text/plain": [
       "HBox(children=(IntProgress(value=0, max=201030), HTML(value='')))"
      ]
     },
     "metadata": {},
     "output_type": "display_data"
    },
    {
     "name": "stdout",
     "output_type": "stream",
     "text": [
      "\n",
      "('в', 22372)\n",
      "('не', 17375)\n",
      "('и', 15516)\n",
      "('на', 14357)\n",
      "('с', 13532)\n",
      "('по', 10508)\n",
      "('Не', 8829)\n",
      "('банка', 8769)\n",
      "('деньги', 7609)\n",
      "('карты', 7444)\n"
     ]
    }
   ],
   "source": [
    "from collections import Counter\n",
    "from tqdm import tqdm_notebook as tqdm\n",
    "cnt = Counter()\n",
    "n_types = []\n",
    "n_tokens = []\n",
    "tokens = []\n",
    "for index, row in tqdm(df.iterrows(), total = len(df)):\n",
    "    tokens = row['title'].split()\n",
    "    cnt.update(tokens)\n",
    "    n_types.append(len(cnt))\n",
    "    n_tokens.append(sum(cnt.values()))\n",
    "for i in cnt.most_common(10):\n",
    "    print(i)"
   ]
  },
  {
   "cell_type": "code",
   "execution_count": null,
   "metadata": {},
   "outputs": [],
   "source": []
  },
  {
   "cell_type": "code",
   "execution_count": null,
   "metadata": {},
   "outputs": [],
   "source": []
  },
  {
   "cell_type": "code",
   "execution_count": null,
   "metadata": {},
   "outputs": [],
   "source": []
  },
  {
   "cell_type": "code",
   "execution_count": null,
   "metadata": {},
   "outputs": [],
   "source": []
  },
  {
   "cell_type": "code",
   "execution_count": null,
   "metadata": {},
   "outputs": [],
   "source": []
  },
  {
   "cell_type": "code",
   "execution_count": null,
   "metadata": {},
   "outputs": [],
   "source": []
  },
  {
   "cell_type": "code",
   "execution_count": null,
   "metadata": {},
   "outputs": [],
   "source": []
  },
  {
   "cell_type": "code",
   "execution_count": null,
   "metadata": {},
   "outputs": [],
   "source": []
  },
  {
   "cell_type": "code",
   "execution_count": null,
   "metadata": {},
   "outputs": [],
   "source": []
  },
  {
   "cell_type": "code",
   "execution_count": null,
   "metadata": {},
   "outputs": [],
   "source": [
    "\n",
    "index = 0\n",
    "while index < len(responses):\n",
    "    for key in responses[index]:\n",
    "        print(responses[index][key])\n",
    "    index += 1"
   ]
  },
  {
   "cell_type": "code",
   "execution_count": null,
   "metadata": {},
   "outputs": [],
   "source": []
  },
  {
   "cell_type": "code",
   "execution_count": null,
   "metadata": {},
   "outputs": [],
   "source": []
  },
  {
   "cell_type": "code",
   "execution_count": 10,
   "metadata": {},
   "outputs": [
    {
     "ename": "NameError",
     "evalue": "name 'inpt' is not defined",
     "output_type": "error",
     "traceback": [
      "\u001b[0;31m---------------------------------------------------------------------------\u001b[0m",
      "\u001b[0;31mNameError\u001b[0m                                 Traceback (most recent call last)",
      "\u001b[0;32m<ipython-input-10-8c6021f26d1c>\u001b[0m in \u001b[0;36m<module>\u001b[0;34m()\u001b[0m\n\u001b[0;32m----> 1\u001b[0;31m \u001b[0mmap\u001b[0m\u001b[0;34m(\u001b[0m \u001b[0;32mlambda\u001b[0m \u001b[0mx\u001b[0m\u001b[0;34m:\u001b[0m \u001b[0mflattenjson\u001b[0m\u001b[0;34m(\u001b[0m \u001b[0mx\u001b[0m\u001b[0;34m,\u001b[0m \u001b[0;34m\"__\"\u001b[0m \u001b[0;34m)\u001b[0m\u001b[0;34m,\u001b[0m \u001b[0minpt\u001b[0m \u001b[0;34m)\u001b[0m\u001b[0;34m\u001b[0m\u001b[0m\n\u001b[0m",
      "\u001b[0;31mNameError\u001b[0m: name 'inpt' is not defined"
     ]
    }
   ],
   "source": []
  },
  {
   "cell_type": "code",
   "execution_count": null,
   "metadata": {},
   "outputs": [],
   "source": []
  },
  {
   "cell_type": "code",
   "execution_count": null,
   "metadata": {},
   "outputs": [],
   "source": []
  }
 ],
 "metadata": {
  "kernelspec": {
   "display_name": "Python 3",
   "language": "python",
   "name": "python3"
  },
  "language_info": {
   "codemirror_mode": {
    "name": "ipython",
    "version": 3
   },
   "file_extension": ".py",
   "mimetype": "text/x-python",
   "name": "python",
   "nbconvert_exporter": "python",
   "pygments_lexer": "ipython3",
   "version": "3.6.4"
  }
 },
 "nbformat": 4,
 "nbformat_minor": 2
}
